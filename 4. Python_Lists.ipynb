{
  "cells": [
    {
      "cell_type": "markdown",
      "metadata": {
        "id": "view-in-github",
        "colab_type": "text"
      },
      "source": [
        "<a href=\"https://colab.research.google.com/github/Aidi379/Python_fundamental/blob/main/4.%20Python_Lists.ipynb\" target=\"_parent\"><img src=\"https://colab.research.google.com/assets/colab-badge.svg\" alt=\"Open In Colab\"/></a>"
      ]
    },
    {
      "cell_type": "code",
      "execution_count": 1,
      "metadata": {
        "colab": {
          "base_uri": "https://localhost:8080/"
        },
        "id": "F27HZd8a60zD",
        "outputId": "aab3f6f2-b5a7-42a5-e8f7-53169f8827ab"
      },
      "outputs": [
        {
          "output_type": "execute_result",
          "data": {
            "text/plain": [
              "['Apple', 'Samsung', 'Alibaba', 'Novo Nordisk', 'Naspers']"
            ]
          },
          "metadata": {},
          "execution_count": 1
        }
      ],
      "source": [
        "# In Python, a list is a collection of items that are ordered and have specific index\n",
        "# A list is defined using square brackets [], we separate elements in a list by commas\n",
        "# A list can have items with various datatypes such as integers, floats, or strings\n",
        "# Let's define a list of U.S., European, Asian and African companies\n",
        "\n",
        "my_companies = ['Apple', 'Samsung', 'Alibaba', 'Novo Nordisk', 'Naspers']\n",
        "my_companies"
      ]
    },
    {
      "cell_type": "code",
      "execution_count": 2,
      "metadata": {
        "colab": {
          "base_uri": "https://localhost:8080/"
        },
        "id": "AeHE6akU70RX",
        "outputId": "27321cf9-58ca-4aa9-e9f1-da88827cd974"
      },
      "outputs": [
        {
          "output_type": "execute_result",
          "data": {
            "text/plain": [
              "list"
            ]
          },
          "metadata": {},
          "execution_count": 2
        }
      ],
      "source": [
        "# Obtain the datatype for our list\n",
        "# Remember that we now know the following types: integers, floats, strings, and lists\n",
        "type(my_companies)"
      ]
    },
    {
      "cell_type": "code",
      "execution_count": 3,
      "metadata": {
        "colab": {
          "base_uri": "https://localhost:8080/"
        },
        "id": "dcr7vAq5ecY4",
        "outputId": "4e2c4963-129c-4bfe-d846-f436f1cc23d1"
      },
      "outputs": [
        {
          "output_type": "execute_result",
          "data": {
            "text/plain": [
              "[365.81, 240, 109, 22.4, 5.9]"
            ]
          },
          "metadata": {},
          "execution_count": 3
        }
      ],
      "source": [
        "# You can also have a list with integers and floating points\n",
        "# Let's obtain a list containing revenues of the previously mentioned companies in 2021 [in billions]\n",
        "# Note that we now have a mix of datatypes (integers and floats) in one list (numbers are approximated)\n",
        "my_companies_revenues = [365.81, 240, 109, 22.4, 5.9]\n",
        "my_companies_revenues"
      ]
    },
    {
      "cell_type": "code",
      "execution_count": 4,
      "metadata": {
        "colab": {
          "base_uri": "https://localhost:8080/",
          "height": 35
        },
        "id": "XZZiMb2c70f6",
        "outputId": "3f4caea5-be5d-4a21-c699-11d346bff831"
      },
      "outputs": [
        {
          "output_type": "execute_result",
          "data": {
            "text/plain": [
              "'Apple'"
            ],
            "application/vnd.google.colaboratory.intrinsic+json": {
              "type": "string"
            }
          },
          "metadata": {},
          "execution_count": 4
        }
      ],
      "source": [
        "# We use indexing to access specific elements in the list\n",
        "# Note that the first element in the list has an index of 0 (little confusing but you'll get used to it!)\n",
        "my_companies = ['Apple', 'Samsung', 'Alibaba', 'Novo Nordisk', 'Naspers']\n",
        "my_companies[0]"
      ]
    },
    {
      "cell_type": "code",
      "execution_count": 5,
      "metadata": {
        "colab": {
          "base_uri": "https://localhost:8080/"
        },
        "id": "-Bw1wI_h70dw",
        "outputId": "a3e9d0b4-010c-46d3-c224-e1f1d16e4167"
      },
      "outputs": [
        {
          "output_type": "execute_result",
          "data": {
            "text/plain": [
              "['Samsung', 'Alibaba', 'Novo Nordisk']"
            ]
          },
          "metadata": {},
          "execution_count": 5
        }
      ],
      "source": [
        "# We can use list slicing to obtain more than one element from a list\n",
        "# Obtain elements starting from index 1 up to and not including element with index 4\n",
        "my_companies[1:4]"
      ]
    },
    {
      "cell_type": "code",
      "execution_count": 6,
      "metadata": {
        "colab": {
          "base_uri": "https://localhost:8080/"
        },
        "id": "VGsNNIpn9ILB",
        "outputId": "82ae9d83-4a3d-4bd1-f75d-72a23d1b1780"
      },
      "outputs": [
        {
          "output_type": "execute_result",
          "data": {
            "text/plain": [
              "['Alibaba', 'Novo Nordisk', 'Naspers']"
            ]
          },
          "metadata": {},
          "execution_count": 6
        }
      ],
      "source": [
        "# Obtain elements starting from index 2 to end\n",
        "my_companies[2:]"
      ]
    },
    {
      "cell_type": "code",
      "execution_count": 7,
      "metadata": {
        "colab": {
          "base_uri": "https://localhost:8080/"
        },
        "id": "W0Z8oCAC9IJL",
        "outputId": "1eda1c09-ba98-46f3-e2ec-c51c8c32bd77"
      },
      "outputs": [
        {
          "output_type": "execute_result",
          "data": {
            "text/plain": [
              "['Apple', 'Samsung', 'Alibaba', 'Novo Nordisk', 'Naspers']"
            ]
          },
          "metadata": {},
          "execution_count": 7
        }
      ],
      "source": [
        "# Print out all elements start to end\n",
        "my_companies[:]"
      ]
    },
    {
      "cell_type": "code",
      "execution_count": 8,
      "metadata": {
        "colab": {
          "base_uri": "https://localhost:8080/"
        },
        "id": "Z4sY6MEJ9IGv",
        "outputId": "9ac887a5-5b2c-4f1c-c809-2d055fef28c1"
      },
      "outputs": [
        {
          "output_type": "execute_result",
          "data": {
            "text/plain": [
              "5"
            ]
          },
          "metadata": {},
          "execution_count": 8
        }
      ],
      "source": [
        "# you can use the len() function to obtain the length of the list (i.e.: how many elements in the list)\n",
        "len(my_companies)"
      ]
    },
    {
      "cell_type": "markdown",
      "metadata": {
        "id": "Q1qcVBl7G1GO"
      },
      "source": [
        "**PRACTICE OPPORTUNITY:**\n",
        "\n",
        "- **Assume that you work as a financial analyst and you decided to list 9 dividend-paying companies in the U.S. in a Python list named \"dividend_companies\" as shown below:**\n",
        "\n",
        "```\n",
        "        dividend_companies = ['Pioneer Natural Resources Co. (ticker: PXD)', 'Lumen Technologies Inc. (LUMN)', 'Altria Group Inc. (MO)', 'Vornado Realty Trust (VNO)', 'Devon Energy Corp. (DVN)', 'AT&T Inc. (T)', 'Simon Property Group Inc. (SPG)', 'Verizon Communications Inc. (VZ)', 'Kinder Morgan Inc. (KMI)']\n",
        "```\n",
        "\n",
        "   - **1. Print the first, second and fourth elements individually**\n",
        "   - **2. Print the last element using 3 different methods (external research is required)**\n",
        "   - **3. Print all elements in the list, first 3 elements, and last three elements**\n"
      ]
    },
    {
      "cell_type": "code",
      "execution_count": 11,
      "metadata": {
        "colab": {
          "base_uri": "https://localhost:8080/",
          "height": 35
        },
        "id": "0Se3L4PPecY6",
        "outputId": "f2fe212e-017b-415c-fdc6-d6823e56252d"
      },
      "outputs": [
        {
          "output_type": "execute_result",
          "data": {
            "text/plain": [
              "'Pioneer Natural Resources Co. (ticker: PXD)'"
            ],
            "application/vnd.google.colaboratory.intrinsic+json": {
              "type": "string"
            }
          },
          "metadata": {},
          "execution_count": 11
        }
      ],
      "source": [
        "dividend_companies = ['Pioneer Natural Resources Co. (ticker: PXD)', 'Lumen Technologies Inc. (LUMN)', 'Altria Group Inc. (MO)', 'Vornado Realty Trust (VNO)', 'Devon Energy Corp. (DVN)', 'AT&T Inc. (T)', 'Simon Property Group Inc. (SPG)', 'Verizon Communications Inc. (VZ)', 'Kinder Morgan Inc. (KMI)']\n",
        "dividend_companies [0]\n"
      ]
    },
    {
      "cell_type": "code",
      "execution_count": 12,
      "metadata": {
        "colab": {
          "base_uri": "https://localhost:8080/",
          "height": 35
        },
        "id": "IugAjeZoecY7",
        "outputId": "3dbe9c60-6ad2-4096-daf8-761971b0c856"
      },
      "outputs": [
        {
          "output_type": "execute_result",
          "data": {
            "text/plain": [
              "'Lumen Technologies Inc. (LUMN)'"
            ],
            "application/vnd.google.colaboratory.intrinsic+json": {
              "type": "string"
            }
          },
          "metadata": {},
          "execution_count": 12
        }
      ],
      "source": [
        "dividend_companies [1]"
      ]
    },
    {
      "cell_type": "code",
      "execution_count": 16,
      "metadata": {
        "colab": {
          "base_uri": "https://localhost:8080/",
          "height": 35
        },
        "id": "fF0g8d7iecY7",
        "outputId": "750c6142-e9fc-4a8f-9906-3c8318ba0360"
      },
      "outputs": [
        {
          "output_type": "execute_result",
          "data": {
            "text/plain": [
              "'Vornado Realty Trust (VNO)'"
            ],
            "application/vnd.google.colaboratory.intrinsic+json": {
              "type": "string"
            }
          },
          "metadata": {},
          "execution_count": 16
        }
      ],
      "source": [
        "dividend_companies [3]\n"
      ]
    },
    {
      "cell_type": "code",
      "execution_count": 23,
      "metadata": {
        "colab": {
          "base_uri": "https://localhost:8080/",
          "height": 35
        },
        "id": "mSaF3O-hecY7",
        "outputId": "f75b03d8-ef6c-46f9-ed8a-9a7f8e258586"
      },
      "outputs": [
        {
          "output_type": "execute_result",
          "data": {
            "text/plain": [
              "'Kinder Morgan Inc. (KMI)'"
            ],
            "application/vnd.google.colaboratory.intrinsic+json": {
              "type": "string"
            }
          },
          "metadata": {},
          "execution_count": 23
        }
      ],
      "source": [
        "dividend_companies [-1]"
      ]
    },
    {
      "cell_type": "code",
      "execution_count": 17,
      "metadata": {
        "colab": {
          "base_uri": "https://localhost:8080/"
        },
        "id": "8jTPB1DDecY7",
        "outputId": "b3419188-527d-4529-aedd-f975ccec61ce"
      },
      "outputs": [
        {
          "output_type": "execute_result",
          "data": {
            "text/plain": [
              "9"
            ]
          },
          "metadata": {},
          "execution_count": 17
        }
      ],
      "source": [
        "len(dividend_companies)"
      ]
    },
    {
      "cell_type": "markdown",
      "metadata": {
        "id": "OlonkaQNGdsP"
      },
      "source": [
        "# PRACTICE OPPORTUNITY SOLUTION"
      ]
    },
    {
      "cell_type": "markdown",
      "metadata": {
        "id": "BstQhfx_ecY7"
      },
      "source": [
        "**PRACTICE OPPORTUNITY SOLUTION:**\n",
        "\n",
        "- **Assume that you work as a financial analyst and you decided to list 9 dividend-paying companies in the U.S. in a Python list named \"dividend_companies\" as shown below:**\n",
        "\n",
        "```\n",
        "        dividend_companies = ['Pioneer Natural Resources Co. (ticker: PXD)', 'Lumen Technologies Inc. (LUMN)', 'Altria Group Inc. (MO)', 'Vornado Realty Trust (VNO)', 'Devon Energy Corp. (DVN)', 'AT&T Inc. (T)', 'Simon Property Group Inc. (SPG)', 'Verizon Communications Inc. (VZ)', 'Kinder Morgan Inc. (KMI)']\n",
        "```\n",
        "\n",
        "   - **1. Print the first, second and fourth elements individually**\n",
        "   - **2. Print the last element using 3 different methods (external research is required)**\n",
        "   - **3. Print all elements in the list, first 3 elements, and last three elements**\n"
      ]
    },
    {
      "cell_type": "code",
      "execution_count": null,
      "metadata": {
        "id": "adQzmLx7Y7p7"
      },
      "outputs": [],
      "source": [
        "dividend_companies = ['Pioneer Natural Resources Co. (ticker: PXD)',\n",
        "                      'Lumen Technologies Inc. (LUMN)',\n",
        "                      'Altria Group Inc. (MO)',\n",
        "                      'Vornado Realty Trust (VNO)',\n",
        "                      'Devon Energy Corp. (DVN)',\n",
        "                      'AT&T Inc. (T)',\n",
        "                      'Simon Property Group Inc. (SPG)',\n",
        "                      'Verizon Communications Inc. (VZ)',\n",
        "                      'Kinder Morgan Inc. (KMI)']"
      ]
    },
    {
      "cell_type": "code",
      "execution_count": null,
      "metadata": {
        "id": "H2TK8NzYecY7",
        "outputId": "8ef002bb-27aa-420c-986b-7bfe082b2eaa"
      },
      "outputs": [
        {
          "name": "stdout",
          "output_type": "stream",
          "text": [
            "Pioneer Natural Resources Co. (ticker: PXD)\n"
          ]
        }
      ],
      "source": [
        "# The first element has an index of 0\n",
        "print(dividend_companies[0])"
      ]
    },
    {
      "cell_type": "code",
      "execution_count": null,
      "metadata": {
        "id": "Wk1D842oecY8",
        "outputId": "8da63e48-29f3-41fd-adc7-6a318e3a955f"
      },
      "outputs": [
        {
          "name": "stdout",
          "output_type": "stream",
          "text": [
            "Lumen Technologies Inc. (LUMN)\n"
          ]
        }
      ],
      "source": [
        "# The second element has an index of 1\n",
        "print(dividend_companies[1])"
      ]
    },
    {
      "cell_type": "code",
      "execution_count": null,
      "metadata": {
        "id": "vZ8Qdo8PecY8",
        "outputId": "41e5a145-ff5d-43d0-fa32-6f633d9670c8"
      },
      "outputs": [
        {
          "name": "stdout",
          "output_type": "stream",
          "text": [
            "Vornado Realty Trust (VNO)\n"
          ]
        }
      ],
      "source": [
        "# The fourth element has an index of 3\n",
        "print(dividend_companies[3])"
      ]
    },
    {
      "cell_type": "code",
      "execution_count": null,
      "metadata": {
        "id": "_cLEHBTiecY8",
        "outputId": "22945e18-ebf3-4dfc-a1fc-9c64aeed1b4c"
      },
      "outputs": [
        {
          "name": "stdout",
          "output_type": "stream",
          "text": [
            "Kinder Morgan Inc. (KMI)\n",
            "Kinder Morgan Inc. (KMI)\n",
            "Kinder Morgan Inc. (KMI)\n"
          ]
        }
      ],
      "source": [
        "# The last element can be accessed using index -1\n",
        "# Alternatively, you can use len(list)-1\n",
        "# Alternatively, you can manually count the number of elements and specify the index (note that you need to start counting from index 0)\n",
        "print(dividend_companies[-1])\n",
        "print(dividend_companies[len(dividend_companies)-1])\n",
        "print(dividend_companies[8])\n"
      ]
    },
    {
      "cell_type": "code",
      "execution_count": null,
      "metadata": {
        "id": "91Kh884mecY9",
        "outputId": "69cc48da-395b-4944-c5d8-28e7a328de50"
      },
      "outputs": [
        {
          "name": "stdout",
          "output_type": "stream",
          "text": [
            "['Pioneer Natural Resources Co. (ticker: PXD)', 'Lumen Technologies Inc. (LUMN)', 'Altria Group Inc. (MO)', 'Vornado Realty Trust (VNO)', 'Devon Energy Corp. (DVN)', 'AT&T Inc. (T)', 'Simon Property Group Inc. (SPG)', 'Verizon Communications Inc. (VZ)', 'Kinder Morgan Inc. (KMI)']\n"
          ]
        }
      ],
      "source": [
        "# You can use the colon \":\" to print all elements in the list\n",
        "print(dividend_companies[:])"
      ]
    },
    {
      "cell_type": "code",
      "execution_count": null,
      "metadata": {
        "id": "0aXUEJcmecY9",
        "outputId": "7e02d9b8-41be-467f-de2e-6c8fdf917e43"
      },
      "outputs": [
        {
          "name": "stdout",
          "output_type": "stream",
          "text": [
            "['Pioneer Natural Resources Co. (ticker: PXD)', 'Lumen Technologies Inc. (LUMN)', 'Altria Group Inc. (MO)']\n"
          ]
        }
      ],
      "source": [
        "# Print the first 3 elements in the list\n",
        "print(dividend_companies[0:3])"
      ]
    },
    {
      "cell_type": "code",
      "execution_count": null,
      "metadata": {
        "scrolled": true,
        "id": "tSOSWsuhecY9",
        "outputId": "15cd8bc4-d66c-4d52-b633-d6ee553367a0"
      },
      "outputs": [
        {
          "name": "stdout",
          "output_type": "stream",
          "text": [
            "['Simon Property Group Inc. (SPG)', 'Verizon Communications Inc. (VZ)', 'Kinder Morgan Inc. (KMI)']\n"
          ]
        }
      ],
      "source": [
        "# print the last 3 elements in the list\n",
        "print(dividend_companies[6:])"
      ]
    },
    {
      "cell_type": "markdown",
      "metadata": {
        "id": "sK-x8DkSecY9"
      },
      "source": [
        "# EXCELLENT JOB!"
      ]
    }
  ],
  "metadata": {
    "colab": {
      "provenance": [],
      "include_colab_link": true
    },
    "kernelspec": {
      "display_name": "Python 3 (ipykernel)",
      "language": "python",
      "name": "python3"
    },
    "language_info": {
      "codemirror_mode": {
        "name": "ipython",
        "version": 3
      },
      "file_extension": ".py",
      "mimetype": "text/x-python",
      "name": "python",
      "nbconvert_exporter": "python",
      "pygments_lexer": "ipython3",
      "version": "3.8.8"
    }
  },
  "nbformat": 4,
  "nbformat_minor": 0
}