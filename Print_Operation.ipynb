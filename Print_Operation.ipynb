{
  "cells": [
    {
      "cell_type": "markdown",
      "metadata": {
        "id": "view-in-github",
        "colab_type": "text"
      },
      "source": [
        "<a href=\"https://colab.research.google.com/github/Aidi379/Python_fundamental/blob/main/Print_Operation.ipynb\" target=\"_parent\"><img src=\"https://colab.research.google.com/assets/colab-badge.svg\" alt=\"Open In Colab\"/></a>"
      ]
    },
    {
      "cell_type": "code",
      "execution_count": 1,
      "metadata": {
        "id": "24C6OdB8fGBU"
      },
      "outputs": [],
      "source": [
        "# Print function is used to print a message to the screen. The message is in a form of \"string\".\n",
        "# A string in Python is a sequence of characters that are surrounded by single or double quotation marks\n",
        "# Let's define a string named \"message\"\n",
        "message = \"Apple annual revenue in 2022 was $394B\""
      ]
    },
    {
      "cell_type": "code",
      "execution_count": 2,
      "metadata": {
        "colab": {
          "base_uri": "https://localhost:8080/"
        },
        "id": "cNpO9OHrfGBV",
        "outputId": "19761bfc-ce3e-4472-bb5a-a367fee265a4"
      },
      "outputs": [
        {
          "output_type": "execute_result",
          "data": {
            "text/plain": [
              "str"
            ]
          },
          "metadata": {},
          "execution_count": 2
        }
      ],
      "source": [
        "# Let's obtain the datatype for the string 'message'\n",
        "# Note that \"str\" stands for string which is a sequence of characters\n",
        "type(message)"
      ]
    },
    {
      "cell_type": "code",
      "execution_count": 3,
      "metadata": {
        "colab": {
          "base_uri": "https://localhost:8080/"
        },
        "id": "EMmLE6pLfGBW",
        "outputId": "dbf86097-7465-4bf2-978f-eeff0145a38c"
      },
      "outputs": [
        {
          "output_type": "stream",
          "name": "stdout",
          "text": [
            "Apple annual revenue in 2022 was $394B\n"
          ]
        }
      ],
      "source": [
        "# Let's print out the message to the screen\n",
        "print(message)"
      ]
    },
    {
      "cell_type": "code",
      "execution_count": 4,
      "metadata": {
        "colab": {
          "base_uri": "https://localhost:8080/"
        },
        "id": "6bJPk7rbfGBW",
        "outputId": "ac449912-930d-44cf-8554-fd8f5f745f4d"
      },
      "outputs": [
        {
          "output_type": "stream",
          "name": "stdout",
          "text": [
            "Apple annual revenue in 2022 was $394B\n"
          ]
        }
      ],
      "source": [
        "# We can generate the same output using one line of code instead\n",
        "print(\"Apple annual revenue in 2022 was $394B\")"
      ]
    },
    {
      "cell_type": "code",
      "execution_count": 5,
      "metadata": {
        "colab": {
          "base_uri": "https://localhost:8080/"
        },
        "id": "ZdvMGTCffGBW",
        "outputId": "fbc5fd31-425a-452b-f0e1-1b49df54d78d"
      },
      "outputs": [
        {
          "output_type": "stream",
          "name": "stdout",
          "text": [
            "Apple annual revenue in 2022 was $394B\n"
          ]
        }
      ],
      "source": [
        "# In some cases, we want to print generalized print statements to the screen so we use the format method to handle this\n",
        "# The format() method formats the specified value and insert it in the placeholder\n",
        "# The placeholder is defined using curly braces: {}\n",
        "\n",
        "year = 2022\n",
        "print(\"Apple annual revenue in {} was $394B\".format(year))"
      ]
    },
    {
      "cell_type": "code",
      "execution_count": 6,
      "metadata": {
        "colab": {
          "base_uri": "https://localhost:8080/"
        },
        "id": "KPpv3CjgfGBW",
        "outputId": "7ffe1f12-d6ac-4d1b-fc46-6a18e29e34e7"
      },
      "outputs": [
        {
          "output_type": "stream",
          "name": "stdout",
          "text": [
            "Apple annual revenue in 2022 was $394B\n"
          ]
        }
      ],
      "source": [
        "# You can place two or more placeholders with print() function\n",
        "# Note that order is important\n",
        "\n",
        "year = 2022\n",
        "revenue = 394\n",
        "print(\"Apple annual revenue in {} was ${}B\".format(year, revenue))"
      ]
    },
    {
      "cell_type": "markdown",
      "metadata": {
        "id": "GkhcdkIhfGBX"
      },
      "source": [
        "**PRACTICE OPPORTUNITY:**\n",
        "- **Write a Python code that performs the following tasks:**  \n",
        "    - **1. Prints out the following message to the screen:**\n",
        "            \"Procter and Gamble (P&G), which reports using US GAAP, sold a piece of land for $500000\"\n",
        "    - **2. Generalize your code to the company name, reporting standard, and dollar amount**\n",
        "    - **3. Test your code and perform a sanity check**\n",
        "\n",
        "\n",
        "**Hint: For task 2, you will need to define three variables for company name, reporting standard, and dollar amount and use the format method with the print function.**"
      ]
    },
    {
      "cell_type": "code",
      "execution_count": 7,
      "metadata": {
        "id": "iMrTP-41fGBX"
      },
      "outputs": [],
      "source": [
        "message = \"Procter and Gamble (P&G), which reports using US GAAP, sold a piece of land for $500000\""
      ]
    },
    {
      "cell_type": "code",
      "execution_count": 8,
      "metadata": {
        "colab": {
          "base_uri": "https://localhost:8080/"
        },
        "id": "rAHSkGKGfGBX",
        "outputId": "bb5949cf-bd96-4c0b-87d2-2079fff61368"
      },
      "outputs": [
        {
          "output_type": "stream",
          "name": "stdout",
          "text": [
            "Procter and Gamble (P&G), which reports using US GAAP, sold a piece of land for $500000\n"
          ]
        }
      ],
      "source": [
        "print(message)"
      ]
    },
    {
      "cell_type": "code",
      "execution_count": 9,
      "metadata": {
        "id": "tRxYnOxUfGBX"
      },
      "outputs": [],
      "source": [
        "company = \"Procter and Gamble (P&G)\""
      ]
    },
    {
      "cell_type": "code",
      "execution_count": 10,
      "metadata": {
        "id": "pBWjLzHJfGBX"
      },
      "outputs": [],
      "source": [
        "reporting = \"US GAAP\""
      ]
    },
    {
      "cell_type": "code",
      "execution_count": 11,
      "metadata": {
        "id": "J1JdPRqffGBX"
      },
      "outputs": [],
      "source": [
        "price = 500000"
      ]
    },
    {
      "cell_type": "code",
      "execution_count": 12,
      "metadata": {
        "colab": {
          "base_uri": "https://localhost:8080/"
        },
        "id": "Ew0m1b2bfGBY",
        "outputId": "9bbad60b-d9f5-4a3e-fa30-6e57a686f1d8"
      },
      "outputs": [
        {
          "output_type": "stream",
          "name": "stdout",
          "text": [
            "Procter and Gamble (P&G), which reports using US GAAP, sold a piece of land for $500000\n"
          ]
        }
      ],
      "source": [
        "print(\"{}, which reports using {}, sold a piece of land for ${}\".format(company, reporting, price))"
      ]
    },
    {
      "cell_type": "code",
      "execution_count": null,
      "metadata": {
        "id": "bYMDGWiWfGBY"
      },
      "outputs": [],
      "source": []
    },
    {
      "cell_type": "markdown",
      "metadata": {
        "id": "HEvBJrqgfGBY"
      },
      "source": [
        "# PRACTICE OPPORTUNITY SOLUTION"
      ]
    },
    {
      "cell_type": "markdown",
      "metadata": {
        "id": "nRYDNHOCfGBY"
      },
      "source": [
        "**PRACTICE OPPORTUNITY SOLUTION:**\n",
        "- **Write a Python code that performs the following tasks:**  \n",
        "    - **1. Prints out the following message to the screen:**\n",
        "            \"Procter and Gamble (P&G), which reports using US GAAP, sold a piece of land for $500000\"\n",
        "    - **2. Generalize your code to the company name, reporting standard, and dollar amount**\n",
        "    - **3. Test your code and perform a sanity check**\n",
        "\n",
        "\n",
        "**Hint: For task 2, you will need to define three variables for company name, reporting standard, and dollar amount and use the format method with the print function.**"
      ]
    },
    {
      "cell_type": "code",
      "execution_count": null,
      "metadata": {
        "id": "X0aPoSx2fGBY",
        "outputId": "d685c1a5-d94c-4be9-c39c-7e9578a746eb"
      },
      "outputs": [
        {
          "name": "stdout",
          "output_type": "stream",
          "text": [
            "Procter and Gamble (P&G), which reports using US GAAP, sold a piece of land for $500000\n"
          ]
        }
      ],
      "source": [
        "# GAAP stands for Generally Accepted Accounting Principles\n",
        "# GAAP sets a common set of accounting principles that public U.S. companies must follow when they compile their financial statements\n",
        "# IFRS stands for International Financial Reporting Standard and is a globally adopted method for accounting\n",
        "\n",
        "print(\"Procter and Gamble (P&G), which reports using US GAAP, sold a piece of land for $500000\")\n"
      ]
    },
    {
      "cell_type": "code",
      "execution_count": null,
      "metadata": {
        "id": "dQVGgaIffGBY",
        "outputId": "30f3d3f3-0591-4f01-e1d7-5a620fce3a38"
      },
      "outputs": [
        {
          "name": "stdout",
          "output_type": "stream",
          "text": [
            "Procter and Gamble (P&G), which reports using US GAAP, sold a piece of land for $500000\n"
          ]
        }
      ],
      "source": [
        "# Let's define three different variables and use the format method with the print function\n",
        "company_name = \"Procter and Gamble (P&G)\" # Try a different company name\n",
        "reporting_standard = \"US GAAP\" # Try IFRS\n",
        "cost = 500000 # Try different numbers\n",
        "\n",
        "print(\"{}, which reports using {}, sold a piece of land for ${}\".format(company_name, reporting_standard, cost))"
      ]
    },
    {
      "cell_type": "markdown",
      "metadata": {
        "id": "Jm-0XhPntGtK"
      },
      "source": [
        "# EXCELLENT JOB"
      ]
    },
    {
      "cell_type": "code",
      "execution_count": null,
      "metadata": {
        "id": "AGNczziXfGBY",
        "outputId": "4c42883b-0b83-41b6-9729-b9fb14ecdb8e"
      },
      "outputs": [
        {
          "name": "stdout",
          "output_type": "stream",
          "text": [
            "My name is Dave, I am 30 years old, and my hourly rate is $20\n"
          ]
        }
      ],
      "source": [
        "name = \"Dave\"\n",
        "age = 30\n",
        "rate = 20\n",
        "print(\"My name is {}, I am {} years old, and my hourly rate is ${}\".format(name, age, rate))\n"
      ]
    },
    {
      "cell_type": "code",
      "execution_count": null,
      "metadata": {
        "id": "Mqn6HgVdfGBZ"
      },
      "outputs": [],
      "source": []
    }
  ],
  "metadata": {
    "colab": {
      "provenance": [],
      "include_colab_link": true
    },
    "kernelspec": {
      "display_name": "Python 3 (ipykernel)",
      "language": "python",
      "name": "python3"
    },
    "language_info": {
      "codemirror_mode": {
        "name": "ipython",
        "version": 3
      },
      "file_extension": ".py",
      "mimetype": "text/x-python",
      "name": "python",
      "nbconvert_exporter": "python",
      "pygments_lexer": "ipython3",
      "version": "3.8.8"
    }
  },
  "nbformat": 4,
  "nbformat_minor": 0
}