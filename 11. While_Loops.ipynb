{
  "cells": [
    {
      "cell_type": "markdown",
      "metadata": {
        "id": "view-in-github",
        "colab_type": "text"
      },
      "source": [
        "<a href=\"https://colab.research.google.com/github/Aidi379/Python_fundamental/blob/main/11.%20While_Loops.ipynb\" target=\"_parent\"><img src=\"https://colab.research.google.com/assets/colab-badge.svg\" alt=\"Open In Colab\"/></a>"
      ]
    },
    {
      "cell_type": "code",
      "execution_count": null,
      "metadata": {
        "id": "aDEcuSEvl4S9",
        "outputId": "b8ea6732-2ea1-4230-eb49-f6c8a3ed173d"
      },
      "outputs": [
        {
          "name": "stdout",
          "output_type": "stream",
          "text": [
            "0\n",
            "1\n",
            "2\n",
            "3\n"
          ]
        }
      ],
      "source": [
        "# \"While\" loops continuously repeat a block of code as long as a given condition is held “True”\n",
        "# Let's initialize a counter \"i\" by placing zero in it\n",
        "i = 0\n",
        "\n",
        "while i <= 3:\n",
        "    print(i)\n",
        "    i = i + 1"
      ]
    },
    {
      "cell_type": "code",
      "execution_count": null,
      "metadata": {
        "id": "XJOqvEIyl4TD",
        "outputId": "4b2be404-4220-4843-8063-4b6a040943e7"
      },
      "outputs": [
        {
          "name": "stdout",
          "output_type": "stream",
          "text": [
            "1100.0\n"
          ]
        }
      ],
      "source": [
        "# Let's calculate the Future Value (FV) of a lump sum of money\n",
        "# Assume that today we put $1000 in an account that pays 10% annually\n",
        "# We leave this money to grow for one year\n",
        "# Note that the interest rate of 10% is represented in code as 0.1\n",
        "\n",
        "# Let's define the Present Value \"PV\" and the annual interest rate \"interest_rate\"\n",
        "PV = 1000\n",
        "interest_rate = 0.1\n",
        "\n",
        "# Calculate the future value (FV) as follows:\n",
        "FV = PV + (interest_rate * PV)\n",
        "print(FV)\n"
      ]
    },
    {
      "cell_type": "code",
      "execution_count": null,
      "metadata": {
        "id": "-GkhmCxGl4TD",
        "outputId": "bec45f97-52f6-4121-ca1b-0ac1c774e971"
      },
      "outputs": [
        {
          "name": "stdout",
          "output_type": "stream",
          "text": [
            "The Future value in year 1 = $1100.0\n",
            "The Future value in year 2 = $1210.0\n",
            "The Future value in year 3 = $1331.0\n"
          ]
        }
      ],
      "source": [
        "# Now let's assume that we put the same $1000 in an account that pays 10% annually and leave it for 3 years\n",
        "# We would like to see what would be the future value after each year\n",
        "# We can use while loops to iterate over a pre-defined number of years\n",
        "# You can confirm your answer using the future value calculator: https://www.calculator.net/future-value-calculator.html\n",
        "\n",
        "years         = 1 # initial value\n",
        "amount        = 1000\n",
        "interest_rate = 0.1\n",
        "\n",
        "while years <= 3:\n",
        "    amount = amount + (interest_rate * amount)\n",
        "    print('The Future value in year {} = ${}'.format(years, amount))\n",
        "    years = years + 1\n"
      ]
    },
    {
      "cell_type": "code",
      "execution_count": null,
      "metadata": {
        "id": "9QsWG9o1l4TD",
        "outputId": "411046d7-c1b1-4874-84b5-62538c03621a"
      },
      "outputs": [
        {
          "name": "stdout",
          "output_type": "stream",
          "text": [
            "Value = 2\n",
            "Value = 4\n",
            "Value = 8\n",
            "Value = 16\n",
            "Value = 32\n",
            "Value = 64\n",
            "Value = 128\n",
            "Value = 256\n",
            "Value = 512\n",
            "Value = 1024\n"
          ]
        }
      ],
      "source": [
        "# \"While True\" could be used to repeat a block of code forever!\n",
        "# \"break\" is used to break the loop\n",
        "# Let's assume we want to keep doubling a variable with every iteration until the total value reaches $1000 and then we exit\n",
        "\n",
        "# Define the starting dollar amount = 1\n",
        "\n",
        "x = 1\n",
        "\n",
        "while True:\n",
        "    x = x * 2 # Double the amount\n",
        "    print('Value = {}'.format(x))\n",
        "    if x > 1000:\n",
        "        break"
      ]
    },
    {
      "cell_type": "markdown",
      "metadata": {
        "id": "lB2soXiSUWDd"
      },
      "source": [
        "**PRACTICE OPPORTUNITY:**\n",
        "\n",
        "- **Write a Python code that performs the following tasks:**\n",
        "     - **1. Takes in the present value, annual interest rate and expected future value from the user.**\n",
        "     - **2. Calculates the total number of years it would take to reach a given expected future value. Round your answer to the nearest year and print it to the screen.**\n",
        "     - **3. Prints the future value at the end of each year as shown below.**\n",
        "     - **4. Perform a sanity check using an online financial calculator. Example: https://www.calculator.net/finance-calculator.html**\n",
        "     \n",
        "     \n",
        "- **Sample Expected Output:**\n",
        "    \n",
        "        Enter the amount of funds you would like to invest today in dollars (Present Value (PV)): 1000\n",
        "        Enter the annual interest rate: 0.1\n",
        "        Enter the total dollar amount you would like to have in the future (Future Value (FV)): 2000\n",
        "        \n",
        "        The Present Value (PV) in year 0 (now) = $1000.0\n",
        "        \n",
        "        Future Value (FV) in year 1 = $1100.0\n",
        "        \n",
        "        Future Value (FV) in year 2 = $1210.0\n",
        "        \n",
        "        Future Value (FV) in year 3 = $1331.0\n",
        "        \n",
        "        Future Value (FV) in year 4 = $1464.1\n",
        "        \n",
        "        Future Value (FV) in year 5 = $1610.5\n",
        "        \n",
        "        Future Value (FV) in year 6 = $1771.6\n",
        "        \n",
        "        Future Value (FV) in year 7 = $1948.7\n",
        "        \n",
        "        Future Value (FV) in year 8 = $2143.6\n",
        "        \n",
        "        It would take around 8 years to reach a future value greater than 2000.0"
      ]
    },
    {
      "cell_type": "code",
      "execution_count": 15,
      "metadata": {
        "id": "RY_3xRVRXWuL",
        "colab": {
          "base_uri": "https://localhost:8080/"
        },
        "outputId": "31d1c41b-ec3f-4ec7-8a7d-e13511b91626"
      },
      "outputs": [
        {
          "name": "stdout",
          "output_type": "stream",
          "text": [
            "Enter the amount of funds you would like to invest today in dollars (Present Value (PV)):1000\n",
            "Enter the annual interest rate:0.1\n",
            "Enter the total dollar amount you would like to have in the future (Future Value (FV)):2000\n"
          ]
        }
      ],
      "source": [
        "Present_value = float(input(\"Enter the amount of funds you would like to invest today in dollars (Present Value (PV)):\"))\n",
        "Annual_interest_rate = float(input(\"Enter the annual interest rate:\"))\n",
        "Expected_Future_value = float(input(\"Enter the total dollar amount you would like to have in the future (Future Value (FV)):\"))"
      ]
    },
    {
      "cell_type": "code",
      "execution_count": 16,
      "metadata": {
        "colab": {
          "base_uri": "https://localhost:8080/"
        },
        "id": "afuRRSbjl4TE",
        "outputId": "c4113833-8c3a-48c9-d823-9a9897d5af17"
      },
      "outputs": [
        {
          "output_type": "stream",
          "name": "stdout",
          "text": [
            "The Present Value (PV) in year 0 (now) = $1000.0\n",
            "Future Value (FV) in year 1 = $1100.0\n",
            "Future Value (FV) in year 2 = $1210.0\n",
            "Future Value (FV) in year 3 = $1331.0\n",
            "Future Value (FV) in year 4 = $1464.1\n",
            "Future Value (FV) in year 5 = $1610.5\n",
            "Future Value (FV) in year 6 = $1771.6\n",
            "Future Value (FV) in year 7 = $1948.7\n",
            "Future Value (FV) in year 8 = $2143.6\n"
          ]
        }
      ],
      "source": [
        "Future_value = 0\n",
        "year = 0\n",
        "print(\"The Present Value (PV) in year 0 (now) = $1000.0\")\n",
        "\n",
        "while Present_value <= Expected_Future_value:\n",
        "    Present_value = Present_value + (Present_value * Annual_interest_rate)\n",
        "    year = year + 1\n",
        "    print(\"Future Value (FV) in year {} = ${}\".format(year, round(Present_value,1)))\n"
      ]
    },
    {
      "cell_type": "code",
      "execution_count": 17,
      "metadata": {
        "id": "mxOD2dEhl4TE",
        "outputId": "71d86f1a-aa2b-476f-b43c-4e4ab63e174b",
        "colab": {
          "base_uri": "https://localhost:8080/"
        }
      },
      "outputs": [
        {
          "output_type": "stream",
          "name": "stdout",
          "text": [
            "It would take around 8 years to reach a future value greater than 2000.0\n"
          ]
        }
      ],
      "source": [
        "print(\"It would take around {} years to reach a future value greater than {}\".format(year, Expected_Future_value))"
      ]
    },
    {
      "cell_type": "code",
      "execution_count": null,
      "metadata": {
        "id": "lOQjAACkl4TE"
      },
      "outputs": [],
      "source": []
    },
    {
      "cell_type": "code",
      "execution_count": null,
      "metadata": {
        "id": "BlB-oME_l4TE"
      },
      "outputs": [],
      "source": []
    },
    {
      "cell_type": "code",
      "execution_count": null,
      "metadata": {
        "id": "Xs4WTs7Wl4TE"
      },
      "outputs": [],
      "source": []
    },
    {
      "cell_type": "code",
      "execution_count": null,
      "metadata": {
        "id": "x0-kgtdnl4TE"
      },
      "outputs": [],
      "source": []
    },
    {
      "cell_type": "code",
      "execution_count": null,
      "metadata": {
        "id": "5-PEq79Ql4TE"
      },
      "outputs": [],
      "source": []
    },
    {
      "cell_type": "code",
      "execution_count": null,
      "metadata": {
        "id": "D2QGI5A3l4TE"
      },
      "outputs": [],
      "source": []
    },
    {
      "cell_type": "markdown",
      "metadata": {
        "id": "aXkGeaUza3d0"
      },
      "source": [
        "# PRACTICE OPPORTUNITY SOLUTION"
      ]
    },
    {
      "cell_type": "markdown",
      "metadata": {
        "id": "67mxrweDl4TF"
      },
      "source": [
        "**PRACTICE OPPORTUNITY SOLUTION:**\n",
        "\n",
        "- **Write a Python code that performs the following tasks:**\n",
        "     - **1. Takes in the present value, annual interest rate and expected future value from the user.**\n",
        "     - **2. Calculates the total number of years it would take to reach a given expected future value. Round your answer to the nearest year and print it to the screen.**\n",
        "     - **3. Prints the future value at the end of each year as shown below.**\n",
        "     - **4. Perform a sanity check using an online financial calculator. Example: https://www.calculator.net/finance-calculator.html**\n",
        "     \n",
        "     \n",
        "- **Sample Expected Output:**\n",
        "    \n",
        "        Enter the amount of funds you would like to invest today in dollars (Present Value (PV)): 1000\n",
        "        Enter the annual interest rate: 0.1\n",
        "        Enter the total dollar amount you would like to have in the future (Future Value (FV)): 2000\n",
        "        \n",
        "        The Present Value (PV) in year 0 (now) = $1000.0\n",
        "        \n",
        "        Future Value (FV) in year 1 = $1100.0\n",
        "        \n",
        "        Future Value (FV) in year 2 = $1210.0\n",
        "        \n",
        "        Future Value (FV) in year 3 = $1331.0\n",
        "        \n",
        "        Future Value (FV) in year 4 = $1464.1\n",
        "        \n",
        "        Future Value (FV) in year 5 = $1610.5\n",
        "        \n",
        "        Future Value (FV) in year 6 = $1771.6\n",
        "        \n",
        "        Future Value (FV) in year 7 = $1948.7\n",
        "        \n",
        "        Future Value (FV) in year 8 = $2143.6\n",
        "        \n",
        "        It would take around 8 years to reach a future value greater than 2000.0"
      ]
    },
    {
      "cell_type": "code",
      "execution_count": null,
      "metadata": {
        "colab": {
          "base_uri": "https://localhost:8080/",
          "height": 521
        },
        "id": "iTYnoI4-cES_",
        "outputId": "baf2e4c5-f2ed-447d-ee92-186454202d24"
      },
      "outputs": [
        {
          "name": "stdout",
          "output_type": "stream",
          "text": [
            "Enter the amount of funds you would like to invest today in dollars (Present Value (PV)): 1000\n",
            "Enter the annual interest rate: 0.1\n",
            "Enter the total dollar amount you would like to have in the future (Future Value (FV)): 2000\n",
            "Future Value (FV) in year 1 = $1100.0\n",
            "Future Value (FV) in year 2 = $1210.0\n",
            "Future Value (FV) in year 3 = $1331.0\n",
            "Future Value (FV) in year 4 = $1464.1\n",
            "Future Value (FV) in year 5 = $1610.5\n",
            "Future Value (FV) in year 6 = $1771.6\n",
            "Future Value (FV) in year 7 = $1948.7\n",
            "Future Value (FV) in year 8 = $2143.6\n",
            "It would take around 8 years to reach a future value greater than 2000.0\n"
          ]
        }
      ],
      "source": [
        "# Note that amount is the Present Value\n",
        "# You can name the variable \"present_value\" instead of \"amount\"\n",
        "\n",
        "amount = float(input(\"Enter the amount of funds you would like to invest today in dollars (Present Value (PV)): \"))\n",
        "interest = float(input(\"Enter the annual interest rate: \"))\n",
        "future_value = float(input(\"Enter the total dollar amount you would like to have in the future (Future Value (FV)): \"))\n",
        "\n",
        "years = 1\n",
        "\n",
        "print('The Present Value (PV) in year 0 (Now) = ${}'.format(round(amount, 1)))\n",
        "\n",
        "\n",
        "while True:\n",
        "    amount = amount + (interest * amount)\n",
        "    print('Future Value (FV) in year {} = ${}'.format(years, round(amount, 1)))\n",
        "\n",
        "    # Condition to break the loop here\n",
        "    if amount > future_value:\n",
        "        print('It would take around {} years to reach a future value greater than {}'.format(years, future_value))\n",
        "        break\n",
        "    years = years + 1"
      ]
    },
    {
      "cell_type": "markdown",
      "metadata": {
        "id": "emoKOjfdl4TF"
      },
      "source": [
        "# GREAT JOB!"
      ]
    }
  ],
  "metadata": {
    "colab": {
      "provenance": [],
      "include_colab_link": true
    },
    "kernelspec": {
      "display_name": "Python 3 (ipykernel)",
      "language": "python",
      "name": "python3"
    },
    "language_info": {
      "codemirror_mode": {
        "name": "ipython",
        "version": 3
      },
      "file_extension": ".py",
      "mimetype": "text/x-python",
      "name": "python",
      "nbconvert_exporter": "python",
      "pygments_lexer": "ipython3",
      "version": "3.8.8"
    },
    "vscode": {
      "interpreter": {
        "hash": "aee8b7b246df8f9039afb4144a1f6fd8d2ca17a180786b69acc140d282b71a49"
      }
    }
  },
  "nbformat": 4,
  "nbformat_minor": 0
}