{
  "cells": [
    {
      "cell_type": "markdown",
      "metadata": {
        "id": "view-in-github",
        "colab_type": "text"
      },
      "source": [
        "<a href=\"https://colab.research.google.com/github/Aidi379/Python_fundamental/blob/main/Variables_Assignment%2C_Math_Ops_and_Data_Types.ipynb\" target=\"_parent\"><img src=\"https://colab.research.google.com/assets/colab-badge.svg\" alt=\"Open In Colab\"/></a>"
      ]
    },
    {
      "cell_type": "code",
      "execution_count": 1,
      "metadata": {
        "id": "wsrqiWxMlQcd"
      },
      "outputs": [],
      "source": [
        "# Let's define a variable named \"company_name\" and assign a value to it\n",
        "# A string in Python is a sequence of characters that are surrounded by single or double quotations\n",
        "# You can run the cell by clicking \"shift + enter\" or by clicking the \"Run\" button\n",
        "\n",
        "# Note that you might be wondering - I can do this in Excel, why am I using Python for this?!\n",
        "# This is an introductory lecture to Python, we will build on what we learn to develop powerful applications\n",
        "# Python offers greater scalability and efficiency compared to Excel\n",
        "# It offers faster execution and allows for automating complex tasks\n",
        "# It also comes with several open-source libraries so we do not have to develop code from scratch\n",
        "\n",
        "company_name = 'Apple'"
      ]
    },
    {
      "cell_type": "code",
      "execution_count": 2,
      "metadata": {
        "colab": {
          "base_uri": "https://localhost:8080/",
          "height": 35
        },
        "id": "_7BUQ4lalVpE",
        "outputId": "6ceee15f-0366-4a0a-cd86-9d51f89d1475"
      },
      "outputs": [
        {
          "output_type": "execute_result",
          "data": {
            "text/plain": [
              "'Apple'"
            ],
            "application/vnd.google.colaboratory.intrinsic+json": {
              "type": "string"
            }
          },
          "metadata": {},
          "execution_count": 2
        }
      ],
      "source": [
        "# Let's display the content of \"company_name\"\n",
        "company_name"
      ]
    },
    {
      "cell_type": "code",
      "execution_count": 3,
      "metadata": {
        "colab": {
          "base_uri": "https://localhost:8080/"
        },
        "id": "bNC8FOTWLjPO",
        "outputId": "575f0255-7958-4bf9-b814-982f50b26cfb"
      },
      "outputs": [
        {
          "output_type": "execute_result",
          "data": {
            "text/plain": [
              "str"
            ]
          },
          "metadata": {},
          "execution_count": 3
        }
      ],
      "source": [
        "# Let's confirm the datatype for our variable\n",
        "# Note that the output is \"str\" which stands for string\n",
        "type(company_name)"
      ]
    },
    {
      "cell_type": "code",
      "execution_count": null,
      "metadata": {
        "id": "zZXmwSdVLjPO",
        "outputId": "d75862ef-e43e-4b67-9e61-46dfd11fbd7f"
      },
      "outputs": [
        {
          "data": {
            "text/plain": [
              "394.32"
            ]
          },
          "execution_count": 4,
          "metadata": {},
          "output_type": "execute_result"
        }
      ],
      "source": [
        "# Let's define and display the second entry in the table and assign a decimal number to it\n",
        "revenue = 394.32\n",
        "revenue"
      ]
    },
    {
      "cell_type": "code",
      "execution_count": null,
      "metadata": {
        "id": "GkbCT4VSLjPO",
        "outputId": "9c07a7f8-5133-4d8d-b969-74218ce72985"
      },
      "outputs": [
        {
          "data": {
            "text/plain": [
              "float"
            ]
          },
          "execution_count": 5,
          "metadata": {},
          "output_type": "execute_result"
        }
      ],
      "source": [
        "# Let's confirm the datatype for our variable\n",
        "# Note that the datatype is \"float\" which stands for floating points\n",
        "# Floating points are real numbers with a decimal point dividing the integer and fractional parts\n",
        "type(revenue)"
      ]
    },
    {
      "cell_type": "code",
      "execution_count": null,
      "metadata": {
        "id": "R74odRrALjPP",
        "outputId": "222a272a-06e9-4e7a-b7fc-3583912e5cd8"
      },
      "outputs": [
        {
          "data": {
            "text/plain": [
              "154000"
            ]
          },
          "execution_count": 6,
          "metadata": {},
          "output_type": "execute_result"
        }
      ],
      "source": [
        "# Let's define and display the third entry in the table and assign an integer to it\n",
        "num_employees = 154000\n",
        "num_employees"
      ]
    },
    {
      "cell_type": "code",
      "execution_count": null,
      "metadata": {
        "id": "i24FkK61LjPP",
        "outputId": "9e8d4492-bb11-450f-8fcc-0387e0dc8501"
      },
      "outputs": [
        {
          "data": {
            "text/plain": [
              "int"
            ]
          },
          "execution_count": 7,
          "metadata": {},
          "output_type": "execute_result"
        }
      ],
      "source": [
        "# Let's confirm the datatype for our variable\n",
        "# Note that the output is \"int\" which stands for integer\n",
        "# Integers are whole numbers (no decimals) that could be positive or negative\n",
        "type(num_employees)"
      ]
    },
    {
      "cell_type": "code",
      "execution_count": null,
      "metadata": {
        "id": "yXEF85i4LjPP",
        "outputId": "4850ff04-9d26-4b21-ce19-6d0f95423a9a"
      },
      "outputs": [
        {
          "data": {
            "text/plain": [
              "True"
            ]
          },
          "execution_count": 8,
          "metadata": {},
          "output_type": "execute_result"
        }
      ],
      "source": [
        "# Let's define and display the last element in the table\n",
        "pays_dividend = True\n",
        "pays_dividend"
      ]
    },
    {
      "cell_type": "code",
      "execution_count": null,
      "metadata": {
        "id": "Uh8hJ8GpLjPP",
        "outputId": "165a1937-8b1c-475d-e5f2-f2139aac1841"
      },
      "outputs": [
        {
          "data": {
            "text/plain": [
              "bool"
            ]
          },
          "execution_count": 9,
          "metadata": {},
          "output_type": "execute_result"
        }
      ],
      "source": [
        "# \"bool\" stands for Boolean which is a datatype that has one of two possible values: True or False\n",
        "type(pays_dividend)"
      ]
    },
    {
      "cell_type": "code",
      "execution_count": null,
      "metadata": {
        "id": "jz7G03ljLjPP",
        "outputId": "caefb81b-fc4b-435f-e658-c8642cf667e6"
      },
      "outputs": [
        {
          "data": {
            "text/plain": [
              "154100"
            ]
          },
          "execution_count": 10,
          "metadata": {},
          "output_type": "execute_result"
        }
      ],
      "source": [
        "# After we define variables, we can then perform math operations on them\n",
        "# Math operations can be easily performed in Python\n",
        "# Addition (+), Subtraction (-), Multiplication (*), Division (/)\n",
        "\n",
        "# Let's assume that the number of employees increased by 100\n",
        "# Note that we overwrite the previous value of \"num_employees\" with the new value\n",
        "num_employees = num_employees + 100\n",
        "num_employees"
      ]
    },
    {
      "cell_type": "code",
      "execution_count": null,
      "metadata": {
        "id": "d99FhigLLjPQ",
        "outputId": "0255cf0b-d043-4440-c792-afd0f9f93e3c"
      },
      "outputs": [
        {
          "data": {
            "text/plain": [
              "308200"
            ]
          },
          "execution_count": 11,
          "metadata": {},
          "output_type": "execute_result"
        }
      ],
      "source": [
        "# Let's assume that the number of employees has now doubled\n",
        "# We will learn how to store tablular data efficiently later in the course using Pandas library\n",
        "num_employees = num_employees * 2\n",
        "num_employees"
      ]
    },
    {
      "cell_type": "markdown",
      "metadata": {
        "id": "KRY5rxtGLjPQ"
      },
      "source": [
        "**PRACTICE OPPORTUNITY:**\n",
        "- **Assume that you have \\\\$5000 in your brokerage account and you decided to invest the entire amount in Procter & Gamble (P&G) stock which is trading at \\\\$142.5 per share. Complete the following tasks:**\n",
        "    - **1. Write a Python code that defines two variables for the account balance and P&G stock price. Feel free to select any valid variable names**\n",
        "    - **2. Confirm variables datatypes**\n",
        "    - **3. Calculate number of shares that you can buy with the available balance in your account**"
      ]
    },
    {
      "cell_type": "code",
      "execution_count": null,
      "metadata": {
        "id": "VCc-fpcmLjPQ",
        "outputId": "825adb55-74f5-4da4-e249-f41ce78d6887"
      },
      "outputs": [
        {
          "data": {
            "text/plain": [
              "5000"
            ]
          },
          "execution_count": 12,
          "metadata": {},
          "output_type": "execute_result"
        }
      ],
      "source": [
        "balance = 5000\n",
        "balance"
      ]
    },
    {
      "cell_type": "code",
      "execution_count": null,
      "metadata": {
        "id": "-aN0MJJ2LjPQ",
        "outputId": "a3be6a14-6309-4134-b840-404e239ef4ed"
      },
      "outputs": [
        {
          "data": {
            "text/plain": [
              "int"
            ]
          },
          "execution_count": 13,
          "metadata": {},
          "output_type": "execute_result"
        }
      ],
      "source": [
        "type(balance)"
      ]
    },
    {
      "cell_type": "code",
      "execution_count": null,
      "metadata": {
        "id": "40ERxBQGLjPQ",
        "outputId": "d4a59583-9742-47d2-e4e2-098fd374dabf"
      },
      "outputs": [
        {
          "data": {
            "text/plain": [
              "142.5"
            ]
          },
          "execution_count": 14,
          "metadata": {},
          "output_type": "execute_result"
        }
      ],
      "source": [
        "price = 142.5\n",
        "price"
      ]
    },
    {
      "cell_type": "code",
      "execution_count": null,
      "metadata": {
        "id": "z8nDWp6BLjPQ",
        "outputId": "cc9743d1-f7ea-43a0-dfdd-e5b49d2ccf36"
      },
      "outputs": [
        {
          "data": {
            "text/plain": [
              "float"
            ]
          },
          "execution_count": 15,
          "metadata": {},
          "output_type": "execute_result"
        }
      ],
      "source": [
        "type(price)"
      ]
    },
    {
      "cell_type": "code",
      "execution_count": null,
      "metadata": {
        "id": "bCqxQGdeLjPR"
      },
      "outputs": [],
      "source": [
        "num_shares = balance/price"
      ]
    },
    {
      "cell_type": "code",
      "execution_count": null,
      "metadata": {
        "id": "qZCjQFuNLjPR",
        "outputId": "dc42b04f-7e63-4898-ce9a-a55e26d851f8"
      },
      "outputs": [
        {
          "data": {
            "text/plain": [
              "35.08771929824562"
            ]
          },
          "execution_count": 17,
          "metadata": {},
          "output_type": "execute_result"
        }
      ],
      "source": [
        "num_shares"
      ]
    },
    {
      "cell_type": "code",
      "execution_count": null,
      "metadata": {
        "id": "duVqfhHBLjPR",
        "outputId": "7188493d-7286-4877-9d9d-ad3c52ce954a"
      },
      "outputs": [
        {
          "data": {
            "text/plain": [
              "35"
            ]
          },
          "execution_count": 18,
          "metadata": {},
          "output_type": "execute_result"
        }
      ],
      "source": [
        "round(num_shares)"
      ]
    },
    {
      "cell_type": "code",
      "execution_count": null,
      "metadata": {
        "id": "JrqJvr2TLjPR"
      },
      "outputs": [],
      "source": []
    },
    {
      "cell_type": "code",
      "execution_count": null,
      "metadata": {
        "id": "Pyc0KVcPLjPR"
      },
      "outputs": [],
      "source": []
    },
    {
      "cell_type": "markdown",
      "metadata": {
        "id": "P7FgCVJwLjPR"
      },
      "source": [
        "# PRACTICE OPPORTUNITY SOLUTION"
      ]
    },
    {
      "cell_type": "markdown",
      "metadata": {
        "id": "iFK46EJOLjPR"
      },
      "source": [
        "**PRACTICE OPPORTUNITY SOLUTION:**\n",
        "- **Assume that you have \\\\$5000 in your brokerage account and you decided to invest the entire amount in Procter & Gamble (P&G) stock which is trading at \\\\$142.5 per share. Complete the following tasks:**\n",
        "    - **1. Write a Python code that defines two variables for the account balance and P&G stock price. Feel free to select any valid variable names**\n",
        "    - **2. Confirm variables datatypes**\n",
        "    - **3. Calculate number of shares that you can buy with the available balance in your account**"
      ]
    },
    {
      "cell_type": "code",
      "execution_count": null,
      "metadata": {
        "id": "qv9nSWvaLjPR"
      },
      "outputs": [],
      "source": [
        "# Define the account balance\n",
        "balance = 5000\n",
        "balance"
      ]
    },
    {
      "cell_type": "code",
      "execution_count": null,
      "metadata": {
        "id": "sya3ZgyELjPR"
      },
      "outputs": [],
      "source": [
        "# Confirm the datatype which is integer\n",
        "type(balance)"
      ]
    },
    {
      "cell_type": "code",
      "execution_count": null,
      "metadata": {
        "id": "EDQ2n534LjPR"
      },
      "outputs": [],
      "source": [
        "# Define the price per share\n",
        "price = 142.5\n",
        "price"
      ]
    },
    {
      "cell_type": "code",
      "execution_count": null,
      "metadata": {
        "id": "5bClMoi1LjPS"
      },
      "outputs": [],
      "source": [
        "# Confirm the datatype which is float\n",
        "type(price)"
      ]
    },
    {
      "cell_type": "code",
      "execution_count": null,
      "metadata": {
        "id": "lIGndTdsLjPS"
      },
      "outputs": [],
      "source": [
        "# Calculate the number of shares by dividing the brokerage balance by P&G stock price\n",
        "# Place the answer in num_shares\n",
        "num_shares = balance/price\n",
        "num_shares"
      ]
    },
    {
      "cell_type": "code",
      "execution_count": null,
      "metadata": {
        "id": "3Hm43F-zLjPS"
      },
      "outputs": [],
      "source": [
        "# Note that you can round your answer to the nearest integer by using the round function\n",
        "round(num_shares)"
      ]
    },
    {
      "cell_type": "markdown",
      "metadata": {
        "id": "Jm-0XhPntGtK"
      },
      "source": [
        "# EXCELLENT JOB"
      ]
    },
    {
      "cell_type": "code",
      "execution_count": null,
      "metadata": {
        "id": "7gJgoQ17LjPS",
        "outputId": "131dae0e-4f00-4087-de7b-c35c8f823621"
      },
      "outputs": [
        {
          "data": {
            "text/plain": [
              "bool"
            ]
          },
          "execution_count": 5,
          "metadata": {},
          "output_type": "execute_result"
        }
      ],
      "source": [
        "\n",
        "y = False\n",
        "type(y)\n"
      ]
    },
    {
      "cell_type": "code",
      "execution_count": null,
      "metadata": {
        "id": "BaKLUI23LjPS"
      },
      "outputs": [],
      "source": []
    }
  ],
  "metadata": {
    "colab": {
      "provenance": [],
      "include_colab_link": true
    },
    "kernelspec": {
      "display_name": "Python 3 (ipykernel)",
      "language": "python",
      "name": "python3"
    },
    "language_info": {
      "codemirror_mode": {
        "name": "ipython",
        "version": 3
      },
      "file_extension": ".py",
      "mimetype": "text/x-python",
      "name": "python",
      "nbconvert_exporter": "python",
      "pygments_lexer": "ipython3",
      "version": "3.8.8"
    }
  },
  "nbformat": 4,
  "nbformat_minor": 0
}
