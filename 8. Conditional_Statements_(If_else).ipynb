{
  "cells": [
    {
      "cell_type": "markdown",
      "metadata": {
        "id": "view-in-github",
        "colab_type": "text"
      },
      "source": [
        "<a href=\"https://colab.research.google.com/github/Aidi379/Python_fundamental/blob/main/8.%20Conditional_Statements_(If_else).ipynb\" target=\"_parent\"><img src=\"https://colab.research.google.com/assets/colab-badge.svg\" alt=\"Open In Colab\"/></a>"
      ]
    },
    {
      "cell_type": "code",
      "execution_count": null,
      "metadata": {
        "id": "QEe-DwoksQtw"
      },
      "outputs": [],
      "source": [
        "# Let's assume that we want to compare two companies' revenue - company A and company B\n",
        "# Note that you will need to validate each branch in the If-else condition\n",
        "\n",
        "revenue_A = 2000\n",
        "revenue_B = 2000\n",
        "\n",
        "if revenue_A > revenue_B:\n",
        "    print('Company A generates more revenue compared to Company B')\n",
        "elif revenue_A < revenue_B:\n",
        "    print('Company B generates more revenue compared to Company B')\n",
        "else:\n",
        "    print('Company A generates equal revenue to Company B')"
      ]
    },
    {
      "cell_type": "code",
      "execution_count": null,
      "metadata": {
        "id": "TsdM4UBFsQtw"
      },
      "outputs": [],
      "source": [
        "# A code that indicates if a number is even or odd\n",
        "# Note that the mod % is used to calculate the remainder from the division operation\n",
        "x = int(input(\"Please enter an integer from 1 to 1000: \"))\n",
        "\n",
        "if x % 2 == 0:\n",
        "    print('Number is even')\n",
        "else:\n",
        "    print('Number is odd')"
      ]
    },
    {
      "cell_type": "code",
      "execution_count": null,
      "metadata": {
        "id": "IstD2IfusQtw"
      },
      "outputs": [],
      "source": [
        "# You can also compare two strings\n",
        "# Let's develop a username and password authentication code\n",
        "# The code obtains the username and password from the user and grants or denies access accordingly\n",
        "\n",
        "username = input('Welcome to the bank, please enter your username:')\n",
        "password = input('please enter your password:')\n",
        "\n",
        "# Note that \"and\" is a logical operator that generates \"True\" of both conditions are \"True\"\n",
        "if username == 'RyanAhmed' and password =='123$abc':\n",
        "    print(\"Access granted\")\n",
        "else:\n",
        "    print(\"Access denied, please try again\")"
      ]
    },
    {
      "cell_type": "markdown",
      "metadata": {
        "id": "MdQpg_Q9sQtx"
      },
      "source": [
        "**PRACTICE OPPORTUNITY:**\n",
        "- **Consider a company XYZ Inc. whose stock is currently trading at \\\\$64 per share. The company requires a 14% minimum rate of return (r) and pays a dividend of $2 dividend per share this year (D0), which is expected to increase by 10% annually (g).**\n",
        "\n",
        "    - **1. Review the Dividend Discount Model and write down the formula**\n",
        "    - **2. Calculate the intrinsic value (P) of the stock**\n",
        "    - **3. Assume that you are evaluating whether to invest in XYZ Inc. or not. Write a Python code that compares the current intinsic value to the stock price and prints out one of the following recommendations: overvalued, undervalued, or fairly valued**\n",
        "    - **4. Expand the code so users can enter the current stock price, minimum rate of return, current dividend, and annual growth and print out the recommendation to the screen**\n",
        "    \n",
        "    \n",
        "- **A sample code output is as shown below:**\n",
        "    - Enter this year's dividend: 2\n",
        "    - Enter the company's expected dividend growth: 0.1\n",
        "    - Enter the company's cost of equity: 0.14\n",
        "    - Enter the current stock price: 64\n",
        "    - The stock value based on the Dividend Discount Model = $55.0\n",
        "    - Stock is overvalued, you should not invest in this stock"
      ]
    },
    {
      "cell_type": "code",
      "execution_count": 1,
      "metadata": {
        "colab": {
          "base_uri": "https://localhost:8080/"
        },
        "id": "YpukSah9sQtx",
        "outputId": "14b81777-aaef-4a64-cd60-3612ea004c9f"
      },
      "outputs": [
        {
          "output_type": "stream",
          "name": "stdout",
          "text": [
            "54.99999999999999\n"
          ]
        }
      ],
      "source": [
        "D0 = 2\n",
        "g = 0.1\n",
        "r = 0.14\n",
        "P = (D0 * (1+g)) / (r-g)\n",
        "print (P)"
      ]
    },
    {
      "cell_type": "code",
      "execution_count": 2,
      "metadata": {
        "colab": {
          "base_uri": "https://localhost:8080/"
        },
        "id": "_TWsU7GvsQtx",
        "outputId": "cb4098e1-4c58-47ad-b515-5e18e212e5ab"
      },
      "outputs": [
        {
          "output_type": "stream",
          "name": "stdout",
          "text": [
            "Stock is overvalued, you should not invest in the stock\n"
          ]
        }
      ],
      "source": [
        "current_stock_value = 64\n",
        "\n",
        "if current_stock_value == P:\n",
        "    print(\"Stock is fairly valued\")\n",
        "elif current_stock_value > P:\n",
        "    print(\"Stock is overvalued, you should not invest in the stock\")\n",
        "else:\n",
        "    print(\"Stock is undervalued, you should invest in the stock\")"
      ]
    },
    {
      "cell_type": "code",
      "execution_count": 3,
      "metadata": {
        "colab": {
          "base_uri": "https://localhost:8080/"
        },
        "id": "a-Vrx73BsQtx",
        "outputId": "aaaa479b-2861-4c8c-9c10-15892c52de1f"
      },
      "outputs": [
        {
          "name": "stdout",
          "output_type": "stream",
          "text": [
            "Enter the current stock price: 64\n",
            "Enter this year's dividend: 2\n",
            "Enter the company's expected dividend growth: 0.1\n",
            "Enter the company's cost of equity: 0.14\n"
          ]
        }
      ],
      "source": [
        "current_stock_price = float(input(\"Enter the current stock price: \"))\n",
        "D0 = float(input(\"Enter this year's dividend: \"))\n",
        "g = float(input(\"Enter the company's expected dividend growth: \"))\n",
        "r = float(input(\"Enter the company's cost of equity: \"))"
      ]
    },
    {
      "cell_type": "code",
      "execution_count": 5,
      "metadata": {
        "colab": {
          "base_uri": "https://localhost:8080/"
        },
        "id": "GjjPcBO2sQtx",
        "outputId": "a85f8ad2-7689-4902-9f71-4c6ed7d15cf0"
      },
      "outputs": [
        {
          "output_type": "stream",
          "name": "stdout",
          "text": [
            "Stock is overvalued, you should not invest in the stock\n"
          ]
        }
      ],
      "source": [
        "P = (D0 * (1+g)) / (r-g)\n",
        "\n",
        "if current_stock_value == P:\n",
        "    print(\"Stock is fairly valued\")\n",
        "elif current_stock_value > P:\n",
        "    print(\"Stock is overvalued, you should not invest in the stock\")\n",
        "else:\n",
        "    print(\"Stock is undervalued, you should invest in the stock\")"
      ]
    },
    {
      "cell_type": "code",
      "execution_count": null,
      "metadata": {
        "id": "26L0Bb8VsQtx"
      },
      "outputs": [],
      "source": []
    },
    {
      "cell_type": "markdown",
      "metadata": {
        "id": "OHTSxeq90GFt"
      },
      "source": [
        "# PRACTICE OPPORTUNITY SOLUTION"
      ]
    },
    {
      "cell_type": "markdown",
      "metadata": {
        "id": "SSKCyRnCsQty"
      },
      "source": [
        "**PRACTICE OPPORTUNITY SOLUTION:**\n",
        "- **Consider a company XYZ Inc. whose stock is currently trading at \\\\$64 per share. The company requires a 14% minimum rate of return (r) and pays a dividend of $2 dividend per share this year (D0), which is expected to increase by 10% annually (g).**\n",
        "\n",
        "    - **1. Review the Dividend Discount Model and write down the formula**\n",
        "    - **2. Calculate the intrinsic value (P) of the stock**\n",
        "    - **3. Assume that you are evaluating whether to invest in XYZ Inc. or not. Write a Python code that compares the current intinsic value to the stock price and prints out one of the following recommendations: overvalued, undervalued, or fairly valued**\n",
        "    - **4. Expand the code so users can enter the current stock price, minimum rate of return, current dividend, and annual growth and print out the recommendation to the screen**\n",
        "    \n",
        "    \n",
        "- **A sample code output is as shown below:**\n",
        "    - Enter this year's dividend: 2\n",
        "    - Enter the company's expected dividend growth: 0.1\n",
        "    - Enter the company's cost of equity: 0.14\n",
        "    - Enter the current stock price: 64\n",
        "    - The stock value based on the Dividend Discount Model = $55.0\n",
        "    - Stock is overvalued, you should not invest in this stock"
      ]
    },
    {
      "cell_type": "code",
      "execution_count": null,
      "metadata": {
        "id": "4dLI48YPsQty"
      },
      "outputs": [],
      "source": [
        "# Define the current market price for a given company\n",
        "current_market_price = 64"
      ]
    },
    {
      "cell_type": "code",
      "execution_count": null,
      "metadata": {
        "id": "Jjmb7EbTsQty",
        "outputId": "280e50b3-3da4-4314-febe-3160dc8d8e14"
      },
      "outputs": [
        {
          "name": "stdout",
          "output_type": "stream",
          "text": [
            "The stock value based on the Dividend Discount Model = $55.0\n"
          ]
        }
      ],
      "source": [
        "# Calculate the current stock value\n",
        "\n",
        "# Define current (this year's) dividend\n",
        "dividend_0 = 2\n",
        "\n",
        "# Define the expected dividend growth\n",
        "growth = 0.1\n",
        "\n",
        "# Define the cost of equity\n",
        "cost_of_equity = 0.14\n",
        "\n",
        "# Let's calculate next year's dividend dividend_1\n",
        "dividend_1 = dividend_0 * (1 + growth)\n",
        "\n",
        "# Perform stock valuation using the dividend discount model\n",
        "stock_valuation = dividend_1 / (cost_of_equity - growth)\n",
        "print(\"The stock value based on the Dividend Discount Model = ${}\".format(round(stock_valuation, 2)))"
      ]
    },
    {
      "cell_type": "code",
      "execution_count": null,
      "metadata": {
        "id": "iBYKzulKsQtz",
        "outputId": "2a11bf92-6684-463e-cbbf-4168eaf3289c"
      },
      "outputs": [
        {
          "name": "stdout",
          "output_type": "stream",
          "text": [
            "Stock is overvalued, you should not invest in this stock\n"
          ]
        }
      ],
      "source": [
        "# Compare the stock valuation (based on the dividend growth model) to the current stock price\n",
        "\n",
        "if current_market_price > stock_valuation:\n",
        "    print(\"Stock is overvalued, you should not invest in this stock\")\n",
        "\n",
        "elif current_market_price < stock_valuation:\n",
        "    print(\"Stock is undervalued, you should invest in this stock\")\n",
        "\n",
        "else:\n",
        "    print('Stock is fairly valued')\n",
        ""
      ]
    },
    {
      "cell_type": "code",
      "execution_count": null,
      "metadata": {
        "id": "YBDYSw7bsQtz",
        "outputId": "b6b4c036-49f5-4805-de49-605515d20911"
      },
      "outputs": [
        {
          "name": "stdout",
          "output_type": "stream",
          "text": [
            "Enter this year's dividend: 2\n",
            "Enter the company's expected dividend growth: 0.1\n",
            "Enter the company's cost of equity: 0.14\n",
            "Enter the current stock price: 64\n",
            "The stock value based on the Dividend Discount Model = $55.0\n",
            "Stock is overvalued, you should not invest in this stock\n"
          ]
        }
      ],
      "source": [
        "# Note that float has been used instead of integer (int) datatype since user inputs could have decimal points\n",
        "dividend_0           = float(input(\"Enter this year's dividend: \"))\n",
        "growth               = float(input(\"Enter the company's expected dividend growth: \"))\n",
        "cost_of_equity       = float(input(\"Enter the company's cost of equity: \"))\n",
        "current_market_price = float(input(\"Enter the current stock price: \"))\n",
        "\n",
        "\n",
        "# Let's calculate next year's dividend dividend_1\n",
        "dividend_1 = dividend_0 * (1 + growth)\n",
        "\n",
        "\n",
        "# Perform stock valuation using the dividend discount model\n",
        "stock_valuation = dividend_1 / (cost_of_equity - growth)\n",
        "print(\"The stock value based on the Dividend Discount Model = ${}\".format(round(stock_valuation, 2)))\n",
        "\n",
        "\n",
        "# Compare the stock valuation (based on the dividend growth model) to the current stock price\n",
        "\n",
        "if current_market_price > stock_valuation:\n",
        "    print(\"Stock is overvalued, you should not invest in this stock\")\n",
        "\n",
        "elif current_market_price < stock_valuation:\n",
        "    print(\"Stock is undervalued, you should invest in this stock\")\n",
        "\n",
        "else:\n",
        "    print('Stock is fairly valued')\n",
        ""
      ]
    },
    {
      "cell_type": "markdown",
      "metadata": {
        "id": "r3qwIOaVsQtz"
      },
      "source": [
        "# GREAT JOB!"
      ]
    }
  ],
  "metadata": {
    "colab": {
      "provenance": [],
      "include_colab_link": true
    },
    "kernelspec": {
      "display_name": "Python 3 (ipykernel)",
      "language": "python",
      "name": "python3"
    },
    "language_info": {
      "codemirror_mode": {
        "name": "ipython",
        "version": 3
      },
      "file_extension": ".py",
      "mimetype": "text/x-python",
      "name": "python",
      "nbconvert_exporter": "python",
      "pygments_lexer": "ipython3",
      "version": "3.8.8"
    }
  },
  "nbformat": 4,
  "nbformat_minor": 0
}