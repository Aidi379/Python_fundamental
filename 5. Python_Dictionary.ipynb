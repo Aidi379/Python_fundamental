{
  "cells": [
    {
      "cell_type": "markdown",
      "metadata": {
        "id": "view-in-github",
        "colab_type": "text"
      },
      "source": [
        "<a href=\"https://colab.research.google.com/github/Aidi379/Python_fundamental/blob/main/6.%20Python_Dictionary.ipynb\" target=\"_parent\"><img src=\"https://colab.research.google.com/assets/colab-badge.svg\" alt=\"Open In Colab\"/></a>"
      ]
    },
    {
      "cell_type": "code",
      "execution_count": null,
      "metadata": {
        "colab": {
          "base_uri": "https://localhost:8080/",
          "height": 34
        },
        "id": "Li70lw0jCb87",
        "outputId": "9a3a0b64-659c-4f5e-c601-3f2b99c943da"
      },
      "outputs": [
        {
          "name": "stdout",
          "output_type": "stream",
          "text": [
            "{'Equity': 5000, 'Fixed Income': 1000, 'Derivatives': 300}\n"
          ]
        }
      ],
      "source": [
        "# Python dictionaries consist of a collection of key-value pairs\n",
        "# Each key-value pair maps the key to its corresponding value\n",
        "# my_dict = {'key1':'value1', 'key2':'value2', 'key3':'value3'}\n",
        "# In dictionaries, elements are accessed using their keys\n",
        "\n",
        "# Let's define a dictionary for a given investor\n",
        "# The dictionary consists of a collection of equity, fixed income and alternative investments\n",
        "# Remember:\n",
        "# 1. Equity: Equity investments allow investors to hold partial ownership of companies in form of stocks\n",
        "# 2. Fixed income: fixed-income securities such as bonds yield fixed amounts of cash flows at given dates\n",
        "# 3. Derivatives: derivative is a security with a price derived from an underlying assets such as options\n",
        "# 4. Alternative investments: Non-traditional investments such as real-estate and commodities\n",
        "\n",
        "investor_assets = {\"Equity\": 5000, \"Fixed Income\": 1000, \"Derivatives\": 300}\n",
        "print(investor_assets)"
      ]
    },
    {
      "cell_type": "code",
      "execution_count": null,
      "metadata": {
        "id": "jzUn0v_c6n1M",
        "outputId": "bac16736-559f-4f25-fca4-9d93ac8bcded"
      },
      "outputs": [
        {
          "data": {
            "text/plain": [
              "dict"
            ]
          },
          "execution_count": 2,
          "metadata": {},
          "output_type": "execute_result"
        }
      ],
      "source": [
        "# Check the data type of the Python dictionary\n",
        "type(investor_assets)"
      ]
    },
    {
      "cell_type": "code",
      "execution_count": null,
      "metadata": {
        "colab": {
          "base_uri": "https://localhost:8080/",
          "height": 34
        },
        "id": "G_I_rJsWCb6E",
        "outputId": "ff0c4bae-1e81-4245-b9ba-1e6b22a8078d"
      },
      "outputs": [
        {
          "data": {
            "text/plain": [
              "1000"
            ]
          },
          "execution_count": 3,
          "metadata": {},
          "output_type": "execute_result"
        }
      ],
      "source": [
        "# You access specific dictionary values using the keys\n",
        "investor_assets[\"Fixed Income\"]"
      ]
    },
    {
      "cell_type": "code",
      "execution_count": null,
      "metadata": {
        "colab": {
          "base_uri": "https://localhost:8080/",
          "height": 34
        },
        "id": "1DigIhEQCb3x",
        "outputId": "0c6ea3ae-3674-4ab6-eb28-aff8fe1304ad"
      },
      "outputs": [
        {
          "name": "stdout",
          "output_type": "stream",
          "text": [
            "{'Equity': 5000, 'Fixed Income': 1000, 'Derivatives': 300, 'Alternative Investments': 4000}\n"
          ]
        }
      ],
      "source": [
        "# Let's assume that the investor would like to add alternative investments to their portfolio\n",
        "# Let's add a new item to an existing dictionary\n",
        "\n",
        "investor_assets[\"Alternative Investments\"] = 4000\n",
        "print(investor_assets)"
      ]
    },
    {
      "cell_type": "code",
      "execution_count": null,
      "metadata": {
        "colab": {
          "base_uri": "https://localhost:8080/",
          "height": 34
        },
        "id": "m05N8LIiCb0_",
        "outputId": "65a6842e-7b89-4b47-8a35-1e7a552f7b6a"
      },
      "outputs": [
        {
          "name": "stdout",
          "output_type": "stream",
          "text": [
            "{'Equity': 5000, 'Derivatives': 300, 'Alternative Investments': 4000}\n"
          ]
        }
      ],
      "source": [
        "# Remove an item from the dictionary\n",
        "del investor_assets[\"Fixed Income\"]\n",
        "print(investor_assets)"
      ]
    },
    {
      "cell_type": "markdown",
      "metadata": {
        "id": "9llozT9XLiqI"
      },
      "source": [
        "**PRACTICE OPPORTUNITY:**\n",
        "- **Assume that you work as a financial analyst at a pension fund. You decided to list the names of your 3 top favourite technology stocks along with their prices in a Python dictionary.**\n",
        "    - **1. Define the Python dictionary, feel free to choose any technology stocks. You can use Yahoo finance to obtain the daily price of these securities**\n",
        "    - **2. Calculate the average stock price listed in this dictionary**\n",
        "    - **3. Now assume that you want to add 2 more stocks to the previously created dictionary, update the dictionary and calculate the new average using two different methods (External research is required)**\n"
      ]
    },
    {
      "cell_type": "code",
      "execution_count": 65,
      "metadata": {
        "colab": {
          "base_uri": "https://localhost:8080/"
        },
        "id": "Px6wOaWw6n1N",
        "outputId": "06634b10-2d82-41d1-d98e-04f035352f1c"
      },
      "outputs": [
        {
          "output_type": "stream",
          "name": "stdout",
          "text": [
            "{'Tesla': 142, 'Matterport': 4.75, 'Apple': 166}\n",
            "<class 'dict'>\n"
          ]
        }
      ],
      "source": [
        "tech_stocks = {\"Tesla\": 142, \"Matterport\": 4.75, \"Apple\": 166 }\n",
        "print(tech_stocks)\n",
        "print(type(tech_stocks))"
      ]
    },
    {
      "cell_type": "code",
      "execution_count": 66,
      "metadata": {
        "colab": {
          "base_uri": "https://localhost:8080/",
          "height": 159
        },
        "id": "vU6_NVZc6n1N",
        "outputId": "01e8f5cf-5256-48dd-9583-c39dcd839112"
      },
      "outputs": [
        {
          "output_type": "error",
          "ename": "TypeError",
          "evalue": "'int' object is not callable",
          "traceback": [
            "\u001b[0;31m---------------------------------------------------------------------------\u001b[0m",
            "\u001b[0;31mTypeError\u001b[0m                                 Traceback (most recent call last)",
            "\u001b[0;32m<ipython-input-66-fd64474b2449>\u001b[0m in \u001b[0;36m<cell line: 1>\u001b[0;34m()\u001b[0m\n\u001b[0;32m----> 1\u001b[0;31m \u001b[0mavg_price\u001b[0m \u001b[0;34m=\u001b[0m \u001b[0;34m(\u001b[0m\u001b[0mtech_stocks\u001b[0m\u001b[0;34m[\u001b[0m\u001b[0;34m\"Tesla\"\u001b[0m\u001b[0;34m]\u001b[0m \u001b[0;34m+\u001b[0m \u001b[0mtech_stocks\u001b[0m\u001b[0;34m[\u001b[0m\u001b[0;34m\"Matterport\"\u001b[0m\u001b[0;34m]\u001b[0m \u001b[0;34m+\u001b[0m \u001b[0mtech_stocks\u001b[0m\u001b[0;34m[\u001b[0m\u001b[0;34m\"Apple\"\u001b[0m\u001b[0;34m]\u001b[0m\u001b[0;34m)\u001b[0m \u001b[0;34m/\u001b[0m\u001b[0mlen\u001b[0m\u001b[0;34m(\u001b[0m\u001b[0mtech_stocks\u001b[0m\u001b[0;34m)\u001b[0m\u001b[0;34m\u001b[0m\u001b[0;34m\u001b[0m\u001b[0m\n\u001b[0m\u001b[1;32m      2\u001b[0m \u001b[0mprint\u001b[0m\u001b[0;34m(\u001b[0m\u001b[0mavg_price\u001b[0m\u001b[0;34m)\u001b[0m\u001b[0;34m\u001b[0m\u001b[0;34m\u001b[0m\u001b[0m\n",
            "\u001b[0;31mTypeError\u001b[0m: 'int' object is not callable"
          ]
        }
      ],
      "source": [
        "avg_price = (tech_stocks[\"Tesla\"] + tech_stocks[\"Matterport\"] + tech_stocks[\"Apple\"]) /len(tech_stocks)\n",
        "print(avg_price)\n",
        "#run through Jupyter without problems, not sure why it's error here"
      ]
    },
    {
      "cell_type": "code",
      "execution_count": 67,
      "metadata": {
        "id": "X3LiZeU56n1N",
        "colab": {
          "base_uri": "https://localhost:8080/"
        },
        "outputId": "83f842ef-fc50-4f3a-add3-669e8a6fa45c"
      },
      "outputs": [
        {
          "output_type": "stream",
          "name": "stdout",
          "text": [
            "{'Tesla': 142, 'Matterport': 4.75, 'Apple': 166, 'Microsoft': 402, 'NVIDIA': 796}\n"
          ]
        }
      ],
      "source": [
        "tech_stocks[\"Microsoft\"] = 402\n",
        "tech_stocks[\"NVIDIA\"] = 796\n",
        "print(tech_stocks)"
      ]
    },
    {
      "cell_type": "code",
      "execution_count": 68,
      "metadata": {
        "colab": {
          "base_uri": "https://localhost:8080/",
          "height": 193
        },
        "id": "fM0XDSIs6n1O",
        "outputId": "57617856-da95-4587-a1e5-1a5248cd5759"
      },
      "outputs": [
        {
          "output_type": "error",
          "ename": "TypeError",
          "evalue": "'int' object is not callable",
          "traceback": [
            "\u001b[0;31m---------------------------------------------------------------------------\u001b[0m",
            "\u001b[0;31mTypeError\u001b[0m                                 Traceback (most recent call last)",
            "\u001b[0;32m<ipython-input-68-bde59e1ca271>\u001b[0m in \u001b[0;36m<cell line: 1>\u001b[0;34m()\u001b[0m\n\u001b[1;32m      3\u001b[0m                 \u001b[0mtech_stocks\u001b[0m\u001b[0;34m[\u001b[0m\u001b[0;34m\"Microsoft\"\u001b[0m\u001b[0;34m]\u001b[0m  \u001b[0;34m+\u001b[0m\u001b[0;34m\u001b[0m\u001b[0;34m\u001b[0m\u001b[0m\n\u001b[1;32m      4\u001b[0m                 \u001b[0mtech_stocks\u001b[0m\u001b[0;34m[\u001b[0m\u001b[0;34m\"NVIDIA\"\u001b[0m\u001b[0;34m]\u001b[0m \u001b[0;34m+\u001b[0m\u001b[0;34m\u001b[0m\u001b[0;34m\u001b[0m\u001b[0m\n\u001b[0;32m----> 5\u001b[0;31m                 tech_stocks[\"Tesla\"]) /len(tech_stocks)\n\u001b[0m\u001b[1;32m      6\u001b[0m \u001b[0mprint\u001b[0m\u001b[0;34m(\u001b[0m\u001b[0mavg_price_new\u001b[0m\u001b[0;34m)\u001b[0m\u001b[0;34m\u001b[0m\u001b[0;34m\u001b[0m\u001b[0m\n",
            "\u001b[0;31mTypeError\u001b[0m: 'int' object is not callable"
          ]
        }
      ],
      "source": [
        "avg_price_new = (tech_stocks[\"Apple\"] +\n",
        "                tech_stocks[\"Matterport\"] +\n",
        "                tech_stocks[\"Microsoft\"]  +\n",
        "                tech_stocks[\"NVIDIA\"] +\n",
        "                tech_stocks[\"Tesla\"]) /len(tech_stocks)\n",
        "print(avg_price_new)"
      ]
    },
    {
      "cell_type": "code",
      "execution_count": null,
      "metadata": {
        "id": "ZeKN2stM6n1O"
      },
      "outputs": [],
      "source": []
    },
    {
      "cell_type": "markdown",
      "metadata": {
        "id": "OlonkaQNGdsP"
      },
      "source": [
        "# PRACTICE OPPORTUNITY SOLUTION"
      ]
    },
    {
      "cell_type": "markdown",
      "metadata": {
        "id": "hUOH79fH6n1O"
      },
      "source": [
        "**PRACTICE OPPORTUNITY SOLUTION:**\n",
        "- **Assume that you work as a financial analyst at a pension fund. You decided to list the names of your 3 top favourite technology stocks along with their prices in a Python dictionary.**\n",
        "    - **1. Define the Python dictionary, feel free to choose any technology stocks. You can use Yahoo finance to obtain the daily price of these securities**\n",
        "    - **2. Calculate the average stock price listed in this dictionary**\n",
        "    - **3. Now assume that you want to add 2 more stocks to the previously created dictionary, update the dictionary and calculate the new average using two different methods (External research is required)**"
      ]
    },
    {
      "cell_type": "code",
      "execution_count": null,
      "metadata": {
        "id": "KHOBUBNeKDXr"
      },
      "outputs": [],
      "source": [
        "# Using Yahoo Finance, manually obtain the prices for the following stocks and place them in the dictionary\n",
        "technology_stocks = {\"Apple\": 152, \"SAP\": 112, \"Tencent Holdings\": 38}\n",
        "print(technology_stocks)\n"
      ]
    },
    {
      "cell_type": "code",
      "execution_count": null,
      "metadata": {
        "id": "kI2mjfdw6n1O"
      },
      "outputs": [],
      "source": [
        "# The len() method returns the number of keys in a Python dictionary\n",
        "len(technology_stocks)"
      ]
    },
    {
      "cell_type": "code",
      "execution_count": null,
      "metadata": {
        "id": "4EXXEpp86n1O"
      },
      "outputs": [],
      "source": [
        "# Calculate the average values as follows\n",
        "print( (technology_stocks[\"Apple\"] + technology_stocks[\"SAP\"] + technology_stocks[\"Tencent Holdings\"])/len(technology_stocks))"
      ]
    },
    {
      "cell_type": "code",
      "execution_count": null,
      "metadata": {
        "id": "jYMH1cpf6n1O"
      },
      "outputs": [],
      "source": [
        "# Add the following two stocks, feel free to choose any new technology stocks\n",
        "\n",
        "technology_stocks[\"Microsoft\"] = 250\n",
        "technology_stocks[\"Samsung\"] = 41\n",
        "\n",
        "print(technology_stocks)\n"
      ]
    },
    {
      "cell_type": "code",
      "execution_count": null,
      "metadata": {
        "id": "LsZxypZk6n1P"
      },
      "outputs": [],
      "source": [
        "# Method 1\n",
        "print( (technology_stocks[\"Apple\"] +\n",
        "        technology_stocks[\"SAP\"] +\n",
        "        technology_stocks[\"Tencent Holdings\"] +\n",
        "        technology_stocks[\"Microsoft\"] +\n",
        "        technology_stocks[\"Samsung\"] )/len(technology_stocks))"
      ]
    },
    {
      "cell_type": "code",
      "execution_count": null,
      "metadata": {
        "id": "uH9T0Ak_6n1P"
      },
      "outputs": [],
      "source": [
        "# Method 2\n",
        "sum(technology_stocks.values())/len(technology_stocks)"
      ]
    },
    {
      "cell_type": "markdown",
      "metadata": {
        "id": "GDPMxOSf6n1P"
      },
      "source": [
        "# EXCELLENT JOB!"
      ]
    }
  ],
  "metadata": {
    "colab": {
      "provenance": [],
      "include_colab_link": true
    },
    "kernelspec": {
      "display_name": "Python 3 (ipykernel)",
      "language": "python",
      "name": "python3"
    },
    "language_info": {
      "codemirror_mode": {
        "name": "ipython",
        "version": 3
      },
      "file_extension": ".py",
      "mimetype": "text/x-python",
      "name": "python",
      "nbconvert_exporter": "python",
      "pygments_lexer": "ipython3",
      "version": "3.8.8"
    }
  },
  "nbformat": 4,
  "nbformat_minor": 0
}
