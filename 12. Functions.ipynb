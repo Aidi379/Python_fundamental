{
  "cells": [
    {
      "cell_type": "markdown",
      "metadata": {
        "id": "view-in-github",
        "colab_type": "text"
      },
      "source": [
        "<a href=\"https://colab.research.google.com/github/Aidi379/Python_fundamental/blob/main/12.%20Functions.ipynb\" target=\"_parent\"><img src=\"https://colab.research.google.com/assets/colab-badge.svg\" alt=\"Open In Colab\"/></a>"
      ]
    },
    {
      "cell_type": "code",
      "execution_count": null,
      "metadata": {
        "id": "OumYCbeQyWyo"
      },
      "outputs": [],
      "source": [
        "# Define a function named \"my_sum\"\n",
        "# The function receives two numbers and adds them up\n",
        "# def is the keyword used to create a function followed by the name of the function\n",
        "\n",
        "def my_sum(x, y):\n",
        "    z = x + y\n",
        "    return z"
      ]
    },
    {
      "cell_type": "code",
      "execution_count": null,
      "metadata": {
        "id": "vWsrlvQdyWyp",
        "outputId": "c03f5d5c-8090-46e0-d55e-5457810e0046"
      },
      "outputs": [
        {
          "data": {
            "text/plain": [
              "12"
            ]
          },
          "execution_count": 2,
          "metadata": {},
          "output_type": "execute_result"
        }
      ],
      "source": [
        "# Function call\n",
        "my_sum(5, 7)"
      ]
    },
    {
      "cell_type": "code",
      "execution_count": null,
      "metadata": {
        "id": "Q2lBNo4dyWyq"
      },
      "outputs": [],
      "source": [
        "# Let's define a function named \"calculate_FV\" that takes in:\n",
        "    # 1. present value\n",
        "    # 2. interest rate\n",
        "    # 3. number of years\n",
        "    # 4. number of compounding periods per year\n",
        "\n",
        "# The function returns the future value\n",
        "def calculate_FV(PV, i, n, m):\n",
        "    return PV * ( 1 + (i / m)) ** (m * n)"
      ]
    },
    {
      "cell_type": "code",
      "execution_count": null,
      "metadata": {
        "id": "g_ySP1oEyWyr",
        "outputId": "38a6b605-a431-4139-8990-a3456a3da5df"
      },
      "outputs": [
        {
          "name": "stdout",
          "output_type": "stream",
          "text": [
            "Enter the present value: 100000\n",
            "Enter the annual interest rate: 0.1\n",
            "Enter the number of years: 5\n",
            "Enter the number of compounding periods: 1\n"
          ]
        }
      ],
      "source": [
        "# Let's calculate the future value of money given:\n",
        "    # present value = $100,000\n",
        "    # interest rate (i) = 10%\n",
        "    # number of years (n) = 5\n",
        "    # interest is compounded annually (ie: m = 1)\n",
        "\n",
        "# Let's confirm our answer using this online calculator:\n",
        "# https://www.calculatorsoup.com/calculators/financial/future-value-investment-calculator.php\n",
        "# Test the function using a different interest rate of 15%\n",
        "\n",
        "present_value = float(input(\"Enter the present value: \"))\n",
        "interest = float(input(\"Enter the annual interest rate: \"))\n",
        "num_years = float(input(\"Enter the number of years: \"))\n",
        "compounding_periods = float(input(\"Enter the number of compounding periods: \"))\n"
      ]
    },
    {
      "cell_type": "code",
      "execution_count": null,
      "metadata": {
        "id": "JJwSv8c8yWyr",
        "outputId": "8a989197-ee3e-4164-de70-e9fa465a2ac4"
      },
      "outputs": [
        {
          "name": "stdout",
          "output_type": "stream",
          "text": [
            "The FV of $100000.0 after 5.0 years and 1.0 compounding periods per year at 10.0% interest rate = $161051.0\n"
          ]
        }
      ],
      "source": [
        "# This is the function call\n",
        "FV = calculate_FV(present_value, interest, num_years, compounding_periods)\n",
        "print('The FV of ${} after {} years and {} compounding periods per year at {}% interest rate = ${}'.format(present_value,\n",
        "                                                                                                     num_years,\n",
        "                                                                                                     compounding_periods,\n",
        "                                                                                                     interest * 100,\n",
        "                                                                                                     round(FV, 2)))"
      ]
    },
    {
      "cell_type": "code",
      "execution_count": null,
      "metadata": {
        "id": "MsgSxVQ0yWys"
      },
      "outputs": [],
      "source": [
        "# Let's assume that the default number of years is 5 (fixed term interest)\n",
        "# Upon function definition, we can set a default value for one or more of the function arguments\n",
        "# If the default value is set, we don't have to pass the year argument to the function every time we call it.\n",
        "# if year is not provided, the default value will be used\n",
        "# if year is povided, it would override the existing default value\n",
        "\n",
        "def calculate_FV(PV, i, m, n = 5):\n",
        "    return PV * ( 1 + (i / m)) ** (m * n)"
      ]
    },
    {
      "cell_type": "code",
      "execution_count": null,
      "metadata": {
        "colab": {
          "base_uri": "https://localhost:8080/"
        },
        "id": "-cPR_Cg-M6nm",
        "outputId": "0b5cf18e-46e5-4140-dbf2-701d89728223"
      },
      "outputs": [
        {
          "name": "stdout",
          "output_type": "stream",
          "text": [
            "The FV of $100000.0 after 5.0 years and 1.0 compounding periods per year at 10.0% interest rate = $161051.0\n"
          ]
        }
      ],
      "source": [
        "# If you don't pass a \"year\" argument, the default value of 5 will be used instead\n",
        "FV = calculate_FV(present_value, interest, compounding_periods)\n",
        "print('The FV of ${} after {} years and {} compounding periods per year at {}% interest rate = ${}'.format(present_value,\n",
        "                                                                                                     num_years,\n",
        "                                                                                                     compounding_periods,\n",
        "                                                                                                     interest * 100,\n",
        "                                                                                                     round(FV, 2)))"
      ]
    },
    {
      "cell_type": "markdown",
      "metadata": {
        "id": "dTBmw2HyyWyt"
      },
      "source": [
        "**PRACTICE OPPORTUNITY:**\n",
        "- **Assume that you have been tasked to develop a Python function that calculates the Effective Annual Rate (EAR) of return. EAR considers the effect of compounding within the year and can be calculated from nominal (or stated) annual rate of return ($i$) using the following formula:**\n",
        "\n",
        "$$EAR = (1+i/m)^m -1$$\n",
        "\n",
        "- **Where $m$ represents the number of compounding periods per year.**\n",
        "\n",
        "- **Complete the following tasks:**\n",
        "    - **1. Define a Python function that calculates the effective annual rate of return. The function should receive the nominal (stated) annual rate and the number of compounding periods per year.**\n",
        "    - **2. Assume that you deposited $1,000 today into an account paying 10% compounded quarterly. Calculate the effective annual rate of return using the function defined in task 1. Round your answer to 4 decimal places.**\n",
        "    - **3. Calculate the amount of interest you would have earned by the end of the year. Round your answer to 4 decimal places.**\n",
        "    - **4. Repeat steps 2 and 3 if interest is compounded monthly.**"
      ]
    },
    {
      "cell_type": "code",
      "execution_count": 20,
      "metadata": {
        "colab": {
          "base_uri": "https://localhost:8080/"
        },
        "id": "jLDt8Zd-yWyu",
        "outputId": "2a0e06b9-473a-4733-e8d7-828bb2f16598"
      },
      "outputs": [
        {
          "output_type": "execute_result",
          "data": {
            "text/plain": [
              "0.10381289062499954"
            ]
          },
          "metadata": {},
          "execution_count": 20
        }
      ],
      "source": [
        "def EAR(i, m):\n",
        "  return (1+i/m)**m -1\n",
        "\n",
        "EAR(0.1,4)"
      ]
    },
    {
      "cell_type": "code",
      "execution_count": 24,
      "metadata": {
        "colab": {
          "base_uri": "https://localhost:8080/"
        },
        "id": "KbIwIxh5yWyu",
        "outputId": "137146ba-d987-4d7f-d193-878ab42c3030"
      },
      "outputs": [
        {
          "output_type": "execute_result",
          "data": {
            "text/plain": [
              "0.1038"
            ]
          },
          "metadata": {},
          "execution_count": 24
        }
      ],
      "source": [
        "Deposit = 1000\n",
        "compounding_periods = 4\n",
        "nominal_annual_rate = 0.1\n",
        "\n",
        "interest = round(EAR(nominal_annual_rate, compounding_periods), 4)\n",
        "interest"
      ]
    },
    {
      "cell_type": "code",
      "execution_count": 25,
      "metadata": {
        "colab": {
          "base_uri": "https://localhost:8080/"
        },
        "id": "Y7d0h-H-yWyu",
        "outputId": "be843f30-95f3-4e12-abf7-9c6b3a532327"
      },
      "outputs": [
        {
          "output_type": "execute_result",
          "data": {
            "text/plain": [
              "103.8"
            ]
          },
          "metadata": {},
          "execution_count": 25
        }
      ],
      "source": [
        "interest_amount = round(Deposit * interest, 4)\n",
        "interest_amount"
      ]
    },
    {
      "cell_type": "code",
      "execution_count": 26,
      "metadata": {
        "colab": {
          "base_uri": "https://localhost:8080/"
        },
        "id": "PPtjjsMNyWyu",
        "outputId": "504cc38d-8ba4-451c-8af1-36c8dd5aa645"
      },
      "outputs": [
        {
          "output_type": "execute_result",
          "data": {
            "text/plain": [
              "104.7"
            ]
          },
          "metadata": {},
          "execution_count": 26
        }
      ],
      "source": [
        "compounding_periods = 12\n",
        "interest = round(EAR(nominal_annual_rate, compounding_periods), 4)\n",
        "interest\n",
        "interest_amount = round(Deposit * interest, 4)\n",
        "interest_amount"
      ]
    },
    {
      "cell_type": "markdown",
      "metadata": {
        "id": "BTLG7E2YeYIu"
      },
      "source": [
        "# PRACTICE OPPORTUNITY SOLUTION"
      ]
    },
    {
      "cell_type": "markdown",
      "metadata": {
        "id": "YAh_RlMreu3V"
      },
      "source": [
        "**PRACTICE OPPORTUNITY SOLUTION:**\n",
        "- **Assume that you have been tasked to develop a Python function that calculates the Effective Annual Rate (EAR) of return. EAR considers the effect of compounding within the year and can be calculated from nominal (or stated) annual rate of return ($i$) using the following formula:**\n",
        "\n",
        "$$EAR = (1+i/m)^m -1$$\n",
        "\n",
        "- **Where $m$ represents the number of compounding periods per year.**\n",
        "\n",
        "- **Complete the following tasks:**\n",
        "    - **1. Define a Python function that calculates the effective annual rate of return. The function should receive the nominal (stated) annual rate and the number of compounding periods per year.**\n",
        "    - **2. Assume that you deposited $1,000 today into an account paying 10% compounded quarterly. Calculate the effective annual rate of return using the function defined in task 1. Round your answer to 4 decimal places.**\n",
        "    - **3. Calculate the amount of interest you would have earned by the end of the year. Round your answer to 4 decimal places.**\n",
        "    - **4. Repeat steps 2 and 3 if interest is compounded monthly.**\n",
        "   "
      ]
    },
    {
      "cell_type": "code",
      "execution_count": null,
      "metadata": {
        "id": "YUAadiMkyWyv"
      },
      "outputs": [],
      "source": [
        "# Define the function that calculates the effective annual rate of return\n",
        "def effective_annual_rate(i, m):\n",
        "    return ((1 + (i/m)) ** m) - 1"
      ]
    },
    {
      "cell_type": "code",
      "execution_count": null,
      "metadata": {
        "id": "LQYLBtQkyWyw",
        "outputId": "4e5d4936-3f0c-4fa7-a533-1cc80890432f"
      },
      "outputs": [
        {
          "name": "stdout",
          "output_type": "stream",
          "text": [
            "Enter the total amount you would like to invest today in dollars: 1000\n",
            "Enter the nominal (stated) annual rate of return: 0.1\n",
            "Enter the number of compounding periods per year: 12\n",
            "The effective annual interest rate = 10.47%\n",
            "The total interest earned by the end of the year = $104.7131\n"
          ]
        }
      ],
      "source": [
        "# Obtain data from the user\n",
        "# Note that the 10% interest rate is represented in code as 0.1\n",
        "amount_invested = float(input(\"Enter the total amount you would like to invest today in dollars: \"))\n",
        "nominal_rate = float(input(\"Enter the nominal (stated) annual rate of return: \"))\n",
        "compounding_periods = float(input(\"Enter the number of compounding periods per year: \"))\n",
        "\n",
        "# Call the function\n",
        "effective_rate = effective_annual_rate(nominal_rate, compounding_periods)\n",
        "print('The effective annual interest rate = {}%'.format(round(effective_rate, 4) * 100))\n",
        "print('The total interest earned by the end of the year = ${}'.format(round(effective_rate * amount_invested, 4)))"
      ]
    },
    {
      "cell_type": "markdown",
      "metadata": {
        "id": "aD7aWZcJyWyw"
      },
      "source": [
        "# EXCELLENT JOB!"
      ]
    }
  ],
  "metadata": {
    "colab": {
      "provenance": [],
      "include_colab_link": true
    },
    "kernelspec": {
      "display_name": "Python 3 (ipykernel)",
      "language": "python",
      "name": "python3"
    },
    "language_info": {
      "codemirror_mode": {
        "name": "ipython",
        "version": 3
      },
      "file_extension": ".py",
      "mimetype": "text/x-python",
      "name": "python",
      "nbconvert_exporter": "python",
      "pygments_lexer": "ipython3",
      "version": "3.8.8"
    },
    "vscode": {
      "interpreter": {
        "hash": "aee8b7b246df8f9039afb4144a1f6fd8d2ca17a180786b69acc140d282b71a49"
      }
    }
  },
  "nbformat": 4,
  "nbformat_minor": 0
}