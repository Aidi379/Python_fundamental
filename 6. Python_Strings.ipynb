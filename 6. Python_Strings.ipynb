{
  "cells": [
    {
      "cell_type": "markdown",
      "metadata": {
        "id": "view-in-github",
        "colab_type": "text"
      },
      "source": [
        "<a href=\"https://colab.research.google.com/github/Aidi379/Python_fundamental/blob/main/6.%20Python_Strings.ipynb\" target=\"_parent\"><img src=\"https://colab.research.google.com/assets/colab-badge.svg\" alt=\"Open In Colab\"/></a>"
      ]
    },
    {
      "cell_type": "code",
      "execution_count": null,
      "metadata": {
        "colab": {
          "base_uri": "https://localhost:8080/",
          "height": 35
        },
        "id": "rDjVcbLd6xJf",
        "outputId": "aad018a2-e48e-415e-ff06-309350512c12"
      },
      "outputs": [
        {
          "data": {
            "text/plain": [
              "'Hello & Welcome to Python Programming Fundamentals Course!'"
            ]
          },
          "execution_count": 12,
          "metadata": {},
          "output_type": "execute_result"
        }
      ],
      "source": [
        "# A string in Python is a sequence of characters\n",
        "# String can be enclosed by either double or single quotation marks\n",
        "welcome_message = \"Hello & Welcome to Python Programming Fundamentals Course!\"\n",
        "welcome_message"
      ]
    },
    {
      "cell_type": "code",
      "execution_count": null,
      "metadata": {
        "colab": {
          "base_uri": "https://localhost:8080/",
          "height": 34
        },
        "id": "_UN8zNOJ60ud",
        "outputId": "c8bb9ddd-36b9-4aa0-bc62-7f2246f19a30"
      },
      "outputs": [
        {
          "data": {
            "text/plain": [
              "str"
            ]
          },
          "execution_count": 17,
          "metadata": {},
          "output_type": "execute_result"
        }
      ],
      "source": [
        "# Let's obtain the datatype\n",
        "type(welcome_message)"
      ]
    },
    {
      "cell_type": "code",
      "execution_count": null,
      "metadata": {
        "id": "tPI7wHXTRi5C",
        "outputId": "85caf4cd-ad91-4fda-b603-7de04f4c4c9c"
      },
      "outputs": [
        {
          "data": {
            "text/plain": [
              "'HELLO & WELCOME TO PYTHON PROGRAMMING FUNDAMENTALS COURSE!'"
            ]
          },
          "execution_count": 19,
          "metadata": {},
          "output_type": "execute_result"
        }
      ],
      "source": [
        "# The .upper() method is used to convert the string into uppercase\n",
        "welcome_message.upper()"
      ]
    },
    {
      "cell_type": "code",
      "execution_count": null,
      "metadata": {
        "id": "1QZhbx6ERi5D",
        "outputId": "e6f6c4e5-cc7a-4f99-8947-41be49359692"
      },
      "outputs": [
        {
          "data": {
            "text/plain": [
              "['Hello',\n",
              " '&',\n",
              " 'Welcome',\n",
              " 'to',\n",
              " 'Python',\n",
              " 'Programming',\n",
              " 'Fundamentals',\n",
              " 'Course!']"
            ]
          },
          "execution_count": 20,
          "metadata": {},
          "output_type": "execute_result"
        }
      ],
      "source": [
        "# The .split() method is used to divide up the string into words\n",
        "# The output from the .split() method is a list which is denoted by square bracket - []\n",
        "words = welcome_message.split()\n",
        "words"
      ]
    },
    {
      "cell_type": "code",
      "execution_count": null,
      "metadata": {
        "id": "qoziZV1cRi5D",
        "outputId": "2be28547-4da3-4439-84d9-673d97134b95"
      },
      "outputs": [
        {
          "data": {
            "text/plain": [
              "list"
            ]
          },
          "execution_count": 21,
          "metadata": {},
          "output_type": "execute_result"
        }
      ],
      "source": [
        "# Note that you split the string into words that are listed in a Python list\n",
        "# Let's confirm the datatype!\n",
        "type(words)"
      ]
    },
    {
      "cell_type": "code",
      "execution_count": null,
      "metadata": {
        "id": "JFZLQHykRi5D",
        "outputId": "cf1b8aa8-f499-42c2-ac0e-5f7f2a4b2e94"
      },
      "outputs": [
        {
          "data": {
            "text/plain": [
              "['Hello ', ' Welcome to Python Programming Fundamentals Course!']"
            ]
          },
          "execution_count": 22,
          "metadata": {},
          "output_type": "execute_result"
        }
      ],
      "source": [
        "# You can specify which letter could be used to perform the split\n",
        "words = welcome_message.split('&')\n",
        "words"
      ]
    },
    {
      "cell_type": "code",
      "execution_count": null,
      "metadata": {
        "colab": {
          "base_uri": "https://localhost:8080/",
          "height": 35
        },
        "id": "2r3aHdjn60wz",
        "outputId": "688fff5c-0c40-4e88-97e4-995a0374ca1c"
      },
      "outputs": [
        {
          "data": {
            "text/plain": [
              "'SarahDavid'"
            ]
          },
          "execution_count": 23,
          "metadata": {},
          "output_type": "execute_result"
        }
      ],
      "source": [
        "# Combining two strings together (Let's combine the first and last name of an investor)\n",
        "first_name = \"Sarah\"\n",
        "last_name = \"David\"\n",
        "full_name = first_name + last_name\n",
        "full_name"
      ]
    },
    {
      "cell_type": "code",
      "execution_count": null,
      "metadata": {
        "colab": {
          "base_uri": "https://localhost:8080/",
          "height": 35
        },
        "id": "8DZ5JbeX601H",
        "outputId": "7b69fb30-47d6-454f-d575-4a2152fe0e4b"
      },
      "outputs": [
        {
          "data": {
            "text/plain": [
              "'Sarah David'"
            ]
          },
          "execution_count": 24,
          "metadata": {},
          "output_type": "execute_result"
        }
      ],
      "source": [
        "# You can combine both strings together and add spaces in between\n",
        "full_name = first_name + \" \" + last_name\n",
        "full_name"
      ]
    },
    {
      "cell_type": "markdown",
      "metadata": {
        "id": "9cN9W4bkM-vs"
      },
      "source": [
        "**PRACTICE OPPORTUNITY:**\n",
        "- **Assume that you work at a bank and you have been tasked to develop a Python code that asks clients to provide their feedback regarding the bank service and break their input into individual words. Write a Python code that performs the following tasks:**\n",
        "    - **1. Prompt client to enter his/her feedback regarding the service and obtains their input**\n",
        "    - **2. Split the client input into words and print them to the screen**\n",
        "    - **3. Test your code using 3 different user inputs**\n",
        "    - **4. Expand your code to request the user to enter his/her email address. The code should prompt clients requesting his/her e-mail and then extracts the user first name only (Note that the e-mail format is as follows: firstname.lastname@gmail.com)**\n"
      ]
    },
    {
      "cell_type": "code",
      "execution_count": 3,
      "metadata": {
        "colab": {
          "base_uri": "https://localhost:8080/"
        },
        "id": "W22WhYrzRi5E",
        "outputId": "6103db03-5188-4b11-e8ae-f5aa41636034"
      },
      "outputs": [
        {
          "name": "stdout",
          "output_type": "stream",
          "text": [
            "Welcome to our bank, please tell us how we did today: you did great! love your service\n"
          ]
        }
      ],
      "source": [
        "feedback = input(\"Welcome to our bank, please tell us how we did today: \")"
      ]
    },
    {
      "cell_type": "code",
      "execution_count": 4,
      "metadata": {
        "colab": {
          "base_uri": "https://localhost:8080/"
        },
        "id": "SL7xfbTfRi5E",
        "outputId": "4ebcb82f-dbb2-4424-95c3-e6ba1e9c8e82"
      },
      "outputs": [
        {
          "output_type": "stream",
          "name": "stdout",
          "text": [
            "['you', 'did', 'great!', 'love', 'your', 'service']\n"
          ]
        }
      ],
      "source": [
        "print(feedback.split())"
      ]
    },
    {
      "cell_type": "code",
      "execution_count": 1,
      "metadata": {
        "colab": {
          "base_uri": "https://localhost:8080/"
        },
        "id": "TrKN3hHARi5E",
        "outputId": "6f59b965-2b26-40cd-87b9-554423f4e4bf"
      },
      "outputs": [
        {
          "name": "stdout",
          "output_type": "stream",
          "text": [
            "Please enter your email address: lydia.su@gmail.com\n"
          ]
        }
      ],
      "source": [
        "email = input(\"Please enter your email address: \")"
      ]
    },
    {
      "cell_type": "code",
      "execution_count": 2,
      "metadata": {
        "colab": {
          "base_uri": "https://localhost:8080/"
        },
        "id": "eXB-wOiMRi5E",
        "outputId": "4cb8f907-7451-4599-842d-ae4890cf9218"
      },
      "outputs": [
        {
          "output_type": "stream",
          "name": "stdout",
          "text": [
            "lydia\n"
          ]
        }
      ],
      "source": [
        "first_name = email.split(\".\")\n",
        "print(first_name[0])"
      ]
    },
    {
      "cell_type": "code",
      "execution_count": null,
      "metadata": {
        "id": "AQ4t6HoWRi5E"
      },
      "outputs": [],
      "source": []
    },
    {
      "cell_type": "markdown",
      "metadata": {
        "id": "OlonkaQNGdsP"
      },
      "source": [
        "# PRACTICE OPPORTUNITY SOLUTION"
      ]
    },
    {
      "cell_type": "markdown",
      "metadata": {
        "id": "cKfxIRTBRi5E"
      },
      "source": [
        "**PRACTICE OPPORTUNITY SOLUTION:**\n",
        "- **Assume that you work at a bank and you have been tasked to develop a Python code that asks clients to provide their feedback regarding the bank service and break their input into individual words. Write a Python code that performs the following tasks:**\n",
        "    - **1. Prompt client to enter his/her feedback regarding the service and obtains their input**\n",
        "    - **2. Split the client input into words and print them to the screen**\n",
        "    - **3. Test your code using 3 different user inputs**\n",
        "    - **4. Expand your code to request the user to enter his/her email address. The code should prompt clients requesting his/her e-mail and then extracts the user first name only (Note that the e-mail format is as follows: firstname.lastname@gmail.com)**\n"
      ]
    },
    {
      "cell_type": "code",
      "execution_count": null,
      "metadata": {
        "id": "6C17ix5xpr4p",
        "outputId": "1985c731-7f15-4ecd-f6c9-c7aab4a79826"
      },
      "outputs": [
        {
          "name": "stdout",
          "output_type": "stream",
          "text": [
            "Welcome to the bank, What did we do at the bank today?I am happy with the service\n",
            "Here are the list of words you entered: ['I', 'am', 'happy', 'with', 'the', 'service']\n"
          ]
        }
      ],
      "source": [
        "# The code will get the user input and split it into words separated by space \" \"\n",
        "feedback = input(\"Welcome to the bank, What did we do at the bank today?\")\n",
        "words = feedback.split(\" \")\n",
        "print(\"Here are the list of words you entered:\", words)"
      ]
    },
    {
      "cell_type": "code",
      "execution_count": null,
      "metadata": {
        "id": "0P41ds4zNrKl",
        "outputId": "c51ca2af-e94c-44dd-fc75-ea83c2c26df2"
      },
      "outputs": [
        {
          "name": "stdout",
          "output_type": "stream",
          "text": [
            "Please enter your e-mail address:ryan.ahmed@gmail.com\n"
          ]
        },
        {
          "data": {
            "text/plain": [
              "['ryan.ahmed', 'gmail.com']"
            ]
          },
          "execution_count": 26,
          "metadata": {},
          "output_type": "execute_result"
        }
      ],
      "source": [
        "# The code will ask the user to enter their e-mail address\n",
        "# Note that you will need to do two splits, one on the @ and the second split on the '.'\n",
        "email = input(\"Please enter your e-mail address:\")\n",
        "output = email.split('@')\n",
        "output"
      ]
    },
    {
      "cell_type": "code",
      "execution_count": null,
      "metadata": {
        "id": "Zd8ItJ4tRi5F",
        "outputId": "602d50fc-e64d-4d0a-8284-fe3436da8072"
      },
      "outputs": [
        {
          "data": {
            "text/plain": [
              "'ryan.ahmed'"
            ]
          },
          "execution_count": 27,
          "metadata": {},
          "output_type": "execute_result"
        }
      ],
      "source": [
        "# Now we are only interested in the first element in the list with index 0\n",
        "output[0]"
      ]
    },
    {
      "cell_type": "code",
      "execution_count": null,
      "metadata": {
        "scrolled": true,
        "id": "nV9xt-fuRi5F",
        "outputId": "4a26e54a-fd34-4330-b002-9c8523eeb41b"
      },
      "outputs": [
        {
          "name": "stdout",
          "output_type": "stream",
          "text": [
            "ryan\n"
          ]
        }
      ],
      "source": [
        "# We will perform the split on the first list element only\n",
        "name = output[0].split('.')\n",
        "print(name[0])"
      ]
    },
    {
      "cell_type": "markdown",
      "metadata": {
        "id": "bWffPEznRi5F"
      },
      "source": [
        "# EXCELLENT JOB!"
      ]
    }
  ],
  "metadata": {
    "colab": {
      "provenance": [],
      "include_colab_link": true
    },
    "kernelspec": {
      "display_name": "Python 3 (ipykernel)",
      "language": "python",
      "name": "python3"
    },
    "language_info": {
      "codemirror_mode": {
        "name": "ipython",
        "version": 3
      },
      "file_extension": ".py",
      "mimetype": "text/x-python",
      "name": "python",
      "nbconvert_exporter": "python",
      "pygments_lexer": "ipython3",
      "version": "3.8.8"
    }
  },
  "nbformat": 4,
  "nbformat_minor": 0
}