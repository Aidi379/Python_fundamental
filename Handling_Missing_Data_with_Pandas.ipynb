{
  "cells": [
    {
      "cell_type": "markdown",
      "metadata": {
        "id": "view-in-github",
        "colab_type": "text"
      },
      "source": [
        "<a href=\"https://colab.research.google.com/github/Aidi379/Python_fundamental/blob/main/Handling_Missing_Data_with_Pandas.ipynb\" target=\"_parent\"><img src=\"https://colab.research.google.com/assets/colab-badge.svg\" alt=\"Open In Colab\"/></a>"
      ]
    },
    {
      "cell_type": "code",
      "execution_count": null,
      "metadata": {
        "id": "e4zdUVSCmeIR"
      },
      "outputs": [],
      "source": [
        "# Pandas is a data manipulation and analysis tool that uses a data structure known as DataFrame.\n",
        "# DataFrames empower programmers to store and manipulate data in a tabular fashion (rows & columns).\n",
        "# Import Pandas Library into the current environment\n",
        "# \"pd\" is an alias of \"Pandas\"\n",
        "import pandas as pd"
      ]
    },
    {
      "cell_type": "code",
      "source": [
        "import pandas as pd\n",
        "\n",
        "# Specify the new file path\n",
        "file_path = 'D:\\\\george.docx'\n",
        "\n",
        "# Read the CSV file into a pandas DataFrame\n",
        "investor_df = pd.read_csv(file_path)\n",
        "\n",
        "# Display the DataFrame\n",
        "print(investor_df)\n"
      ],
      "metadata": {
        "colab": {
          "base_uri": "https://localhost:8080/",
          "height": 373
        },
        "id": "tTFtPzidyaGZ",
        "outputId": "0c6fa203-8144-4bfb-b994-77ec1f1ed200"
      },
      "execution_count": null,
      "outputs": [
        {
          "output_type": "error",
          "ename": "FileNotFoundError",
          "evalue": "[Errno 2] No such file or directory: 'D:\\\\george.docx'",
          "traceback": [
            "\u001b[0;31m---------------------------------------------------------------------------\u001b[0m",
            "\u001b[0;31mFileNotFoundError\u001b[0m                         Traceback (most recent call last)",
            "\u001b[0;32m<ipython-input-35-ce1d4016e140>\u001b[0m in \u001b[0;36m<cell line: 7>\u001b[0;34m()\u001b[0m\n\u001b[1;32m      5\u001b[0m \u001b[0;34m\u001b[0m\u001b[0m\n\u001b[1;32m      6\u001b[0m \u001b[0;31m# Read the CSV file into a pandas DataFrame\u001b[0m\u001b[0;34m\u001b[0m\u001b[0;34m\u001b[0m\u001b[0m\n\u001b[0;32m----> 7\u001b[0;31m \u001b[0minvestor_df\u001b[0m \u001b[0;34m=\u001b[0m \u001b[0mpd\u001b[0m\u001b[0;34m.\u001b[0m\u001b[0mread_csv\u001b[0m\u001b[0;34m(\u001b[0m\u001b[0mfile_path\u001b[0m\u001b[0;34m)\u001b[0m\u001b[0;34m\u001b[0m\u001b[0;34m\u001b[0m\u001b[0m\n\u001b[0m\u001b[1;32m      8\u001b[0m \u001b[0;34m\u001b[0m\u001b[0m\n\u001b[1;32m      9\u001b[0m \u001b[0;31m# Display the DataFrame\u001b[0m\u001b[0;34m\u001b[0m\u001b[0;34m\u001b[0m\u001b[0m\n",
            "\u001b[0;32m/usr/local/lib/python3.10/dist-packages/pandas/io/parsers/readers.py\u001b[0m in \u001b[0;36mread_csv\u001b[0;34m(filepath_or_buffer, sep, delimiter, header, names, index_col, usecols, dtype, engine, converters, true_values, false_values, skipinitialspace, skiprows, skipfooter, nrows, na_values, keep_default_na, na_filter, verbose, skip_blank_lines, parse_dates, infer_datetime_format, keep_date_col, date_parser, date_format, dayfirst, cache_dates, iterator, chunksize, compression, thousands, decimal, lineterminator, quotechar, quoting, doublequote, escapechar, comment, encoding, encoding_errors, dialect, on_bad_lines, delim_whitespace, low_memory, memory_map, float_precision, storage_options, dtype_backend)\u001b[0m\n\u001b[1;32m    910\u001b[0m     \u001b[0mkwds\u001b[0m\u001b[0;34m.\u001b[0m\u001b[0mupdate\u001b[0m\u001b[0;34m(\u001b[0m\u001b[0mkwds_defaults\u001b[0m\u001b[0;34m)\u001b[0m\u001b[0;34m\u001b[0m\u001b[0;34m\u001b[0m\u001b[0m\n\u001b[1;32m    911\u001b[0m \u001b[0;34m\u001b[0m\u001b[0m\n\u001b[0;32m--> 912\u001b[0;31m     \u001b[0;32mreturn\u001b[0m \u001b[0m_read\u001b[0m\u001b[0;34m(\u001b[0m\u001b[0mfilepath_or_buffer\u001b[0m\u001b[0;34m,\u001b[0m \u001b[0mkwds\u001b[0m\u001b[0;34m)\u001b[0m\u001b[0;34m\u001b[0m\u001b[0;34m\u001b[0m\u001b[0m\n\u001b[0m\u001b[1;32m    913\u001b[0m \u001b[0;34m\u001b[0m\u001b[0m\n\u001b[1;32m    914\u001b[0m \u001b[0;34m\u001b[0m\u001b[0m\n",
            "\u001b[0;32m/usr/local/lib/python3.10/dist-packages/pandas/io/parsers/readers.py\u001b[0m in \u001b[0;36m_read\u001b[0;34m(filepath_or_buffer, kwds)\u001b[0m\n\u001b[1;32m    575\u001b[0m \u001b[0;34m\u001b[0m\u001b[0m\n\u001b[1;32m    576\u001b[0m     \u001b[0;31m# Create the parser.\u001b[0m\u001b[0;34m\u001b[0m\u001b[0;34m\u001b[0m\u001b[0m\n\u001b[0;32m--> 577\u001b[0;31m     \u001b[0mparser\u001b[0m \u001b[0;34m=\u001b[0m \u001b[0mTextFileReader\u001b[0m\u001b[0;34m(\u001b[0m\u001b[0mfilepath_or_buffer\u001b[0m\u001b[0;34m,\u001b[0m \u001b[0;34m**\u001b[0m\u001b[0mkwds\u001b[0m\u001b[0;34m)\u001b[0m\u001b[0;34m\u001b[0m\u001b[0;34m\u001b[0m\u001b[0m\n\u001b[0m\u001b[1;32m    578\u001b[0m \u001b[0;34m\u001b[0m\u001b[0m\n\u001b[1;32m    579\u001b[0m     \u001b[0;32mif\u001b[0m \u001b[0mchunksize\u001b[0m \u001b[0;32mor\u001b[0m \u001b[0miterator\u001b[0m\u001b[0;34m:\u001b[0m\u001b[0;34m\u001b[0m\u001b[0;34m\u001b[0m\u001b[0m\n",
            "\u001b[0;32m/usr/local/lib/python3.10/dist-packages/pandas/io/parsers/readers.py\u001b[0m in \u001b[0;36m__init__\u001b[0;34m(self, f, engine, **kwds)\u001b[0m\n\u001b[1;32m   1405\u001b[0m \u001b[0;34m\u001b[0m\u001b[0m\n\u001b[1;32m   1406\u001b[0m         \u001b[0mself\u001b[0m\u001b[0;34m.\u001b[0m\u001b[0mhandles\u001b[0m\u001b[0;34m:\u001b[0m \u001b[0mIOHandles\u001b[0m \u001b[0;34m|\u001b[0m \u001b[0;32mNone\u001b[0m \u001b[0;34m=\u001b[0m \u001b[0;32mNone\u001b[0m\u001b[0;34m\u001b[0m\u001b[0;34m\u001b[0m\u001b[0m\n\u001b[0;32m-> 1407\u001b[0;31m         \u001b[0mself\u001b[0m\u001b[0;34m.\u001b[0m\u001b[0m_engine\u001b[0m \u001b[0;34m=\u001b[0m \u001b[0mself\u001b[0m\u001b[0;34m.\u001b[0m\u001b[0m_make_engine\u001b[0m\u001b[0;34m(\u001b[0m\u001b[0mf\u001b[0m\u001b[0;34m,\u001b[0m \u001b[0mself\u001b[0m\u001b[0;34m.\u001b[0m\u001b[0mengine\u001b[0m\u001b[0;34m)\u001b[0m\u001b[0;34m\u001b[0m\u001b[0;34m\u001b[0m\u001b[0m\n\u001b[0m\u001b[1;32m   1408\u001b[0m \u001b[0;34m\u001b[0m\u001b[0m\n\u001b[1;32m   1409\u001b[0m     \u001b[0;32mdef\u001b[0m \u001b[0mclose\u001b[0m\u001b[0;34m(\u001b[0m\u001b[0mself\u001b[0m\u001b[0;34m)\u001b[0m \u001b[0;34m->\u001b[0m \u001b[0;32mNone\u001b[0m\u001b[0;34m:\u001b[0m\u001b[0;34m\u001b[0m\u001b[0;34m\u001b[0m\u001b[0m\n",
            "\u001b[0;32m/usr/local/lib/python3.10/dist-packages/pandas/io/parsers/readers.py\u001b[0m in \u001b[0;36m_make_engine\u001b[0;34m(self, f, engine)\u001b[0m\n\u001b[1;32m   1659\u001b[0m                 \u001b[0;32mif\u001b[0m \u001b[0;34m\"b\"\u001b[0m \u001b[0;32mnot\u001b[0m \u001b[0;32min\u001b[0m \u001b[0mmode\u001b[0m\u001b[0;34m:\u001b[0m\u001b[0;34m\u001b[0m\u001b[0;34m\u001b[0m\u001b[0m\n\u001b[1;32m   1660\u001b[0m                     \u001b[0mmode\u001b[0m \u001b[0;34m+=\u001b[0m \u001b[0;34m\"b\"\u001b[0m\u001b[0;34m\u001b[0m\u001b[0;34m\u001b[0m\u001b[0m\n\u001b[0;32m-> 1661\u001b[0;31m             self.handles = get_handle(\n\u001b[0m\u001b[1;32m   1662\u001b[0m                 \u001b[0mf\u001b[0m\u001b[0;34m,\u001b[0m\u001b[0;34m\u001b[0m\u001b[0;34m\u001b[0m\u001b[0m\n\u001b[1;32m   1663\u001b[0m                 \u001b[0mmode\u001b[0m\u001b[0;34m,\u001b[0m\u001b[0;34m\u001b[0m\u001b[0;34m\u001b[0m\u001b[0m\n",
            "\u001b[0;32m/usr/local/lib/python3.10/dist-packages/pandas/io/common.py\u001b[0m in \u001b[0;36mget_handle\u001b[0;34m(path_or_buf, mode, encoding, compression, memory_map, is_text, errors, storage_options)\u001b[0m\n\u001b[1;32m    857\u001b[0m         \u001b[0;32mif\u001b[0m \u001b[0mioargs\u001b[0m\u001b[0;34m.\u001b[0m\u001b[0mencoding\u001b[0m \u001b[0;32mand\u001b[0m \u001b[0;34m\"b\"\u001b[0m \u001b[0;32mnot\u001b[0m \u001b[0;32min\u001b[0m \u001b[0mioargs\u001b[0m\u001b[0;34m.\u001b[0m\u001b[0mmode\u001b[0m\u001b[0;34m:\u001b[0m\u001b[0;34m\u001b[0m\u001b[0;34m\u001b[0m\u001b[0m\n\u001b[1;32m    858\u001b[0m             \u001b[0;31m# Encoding\u001b[0m\u001b[0;34m\u001b[0m\u001b[0;34m\u001b[0m\u001b[0m\n\u001b[0;32m--> 859\u001b[0;31m             handle = open(\n\u001b[0m\u001b[1;32m    860\u001b[0m                 \u001b[0mhandle\u001b[0m\u001b[0;34m,\u001b[0m\u001b[0;34m\u001b[0m\u001b[0;34m\u001b[0m\u001b[0m\n\u001b[1;32m    861\u001b[0m                 \u001b[0mioargs\u001b[0m\u001b[0;34m.\u001b[0m\u001b[0mmode\u001b[0m\u001b[0;34m,\u001b[0m\u001b[0;34m\u001b[0m\u001b[0;34m\u001b[0m\u001b[0m\n",
            "\u001b[0;31mFileNotFoundError\u001b[0m: [Errno 2] No such file or directory: 'D:\\\\george.docx'"
          ]
        }
      ]
    },
    {
      "cell_type": "code",
      "source": [
        "import os\n",
        "#From ChatGPT\n",
        "\n",
        "# Specify the file path\n",
        "file_path = 'D:\\\\investors_data.csv'\n",
        "\n",
        "# Check if the file exists\n",
        "if os.path.exists(file_path):\n",
        "    # Check if the current process has read permission for the file\n",
        "    if os.access(file_path, os.R_OK):\n",
        "        print(\"You have read permission for the file.\")\n",
        "    else:\n",
        "        print(\"You do not have read permission for the file.\")\n",
        "else:\n",
        "    print(\"The file does not exist.\")\n"
      ],
      "metadata": {
        "colab": {
          "base_uri": "https://localhost:8080/"
        },
        "id": "905EGu7uwsz0",
        "outputId": "e0249d57-2884-4d1e-a159-2c5822039627"
      },
      "execution_count": null,
      "outputs": [
        {
          "output_type": "stream",
          "name": "stdout",
          "text": [
            "The file does not exist.\n"
          ]
        }
      ]
    },
    {
      "cell_type": "code",
      "execution_count": null,
      "metadata": {
        "colab": {
          "base_uri": "https://localhost:8080/",
          "height": 339
        },
        "id": "O9mb-p2tmeIU",
        "outputId": "435bd534-7384-4d2b-d458-9c4a1985f286"
      },
      "outputs": [
        {
          "output_type": "error",
          "ename": "FileNotFoundError",
          "evalue": "[Errno 2] No such file or directory: 'investors_data.csv'",
          "traceback": [
            "\u001b[0;31m---------------------------------------------------------------------------\u001b[0m",
            "\u001b[0;31mFileNotFoundError\u001b[0m                         Traceback (most recent call last)",
            "\u001b[0;32m<ipython-input-6-41b7214eed50>\u001b[0m in \u001b[0;36m<cell line: 2>\u001b[0;34m()\u001b[0m\n\u001b[1;32m      1\u001b[0m \u001b[0;31m# Pandas is used to read a csv file and store data in a DataFrame\u001b[0m\u001b[0;34m\u001b[0m\u001b[0;34m\u001b[0m\u001b[0m\n\u001b[0;32m----> 2\u001b[0;31m \u001b[0minvestor_df\u001b[0m \u001b[0;34m=\u001b[0m \u001b[0mpd\u001b[0m\u001b[0;34m.\u001b[0m\u001b[0mread_csv\u001b[0m\u001b[0;34m(\u001b[0m\u001b[0;34m'investors_data.csv'\u001b[0m\u001b[0;34m)\u001b[0m\u001b[0;34m\u001b[0m\u001b[0;34m\u001b[0m\u001b[0m\n\u001b[0m\u001b[1;32m      3\u001b[0m \u001b[0minvestor_df\u001b[0m\u001b[0;34m\u001b[0m\u001b[0;34m\u001b[0m\u001b[0m\n",
            "\u001b[0;32m/usr/local/lib/python3.10/dist-packages/pandas/io/parsers/readers.py\u001b[0m in \u001b[0;36mread_csv\u001b[0;34m(filepath_or_buffer, sep, delimiter, header, names, index_col, usecols, dtype, engine, converters, true_values, false_values, skipinitialspace, skiprows, skipfooter, nrows, na_values, keep_default_na, na_filter, verbose, skip_blank_lines, parse_dates, infer_datetime_format, keep_date_col, date_parser, date_format, dayfirst, cache_dates, iterator, chunksize, compression, thousands, decimal, lineterminator, quotechar, quoting, doublequote, escapechar, comment, encoding, encoding_errors, dialect, on_bad_lines, delim_whitespace, low_memory, memory_map, float_precision, storage_options, dtype_backend)\u001b[0m\n\u001b[1;32m    910\u001b[0m     \u001b[0mkwds\u001b[0m\u001b[0;34m.\u001b[0m\u001b[0mupdate\u001b[0m\u001b[0;34m(\u001b[0m\u001b[0mkwds_defaults\u001b[0m\u001b[0;34m)\u001b[0m\u001b[0;34m\u001b[0m\u001b[0;34m\u001b[0m\u001b[0m\n\u001b[1;32m    911\u001b[0m \u001b[0;34m\u001b[0m\u001b[0m\n\u001b[0;32m--> 912\u001b[0;31m     \u001b[0;32mreturn\u001b[0m \u001b[0m_read\u001b[0m\u001b[0;34m(\u001b[0m\u001b[0mfilepath_or_buffer\u001b[0m\u001b[0;34m,\u001b[0m \u001b[0mkwds\u001b[0m\u001b[0;34m)\u001b[0m\u001b[0;34m\u001b[0m\u001b[0;34m\u001b[0m\u001b[0m\n\u001b[0m\u001b[1;32m    913\u001b[0m \u001b[0;34m\u001b[0m\u001b[0m\n\u001b[1;32m    914\u001b[0m \u001b[0;34m\u001b[0m\u001b[0m\n",
            "\u001b[0;32m/usr/local/lib/python3.10/dist-packages/pandas/io/parsers/readers.py\u001b[0m in \u001b[0;36m_read\u001b[0;34m(filepath_or_buffer, kwds)\u001b[0m\n\u001b[1;32m    575\u001b[0m \u001b[0;34m\u001b[0m\u001b[0m\n\u001b[1;32m    576\u001b[0m     \u001b[0;31m# Create the parser.\u001b[0m\u001b[0;34m\u001b[0m\u001b[0;34m\u001b[0m\u001b[0m\n\u001b[0;32m--> 577\u001b[0;31m     \u001b[0mparser\u001b[0m \u001b[0;34m=\u001b[0m \u001b[0mTextFileReader\u001b[0m\u001b[0;34m(\u001b[0m\u001b[0mfilepath_or_buffer\u001b[0m\u001b[0;34m,\u001b[0m \u001b[0;34m**\u001b[0m\u001b[0mkwds\u001b[0m\u001b[0;34m)\u001b[0m\u001b[0;34m\u001b[0m\u001b[0;34m\u001b[0m\u001b[0m\n\u001b[0m\u001b[1;32m    578\u001b[0m \u001b[0;34m\u001b[0m\u001b[0m\n\u001b[1;32m    579\u001b[0m     \u001b[0;32mif\u001b[0m \u001b[0mchunksize\u001b[0m \u001b[0;32mor\u001b[0m \u001b[0miterator\u001b[0m\u001b[0;34m:\u001b[0m\u001b[0;34m\u001b[0m\u001b[0;34m\u001b[0m\u001b[0m\n",
            "\u001b[0;32m/usr/local/lib/python3.10/dist-packages/pandas/io/parsers/readers.py\u001b[0m in \u001b[0;36m__init__\u001b[0;34m(self, f, engine, **kwds)\u001b[0m\n\u001b[1;32m   1405\u001b[0m \u001b[0;34m\u001b[0m\u001b[0m\n\u001b[1;32m   1406\u001b[0m         \u001b[0mself\u001b[0m\u001b[0;34m.\u001b[0m\u001b[0mhandles\u001b[0m\u001b[0;34m:\u001b[0m \u001b[0mIOHandles\u001b[0m \u001b[0;34m|\u001b[0m \u001b[0;32mNone\u001b[0m \u001b[0;34m=\u001b[0m \u001b[0;32mNone\u001b[0m\u001b[0;34m\u001b[0m\u001b[0;34m\u001b[0m\u001b[0m\n\u001b[0;32m-> 1407\u001b[0;31m         \u001b[0mself\u001b[0m\u001b[0;34m.\u001b[0m\u001b[0m_engine\u001b[0m \u001b[0;34m=\u001b[0m \u001b[0mself\u001b[0m\u001b[0;34m.\u001b[0m\u001b[0m_make_engine\u001b[0m\u001b[0;34m(\u001b[0m\u001b[0mf\u001b[0m\u001b[0;34m,\u001b[0m \u001b[0mself\u001b[0m\u001b[0;34m.\u001b[0m\u001b[0mengine\u001b[0m\u001b[0;34m)\u001b[0m\u001b[0;34m\u001b[0m\u001b[0;34m\u001b[0m\u001b[0m\n\u001b[0m\u001b[1;32m   1408\u001b[0m \u001b[0;34m\u001b[0m\u001b[0m\n\u001b[1;32m   1409\u001b[0m     \u001b[0;32mdef\u001b[0m \u001b[0mclose\u001b[0m\u001b[0;34m(\u001b[0m\u001b[0mself\u001b[0m\u001b[0;34m)\u001b[0m \u001b[0;34m->\u001b[0m \u001b[0;32mNone\u001b[0m\u001b[0;34m:\u001b[0m\u001b[0;34m\u001b[0m\u001b[0;34m\u001b[0m\u001b[0m\n",
            "\u001b[0;32m/usr/local/lib/python3.10/dist-packages/pandas/io/parsers/readers.py\u001b[0m in \u001b[0;36m_make_engine\u001b[0;34m(self, f, engine)\u001b[0m\n\u001b[1;32m   1659\u001b[0m                 \u001b[0;32mif\u001b[0m \u001b[0;34m\"b\"\u001b[0m \u001b[0;32mnot\u001b[0m \u001b[0;32min\u001b[0m \u001b[0mmode\u001b[0m\u001b[0;34m:\u001b[0m\u001b[0;34m\u001b[0m\u001b[0;34m\u001b[0m\u001b[0m\n\u001b[1;32m   1660\u001b[0m                     \u001b[0mmode\u001b[0m \u001b[0;34m+=\u001b[0m \u001b[0;34m\"b\"\u001b[0m\u001b[0;34m\u001b[0m\u001b[0;34m\u001b[0m\u001b[0m\n\u001b[0;32m-> 1661\u001b[0;31m             self.handles = get_handle(\n\u001b[0m\u001b[1;32m   1662\u001b[0m                 \u001b[0mf\u001b[0m\u001b[0;34m,\u001b[0m\u001b[0;34m\u001b[0m\u001b[0;34m\u001b[0m\u001b[0m\n\u001b[1;32m   1663\u001b[0m                 \u001b[0mmode\u001b[0m\u001b[0;34m,\u001b[0m\u001b[0;34m\u001b[0m\u001b[0;34m\u001b[0m\u001b[0m\n",
            "\u001b[0;32m/usr/local/lib/python3.10/dist-packages/pandas/io/common.py\u001b[0m in \u001b[0;36mget_handle\u001b[0;34m(path_or_buf, mode, encoding, compression, memory_map, is_text, errors, storage_options)\u001b[0m\n\u001b[1;32m    857\u001b[0m         \u001b[0;32mif\u001b[0m \u001b[0mioargs\u001b[0m\u001b[0;34m.\u001b[0m\u001b[0mencoding\u001b[0m \u001b[0;32mand\u001b[0m \u001b[0;34m\"b\"\u001b[0m \u001b[0;32mnot\u001b[0m \u001b[0;32min\u001b[0m \u001b[0mioargs\u001b[0m\u001b[0;34m.\u001b[0m\u001b[0mmode\u001b[0m\u001b[0;34m:\u001b[0m\u001b[0;34m\u001b[0m\u001b[0;34m\u001b[0m\u001b[0m\n\u001b[1;32m    858\u001b[0m             \u001b[0;31m# Encoding\u001b[0m\u001b[0;34m\u001b[0m\u001b[0;34m\u001b[0m\u001b[0m\n\u001b[0;32m--> 859\u001b[0;31m             handle = open(\n\u001b[0m\u001b[1;32m    860\u001b[0m                 \u001b[0mhandle\u001b[0m\u001b[0;34m,\u001b[0m\u001b[0;34m\u001b[0m\u001b[0;34m\u001b[0m\u001b[0m\n\u001b[1;32m    861\u001b[0m                 \u001b[0mioargs\u001b[0m\u001b[0;34m.\u001b[0m\u001b[0mmode\u001b[0m\u001b[0;34m,\u001b[0m\u001b[0;34m\u001b[0m\u001b[0;34m\u001b[0m\u001b[0m\n",
            "\u001b[0;31mFileNotFoundError\u001b[0m: [Errno 2] No such file or directory: 'investors_data.csv'"
          ]
        }
      ],
      "source": [
        "# Pandas is used to read a csv file and store data in a DataFrame\n",
        "investor_df = pd.read_csv('investors_data.csv')\n",
        "investor_df"
      ]
    },
    {
      "cell_type": "code",
      "execution_count": null,
      "metadata": {
        "id": "lULJbCX2meIV",
        "outputId": "e8f512c8-0cf1-4306-baa7-71cee8be4097"
      },
      "outputs": [
        {
          "data": {
            "text/html": [
              "<div>\n",
              "<style scoped>\n",
              "    .dataframe tbody tr th:only-of-type {\n",
              "        vertical-align: middle;\n",
              "    }\n",
              "\n",
              "    .dataframe tbody tr th {\n",
              "        vertical-align: top;\n",
              "    }\n",
              "\n",
              "    .dataframe thead th {\n",
              "        text-align: right;\n",
              "    }\n",
              "</style>\n",
              "<table border=\"1\" class=\"dataframe\">\n",
              "  <thead>\n",
              "    <tr style=\"text-align: right;\">\n",
              "      <th></th>\n",
              "      <th>First Name</th>\n",
              "      <th>Last Name</th>\n",
              "      <th>Age</th>\n",
              "      <th>Portfolio Size</th>\n",
              "      <th>Years with Investment Firm</th>\n",
              "      <th>Risk Tolerance</th>\n",
              "      <th>Goal</th>\n",
              "    </tr>\n",
              "  </thead>\n",
              "  <tbody>\n",
              "    <tr>\n",
              "      <th>0</th>\n",
              "      <td>False</td>\n",
              "      <td>False</td>\n",
              "      <td>False</td>\n",
              "      <td>False</td>\n",
              "      <td>False</td>\n",
              "      <td>False</td>\n",
              "      <td>False</td>\n",
              "    </tr>\n",
              "    <tr>\n",
              "      <th>1</th>\n",
              "      <td>False</td>\n",
              "      <td>False</td>\n",
              "      <td>False</td>\n",
              "      <td>False</td>\n",
              "      <td>False</td>\n",
              "      <td>False</td>\n",
              "      <td>False</td>\n",
              "    </tr>\n",
              "    <tr>\n",
              "      <th>2</th>\n",
              "      <td>False</td>\n",
              "      <td>False</td>\n",
              "      <td>False</td>\n",
              "      <td>False</td>\n",
              "      <td>False</td>\n",
              "      <td>False</td>\n",
              "      <td>False</td>\n",
              "    </tr>\n",
              "    <tr>\n",
              "      <th>3</th>\n",
              "      <td>False</td>\n",
              "      <td>False</td>\n",
              "      <td>False</td>\n",
              "      <td>False</td>\n",
              "      <td>True</td>\n",
              "      <td>False</td>\n",
              "      <td>False</td>\n",
              "    </tr>\n",
              "    <tr>\n",
              "      <th>4</th>\n",
              "      <td>False</td>\n",
              "      <td>False</td>\n",
              "      <td>False</td>\n",
              "      <td>False</td>\n",
              "      <td>False</td>\n",
              "      <td>False</td>\n",
              "      <td>False</td>\n",
              "    </tr>\n",
              "    <tr>\n",
              "      <th>5</th>\n",
              "      <td>False</td>\n",
              "      <td>False</td>\n",
              "      <td>False</td>\n",
              "      <td>False</td>\n",
              "      <td>False</td>\n",
              "      <td>False</td>\n",
              "      <td>False</td>\n",
              "    </tr>\n",
              "    <tr>\n",
              "      <th>6</th>\n",
              "      <td>False</td>\n",
              "      <td>False</td>\n",
              "      <td>False</td>\n",
              "      <td>True</td>\n",
              "      <td>False</td>\n",
              "      <td>False</td>\n",
              "      <td>False</td>\n",
              "    </tr>\n",
              "    <tr>\n",
              "      <th>7</th>\n",
              "      <td>False</td>\n",
              "      <td>False</td>\n",
              "      <td>False</td>\n",
              "      <td>False</td>\n",
              "      <td>False</td>\n",
              "      <td>False</td>\n",
              "      <td>False</td>\n",
              "    </tr>\n",
              "    <tr>\n",
              "      <th>8</th>\n",
              "      <td>False</td>\n",
              "      <td>False</td>\n",
              "      <td>False</td>\n",
              "      <td>False</td>\n",
              "      <td>False</td>\n",
              "      <td>False</td>\n",
              "      <td>False</td>\n",
              "    </tr>\n",
              "  </tbody>\n",
              "</table>\n",
              "</div>"
            ],
            "text/plain": [
              "   First Name  Last Name    Age  Portfolio Size  Years with Investment Firm  \\\n",
              "0       False      False  False           False                       False   \n",
              "1       False      False  False           False                       False   \n",
              "2       False      False  False           False                       False   \n",
              "3       False      False  False           False                        True   \n",
              "4       False      False  False           False                       False   \n",
              "5       False      False  False           False                       False   \n",
              "6       False      False  False            True                       False   \n",
              "7       False      False  False           False                       False   \n",
              "8       False      False  False           False                       False   \n",
              "\n",
              "   Risk Tolerance   Goal  \n",
              "0           False  False  \n",
              "1           False  False  \n",
              "2           False  False  \n",
              "3           False  False  \n",
              "4           False  False  \n",
              "5           False  False  \n",
              "6           False  False  \n",
              "7           False  False  \n",
              "8           False  False  "
            ]
          },
          "execution_count": 4,
          "metadata": {},
          "output_type": "execute_result"
        }
      ],
      "source": [
        "# Let's locate rows and columns that have Null values\n",
        "# isnull() method returns a new DataFrame containing \"True\" in Null locations and \"False\" otherwise\n",
        "investor_df.isnull()"
      ]
    },
    {
      "cell_type": "code",
      "execution_count": null,
      "metadata": {
        "id": "zV0FneuxmeIW",
        "outputId": "b4b0c310-f39f-4341-a057-6f241ed06587"
      },
      "outputs": [
        {
          "data": {
            "text/plain": [
              "First Name                    0\n",
              "Last Name                     0\n",
              "Age                           0\n",
              "Portfolio Size                1\n",
              "Years with Investment Firm    1\n",
              "Risk Tolerance                0\n",
              "Goal                          0\n",
              "dtype: int64"
            ]
          },
          "execution_count": 5,
          "metadata": {},
          "output_type": "execute_result"
        }
      ],
      "source": [
        "# Let's see the total number of missing elements per column\n",
        "investor_df.isnull().sum()"
      ]
    },
    {
      "cell_type": "code",
      "execution_count": null,
      "metadata": {
        "id": "1z7BF1F9meIX"
      },
      "outputs": [],
      "source": [
        "# Drop any row that contains a Null value\n",
        "# Note that the size of the dataframe has been reduced\n",
        "investor_df.dropna(how = 'any', inplace = True)"
      ]
    },
    {
      "cell_type": "code",
      "execution_count": null,
      "metadata": {
        "id": "viLfGoBXmeIX",
        "outputId": "1e2162b9-4f8c-450c-a776-ed63a9704544"
      },
      "outputs": [
        {
          "data": {
            "text/html": [
              "<div>\n",
              "<style scoped>\n",
              "    .dataframe tbody tr th:only-of-type {\n",
              "        vertical-align: middle;\n",
              "    }\n",
              "\n",
              "    .dataframe tbody tr th {\n",
              "        vertical-align: top;\n",
              "    }\n",
              "\n",
              "    .dataframe thead th {\n",
              "        text-align: right;\n",
              "    }\n",
              "</style>\n",
              "<table border=\"1\" class=\"dataframe\">\n",
              "  <thead>\n",
              "    <tr style=\"text-align: right;\">\n",
              "      <th></th>\n",
              "      <th>First Name</th>\n",
              "      <th>Last Name</th>\n",
              "      <th>Age</th>\n",
              "      <th>Portfolio Size</th>\n",
              "      <th>Years with Investment Firm</th>\n",
              "      <th>Risk Tolerance</th>\n",
              "      <th>Goal</th>\n",
              "    </tr>\n",
              "  </thead>\n",
              "  <tbody>\n",
              "    <tr>\n",
              "      <th>0</th>\n",
              "      <td>Ryan</td>\n",
              "      <td>David</td>\n",
              "      <td>32</td>\n",
              "      <td>80100.0</td>\n",
              "      <td>5.0</td>\n",
              "      <td>aggressive</td>\n",
              "      <td>buy house</td>\n",
              "    </tr>\n",
              "    <tr>\n",
              "      <th>1</th>\n",
              "      <td>Sherif</td>\n",
              "      <td>George</td>\n",
              "      <td>54</td>\n",
              "      <td>950000.0</td>\n",
              "      <td>30.0</td>\n",
              "      <td>conservative</td>\n",
              "      <td>retire</td>\n",
              "    </tr>\n",
              "    <tr>\n",
              "      <th>2</th>\n",
              "      <td>Sandra</td>\n",
              "      <td>Stevenson</td>\n",
              "      <td>40</td>\n",
              "      <td>150509.0</td>\n",
              "      <td>10.0</td>\n",
              "      <td>moderate</td>\n",
              "      <td>kids education</td>\n",
              "    </tr>\n",
              "    <tr>\n",
              "      <th>4</th>\n",
              "      <td>Sarah</td>\n",
              "      <td>Aly</td>\n",
              "      <td>26</td>\n",
              "      <td>41258.0</td>\n",
              "      <td>2.0</td>\n",
              "      <td>aggressive</td>\n",
              "      <td>pay student loans</td>\n",
              "    </tr>\n",
              "    <tr>\n",
              "      <th>5</th>\n",
              "      <td>Bassel</td>\n",
              "      <td>Nasr</td>\n",
              "      <td>50</td>\n",
              "      <td>401201.0</td>\n",
              "      <td>15.0</td>\n",
              "      <td>conservative</td>\n",
              "      <td>retire</td>\n",
              "    </tr>\n",
              "    <tr>\n",
              "      <th>7</th>\n",
              "      <td>Nancy</td>\n",
              "      <td>Smith</td>\n",
              "      <td>55</td>\n",
              "      <td>900000.0</td>\n",
              "      <td>17.0</td>\n",
              "      <td>conservative</td>\n",
              "      <td>retire</td>\n",
              "    </tr>\n",
              "    <tr>\n",
              "      <th>8</th>\n",
              "      <td>Heidi</td>\n",
              "      <td>Smith</td>\n",
              "      <td>23</td>\n",
              "      <td>1500.0</td>\n",
              "      <td>1.0</td>\n",
              "      <td>moderate</td>\n",
              "      <td>retire early</td>\n",
              "    </tr>\n",
              "  </tbody>\n",
              "</table>\n",
              "</div>"
            ],
            "text/plain": [
              "  First Name  Last Name  Age  Portfolio Size  Years with Investment Firm  \\\n",
              "0       Ryan      David   32         80100.0                         5.0   \n",
              "1     Sherif     George   54        950000.0                        30.0   \n",
              "2     Sandra  Stevenson   40        150509.0                        10.0   \n",
              "4      Sarah        Aly   26         41258.0                         2.0   \n",
              "5     Bassel       Nasr   50        401201.0                        15.0   \n",
              "7      Nancy      Smith   55        900000.0                        17.0   \n",
              "8      Heidi      Smith   23          1500.0                         1.0   \n",
              "\n",
              "  Risk Tolerance               Goal  \n",
              "0     aggressive          buy house  \n",
              "1   conservative             retire  \n",
              "2       moderate     kids education  \n",
              "4     aggressive  pay student loans  \n",
              "5   conservative             retire  \n",
              "7   conservative             retire  \n",
              "8       moderate       retire early  "
            ]
          },
          "execution_count": 7,
          "metadata": {},
          "output_type": "execute_result"
        }
      ],
      "source": [
        "# Notice that rows 3 and 6 no longer exist!\n",
        "investor_df"
      ]
    },
    {
      "cell_type": "code",
      "execution_count": null,
      "metadata": {
        "id": "1zdPkQenmeIY",
        "outputId": "0b1c1093-cd0a-4f64-a9bc-1602e5d4cae9"
      },
      "outputs": [
        {
          "data": {
            "text/plain": [
              "First Name                    0\n",
              "Last Name                     0\n",
              "Age                           0\n",
              "Portfolio Size                0\n",
              "Years with Investment Firm    0\n",
              "Risk Tolerance                0\n",
              "Goal                          0\n",
              "dtype: int64"
            ]
          },
          "execution_count": 8,
          "metadata": {},
          "output_type": "execute_result"
        }
      ],
      "source": [
        "# Let's check if we still have any missing values\n",
        "investor_df.isnull().sum()"
      ]
    },
    {
      "cell_type": "code",
      "execution_count": null,
      "metadata": {
        "id": "xv9xEFaUmeIZ",
        "outputId": "0d3ff67b-4a53-42e5-b653-6adf841efd90"
      },
      "outputs": [
        {
          "data": {
            "text/html": [
              "<div>\n",
              "<style scoped>\n",
              "    .dataframe tbody tr th:only-of-type {\n",
              "        vertical-align: middle;\n",
              "    }\n",
              "\n",
              "    .dataframe tbody tr th {\n",
              "        vertical-align: top;\n",
              "    }\n",
              "\n",
              "    .dataframe thead th {\n",
              "        text-align: right;\n",
              "    }\n",
              "</style>\n",
              "<table border=\"1\" class=\"dataframe\">\n",
              "  <thead>\n",
              "    <tr style=\"text-align: right;\">\n",
              "      <th></th>\n",
              "      <th>First Name</th>\n",
              "      <th>Last Name</th>\n",
              "      <th>Age</th>\n",
              "      <th>Portfolio Size</th>\n",
              "      <th>Years with Investment Firm</th>\n",
              "      <th>Risk Tolerance</th>\n",
              "      <th>Goal</th>\n",
              "    </tr>\n",
              "  </thead>\n",
              "  <tbody>\n",
              "    <tr>\n",
              "      <th>0</th>\n",
              "      <td>Ryan</td>\n",
              "      <td>David</td>\n",
              "      <td>32</td>\n",
              "      <td>80100.0</td>\n",
              "      <td>5.0</td>\n",
              "      <td>aggressive</td>\n",
              "      <td>buy house</td>\n",
              "    </tr>\n",
              "    <tr>\n",
              "      <th>1</th>\n",
              "      <td>Sherif</td>\n",
              "      <td>George</td>\n",
              "      <td>54</td>\n",
              "      <td>950000.0</td>\n",
              "      <td>30.0</td>\n",
              "      <td>conservative</td>\n",
              "      <td>retire</td>\n",
              "    </tr>\n",
              "    <tr>\n",
              "      <th>2</th>\n",
              "      <td>Sandra</td>\n",
              "      <td>Stevenson</td>\n",
              "      <td>40</td>\n",
              "      <td>150509.0</td>\n",
              "      <td>10.0</td>\n",
              "      <td>moderate</td>\n",
              "      <td>kids education</td>\n",
              "    </tr>\n",
              "    <tr>\n",
              "      <th>3</th>\n",
              "      <td>Victoria</td>\n",
              "      <td>Keller</td>\n",
              "      <td>43</td>\n",
              "      <td>300901.0</td>\n",
              "      <td>NaN</td>\n",
              "      <td>moderate</td>\n",
              "      <td>investment property</td>\n",
              "    </tr>\n",
              "    <tr>\n",
              "      <th>4</th>\n",
              "      <td>Sarah</td>\n",
              "      <td>Aly</td>\n",
              "      <td>26</td>\n",
              "      <td>41258.0</td>\n",
              "      <td>2.0</td>\n",
              "      <td>aggressive</td>\n",
              "      <td>pay student loans</td>\n",
              "    </tr>\n",
              "    <tr>\n",
              "      <th>5</th>\n",
              "      <td>Bassel</td>\n",
              "      <td>Nasr</td>\n",
              "      <td>50</td>\n",
              "      <td>401201.0</td>\n",
              "      <td>15.0</td>\n",
              "      <td>conservative</td>\n",
              "      <td>retire</td>\n",
              "    </tr>\n",
              "    <tr>\n",
              "      <th>6</th>\n",
              "      <td>Chris</td>\n",
              "      <td>Peter</td>\n",
              "      <td>38</td>\n",
              "      <td>NaN</td>\n",
              "      <td>8.0</td>\n",
              "      <td>moderate</td>\n",
              "      <td>kids education</td>\n",
              "    </tr>\n",
              "    <tr>\n",
              "      <th>7</th>\n",
              "      <td>Nancy</td>\n",
              "      <td>Smith</td>\n",
              "      <td>55</td>\n",
              "      <td>900000.0</td>\n",
              "      <td>17.0</td>\n",
              "      <td>conservative</td>\n",
              "      <td>retire</td>\n",
              "    </tr>\n",
              "    <tr>\n",
              "      <th>8</th>\n",
              "      <td>Heidi</td>\n",
              "      <td>Smith</td>\n",
              "      <td>23</td>\n",
              "      <td>1500.0</td>\n",
              "      <td>1.0</td>\n",
              "      <td>moderate</td>\n",
              "      <td>retire early</td>\n",
              "    </tr>\n",
              "  </tbody>\n",
              "</table>\n",
              "</div>"
            ],
            "text/plain": [
              "  First Name  Last Name  Age  Portfolio Size  Years with Investment Firm  \\\n",
              "0       Ryan      David   32         80100.0                         5.0   \n",
              "1     Sherif     George   54        950000.0                        30.0   \n",
              "2     Sandra  Stevenson   40        150509.0                        10.0   \n",
              "3   Victoria     Keller   43        300901.0                         NaN   \n",
              "4      Sarah        Aly   26         41258.0                         2.0   \n",
              "5     Bassel       Nasr   50        401201.0                        15.0   \n",
              "6      Chris      Peter   38             NaN                         8.0   \n",
              "7      Nancy      Smith   55        900000.0                        17.0   \n",
              "8      Heidi      Smith   23          1500.0                         1.0   \n",
              "\n",
              "  Risk Tolerance                 Goal  \n",
              "0     aggressive            buy house  \n",
              "1   conservative               retire  \n",
              "2       moderate       kids education  \n",
              "3       moderate  investment property  \n",
              "4     aggressive    pay student loans  \n",
              "5   conservative               retire  \n",
              "6       moderate       kids education  \n",
              "7   conservative               retire  \n",
              "8       moderate         retire early  "
            ]
          },
          "execution_count": 9,
          "metadata": {},
          "output_type": "execute_result"
        }
      ],
      "source": [
        "# Let's explore an alternative (smarter) method to deal with missing values\n",
        "# Let's read the raw data again using Pandas as follows\n",
        "investor_df = pd.read_csv('investors_data.csv')\n",
        "investor_df"
      ]
    },
    {
      "cell_type": "code",
      "execution_count": null,
      "metadata": {
        "id": "MgS6eWf9meIZ",
        "outputId": "5417bef3-5485-4224-b073-011d4616def7"
      },
      "outputs": [
        {
          "data": {
            "text/html": [
              "<div>\n",
              "<style scoped>\n",
              "    .dataframe tbody tr th:only-of-type {\n",
              "        vertical-align: middle;\n",
              "    }\n",
              "\n",
              "    .dataframe tbody tr th {\n",
              "        vertical-align: top;\n",
              "    }\n",
              "\n",
              "    .dataframe thead th {\n",
              "        text-align: right;\n",
              "    }\n",
              "</style>\n",
              "<table border=\"1\" class=\"dataframe\">\n",
              "  <thead>\n",
              "    <tr style=\"text-align: right;\">\n",
              "      <th></th>\n",
              "      <th>Age</th>\n",
              "      <th>Portfolio Size</th>\n",
              "      <th>Years with Investment Firm</th>\n",
              "    </tr>\n",
              "  </thead>\n",
              "  <tbody>\n",
              "    <tr>\n",
              "      <th>count</th>\n",
              "      <td>9.000000</td>\n",
              "      <td>8.000000</td>\n",
              "      <td>8.000000</td>\n",
              "    </tr>\n",
              "    <tr>\n",
              "      <th>mean</th>\n",
              "      <td>40.111111</td>\n",
              "      <td>353183.625000</td>\n",
              "      <td>11.000000</td>\n",
              "    </tr>\n",
              "    <tr>\n",
              "      <th>std</th>\n",
              "      <td>11.634479</td>\n",
              "      <td>377372.061973</td>\n",
              "      <td>9.561829</td>\n",
              "    </tr>\n",
              "    <tr>\n",
              "      <th>min</th>\n",
              "      <td>23.000000</td>\n",
              "      <td>1500.000000</td>\n",
              "      <td>1.000000</td>\n",
              "    </tr>\n",
              "    <tr>\n",
              "      <th>25%</th>\n",
              "      <td>32.000000</td>\n",
              "      <td>70389.500000</td>\n",
              "      <td>4.250000</td>\n",
              "    </tr>\n",
              "    <tr>\n",
              "      <th>50%</th>\n",
              "      <td>40.000000</td>\n",
              "      <td>225705.000000</td>\n",
              "      <td>9.000000</td>\n",
              "    </tr>\n",
              "    <tr>\n",
              "      <th>75%</th>\n",
              "      <td>50.000000</td>\n",
              "      <td>525900.750000</td>\n",
              "      <td>15.500000</td>\n",
              "    </tr>\n",
              "    <tr>\n",
              "      <th>max</th>\n",
              "      <td>55.000000</td>\n",
              "      <td>950000.000000</td>\n",
              "      <td>30.000000</td>\n",
              "    </tr>\n",
              "  </tbody>\n",
              "</table>\n",
              "</div>"
            ],
            "text/plain": [
              "             Age  Portfolio Size  Years with Investment Firm\n",
              "count   9.000000        8.000000                    8.000000\n",
              "mean   40.111111   353183.625000                   11.000000\n",
              "std    11.634479   377372.061973                    9.561829\n",
              "min    23.000000     1500.000000                    1.000000\n",
              "25%    32.000000    70389.500000                    4.250000\n",
              "50%    40.000000   225705.000000                    9.000000\n",
              "75%    50.000000   525900.750000                   15.500000\n",
              "max    55.000000   950000.000000                   30.000000"
            ]
          },
          "execution_count": 10,
          "metadata": {},
          "output_type": "execute_result"
        }
      ],
      "source": [
        "# Let's obtain a statistical summary using \"describe()\" method\n",
        "investor_df.describe()"
      ]
    },
    {
      "cell_type": "code",
      "execution_count": null,
      "metadata": {
        "id": "1FnR6x6UmeIa",
        "outputId": "eeac7cfe-fe92-470f-d818-f68505a944cf"
      },
      "outputs": [
        {
          "data": {
            "text/plain": [
              "353183.625"
            ]
          },
          "execution_count": 12,
          "metadata": {},
          "output_type": "execute_result"
        }
      ],
      "source": [
        "# Calculate the average portfolio size\n",
        "investor_df['Portfolio Size'].mean()"
      ]
    },
    {
      "cell_type": "code",
      "execution_count": null,
      "metadata": {
        "id": "iQnGUlmrmeIa"
      },
      "outputs": [],
      "source": [
        "# You can use .fillna() to fill missing locations with a certain value\n",
        "investor_df['Portfolio Size'].fillna(investor_df['Portfolio Size'].mean(), inplace = True)"
      ]
    },
    {
      "cell_type": "code",
      "execution_count": null,
      "metadata": {
        "id": "W6V48LromeIa",
        "outputId": "0c5e9860-cce3-4716-f8ce-230fb4ab6bcb"
      },
      "outputs": [
        {
          "data": {
            "text/html": [
              "<div>\n",
              "<style scoped>\n",
              "    .dataframe tbody tr th:only-of-type {\n",
              "        vertical-align: middle;\n",
              "    }\n",
              "\n",
              "    .dataframe tbody tr th {\n",
              "        vertical-align: top;\n",
              "    }\n",
              "\n",
              "    .dataframe thead th {\n",
              "        text-align: right;\n",
              "    }\n",
              "</style>\n",
              "<table border=\"1\" class=\"dataframe\">\n",
              "  <thead>\n",
              "    <tr style=\"text-align: right;\">\n",
              "      <th></th>\n",
              "      <th>First Name</th>\n",
              "      <th>Last Name</th>\n",
              "      <th>Age</th>\n",
              "      <th>Portfolio Size</th>\n",
              "      <th>Years with Investment Firm</th>\n",
              "      <th>Risk Tolerance</th>\n",
              "      <th>Goal</th>\n",
              "    </tr>\n",
              "  </thead>\n",
              "  <tbody>\n",
              "    <tr>\n",
              "      <th>0</th>\n",
              "      <td>Ryan</td>\n",
              "      <td>David</td>\n",
              "      <td>32</td>\n",
              "      <td>80100.000</td>\n",
              "      <td>5.0</td>\n",
              "      <td>aggressive</td>\n",
              "      <td>buy house</td>\n",
              "    </tr>\n",
              "    <tr>\n",
              "      <th>1</th>\n",
              "      <td>Sherif</td>\n",
              "      <td>George</td>\n",
              "      <td>54</td>\n",
              "      <td>950000.000</td>\n",
              "      <td>30.0</td>\n",
              "      <td>conservative</td>\n",
              "      <td>retire</td>\n",
              "    </tr>\n",
              "    <tr>\n",
              "      <th>2</th>\n",
              "      <td>Sandra</td>\n",
              "      <td>Stevenson</td>\n",
              "      <td>40</td>\n",
              "      <td>150509.000</td>\n",
              "      <td>10.0</td>\n",
              "      <td>moderate</td>\n",
              "      <td>kids education</td>\n",
              "    </tr>\n",
              "    <tr>\n",
              "      <th>3</th>\n",
              "      <td>Victoria</td>\n",
              "      <td>Keller</td>\n",
              "      <td>43</td>\n",
              "      <td>300901.000</td>\n",
              "      <td>NaN</td>\n",
              "      <td>moderate</td>\n",
              "      <td>investment property</td>\n",
              "    </tr>\n",
              "    <tr>\n",
              "      <th>4</th>\n",
              "      <td>Sarah</td>\n",
              "      <td>Aly</td>\n",
              "      <td>26</td>\n",
              "      <td>41258.000</td>\n",
              "      <td>2.0</td>\n",
              "      <td>aggressive</td>\n",
              "      <td>pay student loans</td>\n",
              "    </tr>\n",
              "    <tr>\n",
              "      <th>5</th>\n",
              "      <td>Bassel</td>\n",
              "      <td>Nasr</td>\n",
              "      <td>50</td>\n",
              "      <td>401201.000</td>\n",
              "      <td>15.0</td>\n",
              "      <td>conservative</td>\n",
              "      <td>retire</td>\n",
              "    </tr>\n",
              "    <tr>\n",
              "      <th>6</th>\n",
              "      <td>Chris</td>\n",
              "      <td>Peter</td>\n",
              "      <td>38</td>\n",
              "      <td>353183.625</td>\n",
              "      <td>8.0</td>\n",
              "      <td>moderate</td>\n",
              "      <td>kids education</td>\n",
              "    </tr>\n",
              "    <tr>\n",
              "      <th>7</th>\n",
              "      <td>Nancy</td>\n",
              "      <td>Smith</td>\n",
              "      <td>55</td>\n",
              "      <td>900000.000</td>\n",
              "      <td>17.0</td>\n",
              "      <td>conservative</td>\n",
              "      <td>retire</td>\n",
              "    </tr>\n",
              "    <tr>\n",
              "      <th>8</th>\n",
              "      <td>Heidi</td>\n",
              "      <td>Smith</td>\n",
              "      <td>23</td>\n",
              "      <td>1500.000</td>\n",
              "      <td>1.0</td>\n",
              "      <td>moderate</td>\n",
              "      <td>retire early</td>\n",
              "    </tr>\n",
              "  </tbody>\n",
              "</table>\n",
              "</div>"
            ],
            "text/plain": [
              "  First Name  Last Name  Age  Portfolio Size  Years with Investment Firm  \\\n",
              "0       Ryan      David   32       80100.000                         5.0   \n",
              "1     Sherif     George   54      950000.000                        30.0   \n",
              "2     Sandra  Stevenson   40      150509.000                        10.0   \n",
              "3   Victoria     Keller   43      300901.000                         NaN   \n",
              "4      Sarah        Aly   26       41258.000                         2.0   \n",
              "5     Bassel       Nasr   50      401201.000                        15.0   \n",
              "6      Chris      Peter   38      353183.625                         8.0   \n",
              "7      Nancy      Smith   55      900000.000                        17.0   \n",
              "8      Heidi      Smith   23        1500.000                         1.0   \n",
              "\n",
              "  Risk Tolerance                 Goal  \n",
              "0     aggressive            buy house  \n",
              "1   conservative               retire  \n",
              "2       moderate       kids education  \n",
              "3       moderate  investment property  \n",
              "4     aggressive    pay student loans  \n",
              "5   conservative               retire  \n",
              "6       moderate       kids education  \n",
              "7   conservative               retire  \n",
              "8       moderate         retire early  "
            ]
          },
          "execution_count": 14,
          "metadata": {},
          "output_type": "execute_result"
        }
      ],
      "source": [
        "investor_df"
      ]
    },
    {
      "cell_type": "markdown",
      "metadata": {
        "id": "GvdOyK8TmeIa"
      },
      "source": [
        "**PRACTICE OPPORTUNITY:**\n",
        "- **Complete the following tasks:**\n",
        "    - **1. Import the 'investors_data.csv' dataset using Pandas**\n",
        "    - **2. Calculate the median value for the \"Years with Investment Firm\" column**\n",
        "    - **3. Fill in missing values in the \"Years with Investment Firm\" column with the median values**\n",
        "    - **4. Perform a sanity check**"
      ]
    },
    {
      "cell_type": "code",
      "execution_count": null,
      "metadata": {
        "id": "nqcXkBo2meIb"
      },
      "outputs": [],
      "source": []
    },
    {
      "cell_type": "code",
      "execution_count": null,
      "metadata": {
        "id": "kBCuVbXVmeIb"
      },
      "outputs": [],
      "source": []
    },
    {
      "cell_type": "code",
      "execution_count": null,
      "metadata": {
        "id": "Z-2KMHYsmeIb"
      },
      "outputs": [],
      "source": []
    },
    {
      "cell_type": "code",
      "execution_count": null,
      "metadata": {
        "id": "5Hu6Y_YnmeIb"
      },
      "outputs": [],
      "source": []
    },
    {
      "cell_type": "code",
      "execution_count": null,
      "metadata": {
        "id": "BlLE2IkdmeIb"
      },
      "outputs": [],
      "source": []
    },
    {
      "cell_type": "markdown",
      "metadata": {
        "id": "MF2SdJZ_vn4z"
      },
      "source": [
        "# PRACTICE OPPORTUNITY SOLUTION"
      ]
    },
    {
      "cell_type": "markdown",
      "metadata": {
        "id": "b3YE2gv3meIb"
      },
      "source": [
        "**PRACTICE OPPORTUNITY SOLUTION:**\n",
        "- **Complete the following tasks:**\n",
        "    - **1. Import the 'investors_data.csv' dataset using Pandas**\n",
        "    - **2. Calculate the median value for the \"Years with Investment Firm\" column**\n",
        "    - **3. Fill in missing values in the \"Years with Investment Firm\" column with the median values**\n",
        "    - **4. Perform a sanity check**"
      ]
    },
    {
      "cell_type": "code",
      "execution_count": null,
      "metadata": {
        "id": "-V2GF99ameIb",
        "outputId": "8185bdd9-6241-4982-aadd-be6b80565b2b"
      },
      "outputs": [
        {
          "data": {
            "text/html": [
              "<div>\n",
              "<style scoped>\n",
              "    .dataframe tbody tr th:only-of-type {\n",
              "        vertical-align: middle;\n",
              "    }\n",
              "\n",
              "    .dataframe tbody tr th {\n",
              "        vertical-align: top;\n",
              "    }\n",
              "\n",
              "    .dataframe thead th {\n",
              "        text-align: right;\n",
              "    }\n",
              "</style>\n",
              "<table border=\"1\" class=\"dataframe\">\n",
              "  <thead>\n",
              "    <tr style=\"text-align: right;\">\n",
              "      <th></th>\n",
              "      <th>First Name</th>\n",
              "      <th>Last Name</th>\n",
              "      <th>Age</th>\n",
              "      <th>Portfolio Size</th>\n",
              "      <th>Years with Investment Firm</th>\n",
              "      <th>Risk Tolerance</th>\n",
              "      <th>Goal</th>\n",
              "    </tr>\n",
              "  </thead>\n",
              "  <tbody>\n",
              "    <tr>\n",
              "      <th>0</th>\n",
              "      <td>Ryan</td>\n",
              "      <td>David</td>\n",
              "      <td>32</td>\n",
              "      <td>80100.0</td>\n",
              "      <td>5.0</td>\n",
              "      <td>aggressive</td>\n",
              "      <td>buy house</td>\n",
              "    </tr>\n",
              "    <tr>\n",
              "      <th>1</th>\n",
              "      <td>Sherif</td>\n",
              "      <td>George</td>\n",
              "      <td>54</td>\n",
              "      <td>950000.0</td>\n",
              "      <td>30.0</td>\n",
              "      <td>conservative</td>\n",
              "      <td>retire</td>\n",
              "    </tr>\n",
              "    <tr>\n",
              "      <th>2</th>\n",
              "      <td>Sandra</td>\n",
              "      <td>Stevenson</td>\n",
              "      <td>40</td>\n",
              "      <td>150509.0</td>\n",
              "      <td>10.0</td>\n",
              "      <td>moderate</td>\n",
              "      <td>kids education</td>\n",
              "    </tr>\n",
              "    <tr>\n",
              "      <th>3</th>\n",
              "      <td>Victoria</td>\n",
              "      <td>Keller</td>\n",
              "      <td>43</td>\n",
              "      <td>300901.0</td>\n",
              "      <td>NaN</td>\n",
              "      <td>moderate</td>\n",
              "      <td>investment property</td>\n",
              "    </tr>\n",
              "    <tr>\n",
              "      <th>4</th>\n",
              "      <td>Sarah</td>\n",
              "      <td>Aly</td>\n",
              "      <td>26</td>\n",
              "      <td>41258.0</td>\n",
              "      <td>2.0</td>\n",
              "      <td>aggressive</td>\n",
              "      <td>pay student loans</td>\n",
              "    </tr>\n",
              "    <tr>\n",
              "      <th>5</th>\n",
              "      <td>Bassel</td>\n",
              "      <td>Nasr</td>\n",
              "      <td>50</td>\n",
              "      <td>401201.0</td>\n",
              "      <td>15.0</td>\n",
              "      <td>conservative</td>\n",
              "      <td>retire</td>\n",
              "    </tr>\n",
              "    <tr>\n",
              "      <th>6</th>\n",
              "      <td>Chris</td>\n",
              "      <td>Peter</td>\n",
              "      <td>38</td>\n",
              "      <td>NaN</td>\n",
              "      <td>8.0</td>\n",
              "      <td>moderate</td>\n",
              "      <td>kids education</td>\n",
              "    </tr>\n",
              "    <tr>\n",
              "      <th>7</th>\n",
              "      <td>Nancy</td>\n",
              "      <td>Smith</td>\n",
              "      <td>55</td>\n",
              "      <td>900000.0</td>\n",
              "      <td>17.0</td>\n",
              "      <td>conservative</td>\n",
              "      <td>retire</td>\n",
              "    </tr>\n",
              "    <tr>\n",
              "      <th>8</th>\n",
              "      <td>Heidi</td>\n",
              "      <td>Smith</td>\n",
              "      <td>23</td>\n",
              "      <td>1500.0</td>\n",
              "      <td>1.0</td>\n",
              "      <td>moderate</td>\n",
              "      <td>retire early</td>\n",
              "    </tr>\n",
              "  </tbody>\n",
              "</table>\n",
              "</div>"
            ],
            "text/plain": [
              "  First Name  Last Name  Age  Portfolio Size  Years with Investment Firm  \\\n",
              "0       Ryan      David   32         80100.0                         5.0   \n",
              "1     Sherif     George   54        950000.0                        30.0   \n",
              "2     Sandra  Stevenson   40        150509.0                        10.0   \n",
              "3   Victoria     Keller   43        300901.0                         NaN   \n",
              "4      Sarah        Aly   26         41258.0                         2.0   \n",
              "5     Bassel       Nasr   50        401201.0                        15.0   \n",
              "6      Chris      Peter   38             NaN                         8.0   \n",
              "7      Nancy      Smith   55        900000.0                        17.0   \n",
              "8      Heidi      Smith   23          1500.0                         1.0   \n",
              "\n",
              "  Risk Tolerance                 Goal  \n",
              "0     aggressive            buy house  \n",
              "1   conservative               retire  \n",
              "2       moderate       kids education  \n",
              "3       moderate  investment property  \n",
              "4     aggressive    pay student loans  \n",
              "5   conservative               retire  \n",
              "6       moderate       kids education  \n",
              "7   conservative               retire  \n",
              "8       moderate         retire early  "
            ]
          },
          "execution_count": 15,
          "metadata": {},
          "output_type": "execute_result"
        }
      ],
      "source": [
        "# Read the data\n",
        "import pandas as pd\n",
        "investor_df = pd.read_csv('investors_data.csv')\n",
        "investor_df"
      ]
    },
    {
      "cell_type": "code",
      "execution_count": null,
      "metadata": {
        "id": "nbDe7EsRmeIb",
        "outputId": "94c303fe-8800-4810-c1e5-20bc6225a2f6"
      },
      "outputs": [
        {
          "data": {
            "text/plain": [
              "First Name                    0\n",
              "Last Name                     0\n",
              "Age                           0\n",
              "Portfolio Size                1\n",
              "Years with Investment Firm    1\n",
              "Risk Tolerance                0\n",
              "Goal                          0\n",
              "dtype: int64"
            ]
          },
          "execution_count": 16,
          "metadata": {},
          "output_type": "execute_result"
        }
      ],
      "source": [
        "# Let's locate rows that have Null values\n",
        "investor_df.isnull().sum()"
      ]
    },
    {
      "cell_type": "code",
      "execution_count": null,
      "metadata": {
        "id": "kwo2UV71meIc",
        "outputId": "0a8eec42-5cfa-485b-c5db-b89274c9ed3f"
      },
      "outputs": [
        {
          "data": {
            "text/plain": [
              "9.0"
            ]
          },
          "execution_count": 18,
          "metadata": {},
          "output_type": "execute_result"
        }
      ],
      "source": [
        "# Calculate the median value for \"Years with Investment Firm\" column\n",
        "investor_df['Years with Investment Firm'].median()"
      ]
    },
    {
      "cell_type": "code",
      "execution_count": null,
      "metadata": {
        "id": "ALWGG8VfmeIc"
      },
      "outputs": [],
      "source": [
        "# Use .fillna() method to fill a given column with a certain value\n",
        "investor_df['Years with Investment Firm'].fillna(investor_df['Years with Investment Firm'].median(), inplace = True)"
      ]
    },
    {
      "cell_type": "code",
      "execution_count": null,
      "metadata": {
        "id": "i_cJrd1imeIc",
        "outputId": "91e5aa03-0666-4a6c-a320-262f13dbaf89"
      },
      "outputs": [
        {
          "data": {
            "text/plain": [
              "First Name                    0\n",
              "Last Name                     0\n",
              "Age                           0\n",
              "Portfolio Size                1\n",
              "Years with Investment Firm    0\n",
              "Risk Tolerance                0\n",
              "Goal                          0\n",
              "dtype: int64"
            ]
          },
          "execution_count": 20,
          "metadata": {},
          "output_type": "execute_result"
        }
      ],
      "source": [
        "# Perform a sanity check\n",
        "investor_df.isnull().sum()"
      ]
    },
    {
      "cell_type": "code",
      "execution_count": null,
      "metadata": {
        "scrolled": true,
        "id": "0R814lxLmeIc",
        "outputId": "330acb24-51b7-448b-b826-cbcc23ac5941"
      },
      "outputs": [
        {
          "data": {
            "text/html": [
              "<div>\n",
              "<style scoped>\n",
              "    .dataframe tbody tr th:only-of-type {\n",
              "        vertical-align: middle;\n",
              "    }\n",
              "\n",
              "    .dataframe tbody tr th {\n",
              "        vertical-align: top;\n",
              "    }\n",
              "\n",
              "    .dataframe thead th {\n",
              "        text-align: right;\n",
              "    }\n",
              "</style>\n",
              "<table border=\"1\" class=\"dataframe\">\n",
              "  <thead>\n",
              "    <tr style=\"text-align: right;\">\n",
              "      <th></th>\n",
              "      <th>First Name</th>\n",
              "      <th>Last Name</th>\n",
              "      <th>Age</th>\n",
              "      <th>Portfolio Size</th>\n",
              "      <th>Years with Investment Firm</th>\n",
              "      <th>Risk Tolerance</th>\n",
              "      <th>Goal</th>\n",
              "    </tr>\n",
              "  </thead>\n",
              "  <tbody>\n",
              "    <tr>\n",
              "      <th>0</th>\n",
              "      <td>Ryan</td>\n",
              "      <td>David</td>\n",
              "      <td>32</td>\n",
              "      <td>80100.0</td>\n",
              "      <td>5.0</td>\n",
              "      <td>aggressive</td>\n",
              "      <td>buy house</td>\n",
              "    </tr>\n",
              "    <tr>\n",
              "      <th>1</th>\n",
              "      <td>Sherif</td>\n",
              "      <td>George</td>\n",
              "      <td>54</td>\n",
              "      <td>950000.0</td>\n",
              "      <td>30.0</td>\n",
              "      <td>conservative</td>\n",
              "      <td>retire</td>\n",
              "    </tr>\n",
              "    <tr>\n",
              "      <th>2</th>\n",
              "      <td>Sandra</td>\n",
              "      <td>Stevenson</td>\n",
              "      <td>40</td>\n",
              "      <td>150509.0</td>\n",
              "      <td>10.0</td>\n",
              "      <td>moderate</td>\n",
              "      <td>kids education</td>\n",
              "    </tr>\n",
              "    <tr>\n",
              "      <th>3</th>\n",
              "      <td>Victoria</td>\n",
              "      <td>Keller</td>\n",
              "      <td>43</td>\n",
              "      <td>300901.0</td>\n",
              "      <td>9.0</td>\n",
              "      <td>moderate</td>\n",
              "      <td>investment property</td>\n",
              "    </tr>\n",
              "    <tr>\n",
              "      <th>4</th>\n",
              "      <td>Sarah</td>\n",
              "      <td>Aly</td>\n",
              "      <td>26</td>\n",
              "      <td>41258.0</td>\n",
              "      <td>2.0</td>\n",
              "      <td>aggressive</td>\n",
              "      <td>pay student loans</td>\n",
              "    </tr>\n",
              "    <tr>\n",
              "      <th>5</th>\n",
              "      <td>Bassel</td>\n",
              "      <td>Nasr</td>\n",
              "      <td>50</td>\n",
              "      <td>401201.0</td>\n",
              "      <td>15.0</td>\n",
              "      <td>conservative</td>\n",
              "      <td>retire</td>\n",
              "    </tr>\n",
              "    <tr>\n",
              "      <th>6</th>\n",
              "      <td>Chris</td>\n",
              "      <td>Peter</td>\n",
              "      <td>38</td>\n",
              "      <td>NaN</td>\n",
              "      <td>8.0</td>\n",
              "      <td>moderate</td>\n",
              "      <td>kids education</td>\n",
              "    </tr>\n",
              "    <tr>\n",
              "      <th>7</th>\n",
              "      <td>Nancy</td>\n",
              "      <td>Smith</td>\n",
              "      <td>55</td>\n",
              "      <td>900000.0</td>\n",
              "      <td>17.0</td>\n",
              "      <td>conservative</td>\n",
              "      <td>retire</td>\n",
              "    </tr>\n",
              "    <tr>\n",
              "      <th>8</th>\n",
              "      <td>Heidi</td>\n",
              "      <td>Smith</td>\n",
              "      <td>23</td>\n",
              "      <td>1500.0</td>\n",
              "      <td>1.0</td>\n",
              "      <td>moderate</td>\n",
              "      <td>retire early</td>\n",
              "    </tr>\n",
              "  </tbody>\n",
              "</table>\n",
              "</div>"
            ],
            "text/plain": [
              "  First Name  Last Name  Age  Portfolio Size  Years with Investment Firm  \\\n",
              "0       Ryan      David   32         80100.0                         5.0   \n",
              "1     Sherif     George   54        950000.0                        30.0   \n",
              "2     Sandra  Stevenson   40        150509.0                        10.0   \n",
              "3   Victoria     Keller   43        300901.0                         9.0   \n",
              "4      Sarah        Aly   26         41258.0                         2.0   \n",
              "5     Bassel       Nasr   50        401201.0                        15.0   \n",
              "6      Chris      Peter   38             NaN                         8.0   \n",
              "7      Nancy      Smith   55        900000.0                        17.0   \n",
              "8      Heidi      Smith   23          1500.0                         1.0   \n",
              "\n",
              "  Risk Tolerance                 Goal  \n",
              "0     aggressive            buy house  \n",
              "1   conservative               retire  \n",
              "2       moderate       kids education  \n",
              "3       moderate  investment property  \n",
              "4     aggressive    pay student loans  \n",
              "5   conservative               retire  \n",
              "6       moderate       kids education  \n",
              "7   conservative               retire  \n",
              "8       moderate         retire early  "
            ]
          },
          "execution_count": 21,
          "metadata": {},
          "output_type": "execute_result"
        }
      ],
      "source": [
        "investor_df"
      ]
    },
    {
      "cell_type": "markdown",
      "metadata": {
        "id": "oinb6QtSmeIc"
      },
      "source": [
        "# EXCELLENT JOB!"
      ]
    }
  ],
  "metadata": {
    "colab": {
      "provenance": [],
      "include_colab_link": true
    },
    "kernelspec": {
      "display_name": "Python 3 (ipykernel)",
      "language": "python",
      "name": "python3"
    },
    "language_info": {
      "codemirror_mode": {
        "name": "ipython",
        "version": 3
      },
      "file_extension": ".py",
      "mimetype": "text/x-python",
      "name": "python",
      "nbconvert_exporter": "python",
      "pygments_lexer": "ipython3",
      "version": "3.8.8"
    }
  },
  "nbformat": 4,
  "nbformat_minor": 0
}