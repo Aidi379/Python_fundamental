{
  "cells": [
    {
      "cell_type": "markdown",
      "metadata": {
        "id": "view-in-github",
        "colab_type": "text"
      },
      "source": [
        "<a href=\"https://colab.research.google.com/github/Aidi379/Python_fundamental/blob/main/3.%20Get_User_Input.ipynb\" target=\"_parent\"><img src=\"https://colab.research.google.com/assets/colab-badge.svg\" alt=\"Open In Colab\"/></a>"
      ]
    },
    {
      "cell_type": "code",
      "execution_count": 1,
      "metadata": {
        "colab": {
          "base_uri": "https://localhost:8080/",
          "height": 53
        },
        "id": "Cau8sJ9IoRPg",
        "outputId": "366b767e-a04b-429f-e3aa-69789e53ebca"
      },
      "outputs": [
        {
          "name": "stdout",
          "output_type": "stream",
          "text": [
            "Welcome to the bank, what's your name? Sarah\n"
          ]
        },
        {
          "output_type": "execute_result",
          "data": {
            "text/plain": [
              "'Sarah'"
            ],
            "application/vnd.google.colaboratory.intrinsic+json": {
              "type": "string"
            }
          },
          "metadata": {},
          "execution_count": 1
        }
      ],
      "source": [
        "# input() is a built-in function in Python that is used to get data from the user via the keyboard\n",
        "# Let's assume that you want to get the client name\n",
        "# Note that whatever you write on the keyboard will be stored in the \"name\" variable\n",
        "name = input(\"Welcome to the bank, what's your name? \")\n",
        "name"
      ]
    },
    {
      "cell_type": "code",
      "execution_count": 4,
      "metadata": {
        "colab": {
          "base_uri": "https://localhost:8080/"
        },
        "id": "fLA4FnfGoRPh",
        "outputId": "98226228-b22d-47a4-b748-993261db6717"
      },
      "outputs": [
        {
          "output_type": "execute_result",
          "data": {
            "text/plain": [
              "str"
            ]
          },
          "metadata": {},
          "execution_count": 4
        }
      ],
      "source": [
        "# Note that by default, the value entered by the user will be stored in a string datatype\n",
        "type(name)"
      ]
    },
    {
      "cell_type": "code",
      "execution_count": 3,
      "metadata": {
        "scrolled": true,
        "colab": {
          "base_uri": "https://localhost:8080/"
        },
        "id": "8OhBnAK4oRPi",
        "outputId": "e434fa40-7c1b-43c2-d330-51ae5d3ccafb"
      },
      "outputs": [
        {
          "output_type": "stream",
          "name": "stdout",
          "text": [
            "Welcome to the bank, please enter your name: Aidi\n",
            "Enter the amount you would like to deposit: 1000\n",
            "Welcome Aidi to the bank, the amount you want to deposit = $1000\n"
          ]
        }
      ],
      "source": [
        "# Let's assume we want to obtain client data such as name and amount to be deposited in their account\n",
        "# and print them all out to the screen\n",
        "name = input(\"Welcome to the bank, please enter your name: \")\n",
        "amount = input(\"Enter the amount you would like to deposit: \")\n",
        "print(\"Welcome {} to the bank, the amount you want to deposit = ${}\".format(name, amount))"
      ]
    },
    {
      "cell_type": "code",
      "execution_count": 5,
      "metadata": {
        "id": "IQowRTMZoRPi"
      },
      "outputs": [],
      "source": [
        "# Assume that you work as a financial analyst at a bank and you have been tasked to develop a simple application\n",
        "# that calculates the dividends per share for XYZ Inc. given the following information:\n",
        "# 1. Next year’s sales revenue = $150 million\n",
        "# 2. Next year’s net profit margin = 10%\n",
        "# 3. Dividend payout ratio = 50%\n",
        "# 4. Number of outstanding shares = 6 million\n",
        "\n",
        "# Remember:\n",
        "# Net earnings = Sales Revenue × Net Profit Margin\n",
        "# Dividends Per Share  = (Net earnings × Payout ratio) ÷ Number of Outstanding Shares"
      ]
    },
    {
      "cell_type": "code",
      "execution_count": 6,
      "metadata": {
        "colab": {
          "base_uri": "https://localhost:8080/"
        },
        "id": "__Y1ayBooRPi",
        "outputId": "e81f025f-429b-4667-f102-d06099e2c58f"
      },
      "outputs": [
        {
          "name": "stdout",
          "output_type": "stream",
          "text": [
            "Enter sales revenue: 150000000\n",
            "Enter net profit margin: 0.11\n",
            "Enter dividend payout ratio: 0.5\n",
            "Enter number of outstanding shares: 6000000\n"
          ]
        }
      ],
      "source": [
        "# Let's obtain the variables from the user\n",
        "# Note that type casting is performed to convert from string to float datatype\n",
        "sales_revenue = float(input(\"Enter sales revenue: \"))\n",
        "net_profit_margin = float(input(\"Enter net profit margin: \"))\n",
        "dividend_payout_ratio = float(input(\"Enter dividend payout ratio: \"))\n",
        "num_outstanding_shares  = float(input(\"Enter number of outstanding shares: \"))"
      ]
    },
    {
      "cell_type": "code",
      "execution_count": 7,
      "metadata": {
        "colab": {
          "base_uri": "https://localhost:8080/"
        },
        "id": "Zb7qo0igoRPi",
        "outputId": "579515f2-2548-4cfd-92ed-903f5abf6b5f"
      },
      "outputs": [
        {
          "output_type": "stream",
          "name": "stdout",
          "text": [
            "The company's net earnings = $16500000.0\n",
            "The total amount of paid dividends = $8250000.0\n",
            "The company's dividends per share = $1.375\n"
          ]
        }
      ],
      "source": [
        "# Net earnings are calculated by multiplying the sales revenue times the net profit margin\n",
        "net_earnings = sales_revenue * net_profit_margin\n",
        "print(\"The company's net earnings = ${}\".format(net_earnings))\n",
        "\n",
        "# Dividend paid is calculated by multiplying net earnings with the dividend payout ratio\n",
        "paid_dividend = net_earnings * dividend_payout_ratio\n",
        "print(\"The total amount of paid dividends = ${}\".format(paid_dividend))\n",
        "\n",
        "# Dividend per share = dividend paid / number of outstanding shares\n",
        "dividend_per_share = paid_dividend / num_outstanding_shares\n",
        "print(\"The company's dividends per share = ${}\".format(dividend_per_share))"
      ]
    },
    {
      "cell_type": "markdown",
      "metadata": {
        "id": "Y4GcqSM_oRPj"
      },
      "source": [
        "**PRACTICE OPPORTUNITY:**\n",
        "- **Assume that you work as a financial analyst and you have been tasked to develop a Python application that analyzes securities using the Capital Asset Pricing Model (CAPM).**\n",
        "    - **1. Review the concept of CAPM and write down the formula**\n",
        "    - **2. Write a Python code that will recieve beta for a given stock, risk-free rate and expected broad market return from the user and prints out the expected return on the stock. Round your answer to two decimal points.**\n",
        "    - **3. Perform a sanity check by comparing your answer to online CAPM calculators. This calculator could be used: https://goodcalculators.com/capm-calculator/**\n",
        "    \n",
        "\n",
        "**Hints:**\n",
        "- **A sample code output is as shown below:**\n",
        "    - Please enter the name of the stock: Apple\n",
        "    - Enter the stock beta: 1.25\n",
        "    - Enter the risk-free rate of return in %: 4\n",
        "    - Enter the expected broad market rate of return in % (Ex: S&P500): 5.6\n",
        "    - Using the CAPM formula, the expected return on Apple stock = 6.0%\n",
        "    \n",
        "- **You might need to change datatypes to perform math operation**"
      ]
    },
    {
      "cell_type": "code",
      "execution_count": 1,
      "metadata": {
        "colab": {
          "base_uri": "https://localhost:8080/"
        },
        "id": "MOnrGfzjoRPj",
        "outputId": "b6817b82-c486-4001-a660-608cc8193ea2"
      },
      "outputs": [
        {
          "name": "stdout",
          "output_type": "stream",
          "text": [
            "Please enter the name of the stock: Apple\n",
            "Enter the stock beta: 1.25\n",
            "Enter the risk-free rate of return: 4\n",
            "Enter the expected broad market rate of return in %: 5.6\n"
          ]
        }
      ],
      "source": [
        "stock = input(\"Please enter the name of the stock: \")\n",
        "stock_beta = float(input(\"Enter the stock beta: \"))\n",
        "risk_free_rate = float(input(\"Enter the risk-free rate of return: \"))\n",
        "expected_broad_market_return = float(input(\"Enter the expected broad market rate of return in %: \"))"
      ]
    },
    {
      "cell_type": "code",
      "execution_count": 3,
      "metadata": {
        "colab": {
          "base_uri": "https://localhost:8080/"
        },
        "id": "gcfvWQHHoRPj",
        "outputId": "06e95618-ba80-429e-f369-93b57eecde88"
      },
      "outputs": [
        {
          "output_type": "stream",
          "name": "stdout",
          "text": [
            "the expected return on the stock Apple is 6.0%\n"
          ]
        }
      ],
      "source": [
        "expected_return = (expected_broad_market_return - risk_free_rate) * stock_beta + risk_free_rate\n",
        "print(\"the expected return on the stock {} is {}%\".format(stock, round(expected_return,2)))"
      ]
    },
    {
      "cell_type": "code",
      "execution_count": null,
      "metadata": {
        "id": "G5gmFudToRPj"
      },
      "outputs": [],
      "source": []
    },
    {
      "cell_type": "code",
      "execution_count": null,
      "metadata": {
        "id": "BAZtAcoyoRPj"
      },
      "outputs": [],
      "source": []
    },
    {
      "cell_type": "markdown",
      "metadata": {
        "id": "AHGfMemxoRPj"
      },
      "source": [
        "# PRACTICE OPPORTUNITY SOLUTION"
      ]
    },
    {
      "cell_type": "markdown",
      "metadata": {
        "id": "duSKCs1-oRPk"
      },
      "source": [
        "**PRACTICE OPPORTUNITY:**\n",
        "- **Assume that you work as a financial analyst and you have been tasked to develop a Python application that analyzes securities using the Capital Asset Pricing Model (CAPM).**\n",
        "    - **1. Review the concept of CAPM and write down the formula**\n",
        "    - **2. Write a Python code that will recieve beta for a given stock, risk-free rate and expected broad market return from the user and prints out the expected return on the stock. Round your answer to two decimal points.**\n",
        "    - **3. Perform a sanity check by comparing your answer to online CAPM calculators. This calculator could be used: https://goodcalculators.com/capm-calculator/**\n",
        "    \n",
        "\n",
        "**Hints:**\n",
        "- **A sample code output is as shown below:**\n",
        "    - Please enter the name of the stock: Apple\n",
        "    - Enter the stock beta: 1.25\n",
        "    - Enter the risk-free rate of return in %: 4\n",
        "    - Enter the expected broad market rate of return in % (Ex: S&P500): 5.6\n",
        "    - Using the CAPM formula, the expected return on Apple stock = 6.0%\n",
        "    \n",
        "- **You might need to change datatypes to perform math operation**"
      ]
    },
    {
      "cell_type": "code",
      "execution_count": 4,
      "metadata": {
        "colab": {
          "base_uri": "https://localhost:8080/"
        },
        "id": "bJ8sG7iooRPk",
        "outputId": "949e272d-04d0-4f20-8e1d-cc87495d9a76"
      },
      "outputs": [
        {
          "output_type": "stream",
          "name": "stdout",
          "text": [
            "Please enter the name of the stock: Apple\n",
            "Enter the stock beta: 1.25\n",
            "Enter the risk-free rate of return in %: 4\n",
            "Enter the expected broad market rate of return in % (Ex: S&P500): 5.6\n",
            "Using the CAPM formula, the expected return on Apple stock = 6.0%\n"
          ]
        }
      ],
      "source": [
        "stock = input('Please enter the name of the stock: ')\n",
        "beta = float(input('Enter the stock beta: '))\n",
        "risk_free_rate = float(input('Enter the risk-free rate of return in %: '))\n",
        "market_return = float(input('Enter the expected broad market rate of return in % (Ex: S&P500): '))\n",
        "expected_return = risk_free_rate + beta * (market_return - risk_free_rate)\n",
        "print('Using the CAPM formula, the expected return on {} stock = {}%'.format(stock, round(expected_return, 2)))\n"
      ]
    },
    {
      "cell_type": "markdown",
      "metadata": {
        "id": "Jm-0XhPntGtK"
      },
      "source": [
        "# EXCELLENT JOB"
      ]
    }
  ],
  "metadata": {
    "colab": {
      "provenance": [],
      "include_colab_link": true
    },
    "kernelspec": {
      "display_name": "Python 3 (ipykernel)",
      "language": "python",
      "name": "python3"
    },
    "language_info": {
      "codemirror_mode": {
        "name": "ipython",
        "version": 3
      },
      "file_extension": ".py",
      "mimetype": "text/x-python",
      "name": "python",
      "nbconvert_exporter": "python",
      "pygments_lexer": "ipython3",
      "version": "3.8.8"
    }
  },
  "nbformat": 4,
  "nbformat_minor": 0
}