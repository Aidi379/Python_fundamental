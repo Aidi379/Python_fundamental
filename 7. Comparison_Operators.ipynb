{
  "cells": [
    {
      "cell_type": "markdown",
      "metadata": {
        "id": "view-in-github",
        "colab_type": "text"
      },
      "source": [
        "<a href=\"https://colab.research.google.com/github/Aidi379/Python_fundamental/blob/main/7.%20Comparison_Operators.ipynb\" target=\"_parent\"><img src=\"https://colab.research.google.com/assets/colab-badge.svg\" alt=\"Open In Colab\"/></a>"
      ]
    },
    {
      "cell_type": "code",
      "execution_count": null,
      "metadata": {
        "colab": {
          "base_uri": "https://localhost:8080/"
        },
        "id": "o9VtOcrKtCc1",
        "outputId": "45f01177-ae85-49f7-a4b9-d5597b66f211"
      },
      "outputs": [
        {
          "name": "stdout",
          "output_type": "stream",
          "text": [
            "True\n"
          ]
        }
      ],
      "source": [
        "# Comparison Operator output could be \"True\" or \"False\"\n",
        "# Let's assume that we want to compare two companies revenue: Company A and Company B\n",
        "# Let's cover equal '==' comparison operator first\n",
        "# It's simply a question: \"Is revenue_A equals to revenue_B or not?\"\n",
        "# \"True\" output means condition is satisfied\n",
        "# \"False\" output means condition is not satisfied (condition is not true)\n",
        "\n",
        "revenue_A = 1000\n",
        "revenue_B = 1000\n",
        "\n",
        "# Compare revenue for company A to B\n",
        "print(revenue_A == revenue_B)"
      ]
    },
    {
      "cell_type": "code",
      "execution_count": null,
      "metadata": {
        "colab": {
          "base_uri": "https://localhost:8080/"
        },
        "id": "l48NWuCztX5G",
        "outputId": "99aa6eda-c5a2-4761-a819-90ebe87a13e1"
      },
      "outputs": [
        {
          "data": {
            "text/plain": [
              "True"
            ]
          },
          "execution_count": 7,
          "metadata": {},
          "output_type": "execute_result"
        }
      ],
      "source": [
        "# Greater than or equal operator '>='\n",
        "revenue_A = 5000\n",
        "revenue_B = 1000\n",
        "revenue_A >= revenue_B"
      ]
    },
    {
      "cell_type": "code",
      "execution_count": null,
      "metadata": {
        "id": "RmUrcn31tY0_"
      },
      "outputs": [],
      "source": [
        "# Note that '==' is a comparison operator\n",
        "# Note that '=' is used for variable assignment (put 10 in revenue_A)\n",
        "revenue_A = 10"
      ]
    },
    {
      "cell_type": "code",
      "execution_count": null,
      "metadata": {
        "colab": {
          "base_uri": "https://localhost:8080/"
        },
        "id": "TttdgxEPtY3z",
        "outputId": "9839b886-9daf-4b71-f703-fa7817b729ec"
      },
      "outputs": [
        {
          "data": {
            "text/plain": [
              "10"
            ]
          },
          "execution_count": 9,
          "metadata": {},
          "output_type": "execute_result"
        }
      ],
      "source": [
        "revenue_A"
      ]
    },
    {
      "cell_type": "code",
      "execution_count": null,
      "metadata": {
        "colab": {
          "base_uri": "https://localhost:8080/"
        },
        "id": "WI6k596Xtlcc",
        "outputId": "a1ed61e0-2d8f-475e-f894-b10156d75b62"
      },
      "outputs": [
        {
          "data": {
            "text/plain": [
              "False"
            ]
          },
          "execution_count": 10,
          "metadata": {},
          "output_type": "execute_result"
        }
      ],
      "source": [
        "# Not equal comparison operator is defined as follows: '!='\n",
        "\n",
        "revenue_A = 1000\n",
        "revenue_B = 1000\n",
        "revenue_A != revenue_B\n"
      ]
    },
    {
      "cell_type": "markdown",
      "metadata": {
        "id": "eNyKRJob4Xlo"
      },
      "source": [
        "**PRACTICE OPPORTUNITY:**\n",
        "- **1. Without executing the following code, what will this code generate?**\n",
        "\n",
        "```\n",
        "    revenue_A = 2500\n",
        "    revenue_B = 2000\n",
        "\n",
        "    print(revenue_A == revenue_B)\n",
        "    print(revenue_A != revenue_B)\n",
        "    print(revenue_A > revenue_B)\n",
        "    print(revenue_A < revenue_B)\n",
        "```\n",
        "- **2. Run the code and confirm that you have the correct answer**"
      ]
    },
    {
      "cell_type": "code",
      "execution_count": 1,
      "metadata": {
        "colab": {
          "base_uri": "https://localhost:8080/"
        },
        "id": "Wf7BSF-CivwK",
        "outputId": "5cf837fe-e00e-4423-df4d-d7ecd2145d72"
      },
      "outputs": [
        {
          "output_type": "stream",
          "name": "stdout",
          "text": [
            "False\n"
          ]
        }
      ],
      "source": [
        "revenue_A = 2500\n",
        "revenue_B = 2000\n",
        "print(revenue_A == revenue_B)"
      ]
    },
    {
      "cell_type": "code",
      "execution_count": 2,
      "metadata": {
        "colab": {
          "base_uri": "https://localhost:8080/"
        },
        "id": "AWQai-XwivwK",
        "outputId": "2228f4e3-7afd-4bea-eb3f-7032cfb31623"
      },
      "outputs": [
        {
          "output_type": "stream",
          "name": "stdout",
          "text": [
            "True\n"
          ]
        }
      ],
      "source": [
        "print(revenue_A != revenue_B)"
      ]
    },
    {
      "cell_type": "code",
      "execution_count": 3,
      "metadata": {
        "colab": {
          "base_uri": "https://localhost:8080/"
        },
        "id": "fHeEtjpoivwK",
        "outputId": "9b82b384-a8f3-40bd-f85d-89d49a44e55a"
      },
      "outputs": [
        {
          "output_type": "stream",
          "name": "stdout",
          "text": [
            "True\n"
          ]
        }
      ],
      "source": [
        "print(revenue_A > revenue_B)"
      ]
    },
    {
      "cell_type": "code",
      "execution_count": 4,
      "metadata": {
        "colab": {
          "base_uri": "https://localhost:8080/"
        },
        "id": "HGMfpLEQivwK",
        "outputId": "45710101-5df9-4dba-95ad-4dbffa160d62"
      },
      "outputs": [
        {
          "output_type": "stream",
          "name": "stdout",
          "text": [
            "False\n"
          ]
        }
      ],
      "source": [
        "print(revenue_A < revenue_B)"
      ]
    },
    {
      "cell_type": "markdown",
      "metadata": {
        "id": "OHTSxeq90GFt"
      },
      "source": [
        "# PRACTICE OPPORTUNITY SOLUTION"
      ]
    },
    {
      "cell_type": "markdown",
      "metadata": {
        "id": "_TkjGyHolLOh"
      },
      "source": [
        "**PRACTICE OPPORTUNITY SOLUTION:**\n",
        "- **1. Without executing the following code, what will this code generate?**\n",
        "\n",
        "```\n",
        "    revenue_A = 2500\n",
        "    revenue_B = 2000\n",
        "\n",
        "    print(revenue_A == revenue_B)\n",
        "    print(revenue_A != revenue_B)\n",
        "    print(revenue_A > revenue_B)\n",
        "    print(revenue_A < revenue_B)\n",
        "```\n",
        "- **2. Run the code and confirm that you have the correct answer**"
      ]
    },
    {
      "cell_type": "code",
      "execution_count": null,
      "metadata": {
        "id": "jI9I6Xv4lLOi",
        "outputId": "42676d71-0308-418e-ba6b-c1fb07b1a6bf"
      },
      "outputs": [
        {
          "name": "stdout",
          "output_type": "stream",
          "text": [
            "False\n",
            "True\n",
            "True\n",
            "False\n"
          ]
        }
      ],
      "source": [
        "revenue_A = 2500\n",
        "revenue_B = 2000\n",
        "\n",
        "print(revenue_A == revenue_B)\n",
        "print(revenue_A != revenue_B)\n",
        "print(revenue_A > revenue_B)\n",
        "print(revenue_A < revenue_B)"
      ]
    },
    {
      "cell_type": "markdown",
      "metadata": {
        "id": "qKamtDabivwL"
      },
      "source": [
        "# GREAT JOB!"
      ]
    }
  ],
  "metadata": {
    "colab": {
      "provenance": [],
      "include_colab_link": true
    },
    "kernelspec": {
      "display_name": "Python 3 (ipykernel)",
      "language": "python",
      "name": "python3"
    },
    "language_info": {
      "codemirror_mode": {
        "name": "ipython",
        "version": 3
      },
      "file_extension": ".py",
      "mimetype": "text/x-python",
      "name": "python",
      "nbconvert_exporter": "python",
      "pygments_lexer": "ipython3",
      "version": "3.8.8"
    }
  },
  "nbformat": 4,
  "nbformat_minor": 0
}