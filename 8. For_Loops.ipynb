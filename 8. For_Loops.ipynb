{
  "cells": [
    {
      "cell_type": "markdown",
      "metadata": {
        "id": "view-in-github",
        "colab_type": "text"
      },
      "source": [
        "<a href=\"https://colab.research.google.com/github/Aidi379/Python_fundamental/blob/main/8.%20For_Loops.ipynb\" target=\"_parent\"><img src=\"https://colab.research.google.com/assets/colab-badge.svg\" alt=\"Open In Colab\"/></a>"
      ]
    },
    {
      "cell_type": "code",
      "execution_count": 1,
      "metadata": {
        "colab": {
          "base_uri": "https://localhost:8080/"
        },
        "id": "fXZgL19PE8ii",
        "outputId": "ae2d3edb-c825-414b-d500-180e92fc0398"
      },
      "outputs": [
        {
          "output_type": "execute_result",
          "data": {
            "text/plain": [
              "['Company A', 'Company B', 'Company C', 'Company D']"
            ]
          },
          "metadata": {},
          "execution_count": 1
        }
      ],
      "source": [
        "# Let's define a python list that contains 4 different company names - A, B, C, and D\n",
        "company_names = ['Company A', 'Company B', 'Company C', 'Company D']\n",
        "company_names"
      ]
    },
    {
      "cell_type": "code",
      "execution_count": 2,
      "metadata": {
        "colab": {
          "base_uri": "https://localhost:8080/"
        },
        "id": "ZiP5IXatE8ij",
        "outputId": "cf437998-0a81-4b53-f6be-0b9960e1a0ec"
      },
      "outputs": [
        {
          "output_type": "stream",
          "name": "stdout",
          "text": [
            "Company A\n",
            "Company B\n",
            "Company C\n",
            "Company D\n"
          ]
        }
      ],
      "source": [
        "# Now we want to print all company names listed in \"company_names\" list\n",
        "# We can repeat the print function several times as shown below\n",
        "# This strategy involves writing many lines of code that perform the same \"print\" operation\n",
        "# Recall that python lists start with index = 0\n",
        "print(company_names[0])\n",
        "print(company_names[1])\n",
        "print(company_names[2])\n",
        "print(company_names[3])"
      ]
    },
    {
      "cell_type": "code",
      "execution_count": 3,
      "metadata": {
        "colab": {
          "base_uri": "https://localhost:8080/"
        },
        "id": "4xAOZA2HE8ij",
        "outputId": "8266fb0a-d477-499f-e3de-6deef93e921f"
      },
      "outputs": [
        {
          "output_type": "stream",
          "name": "stdout",
          "text": [
            "Company A\n",
            "Company B\n",
            "Company C\n",
            "Company D\n"
          ]
        }
      ],
      "source": [
        "# Alternatively, we can use loops to generate the same output\n",
        "# We can loop over company_names list and print them to the screen using for loops\n",
        "# Note that \"i\" is a temporary variable that is used within the \"For\" loop to carry company names\n",
        "for i in company_names:\n",
        "    print(i)"
      ]
    },
    {
      "cell_type": "code",
      "execution_count": 4,
      "metadata": {
        "colab": {
          "base_uri": "https://localhost:8080/"
        },
        "id": "A1hQNHLME8ik",
        "outputId": "17c2af4d-da12-483f-a505-d0ff2f48de2e"
      },
      "outputs": [
        {
          "output_type": "execute_result",
          "data": {
            "text/plain": [
              "[600000, 900000, 1000000, 1100000]"
            ]
          },
          "metadata": {},
          "execution_count": 4
        }
      ],
      "source": [
        "# We can also loop over a Python list that contains integers or floating points\n",
        "# Let's define another python list that contains revenues from companies listed in \"company_names\" list\n",
        "# i.e.: Company A revenue is 600000\n",
        "# i.e.: Company D revenue is 1100000\n",
        "company_revenues = [600000, 900000, 1000000, 1100000]\n",
        "company_revenues"
      ]
    },
    {
      "cell_type": "code",
      "execution_count": null,
      "metadata": {
        "colab": {
          "base_uri": "https://localhost:8080/"
        },
        "id": "R0jpLRvsJ4Yf",
        "outputId": "fba7e41b-682b-44c5-ad85-c66f77dd5607"
      },
      "outputs": [
        {
          "data": {
            "text/plain": [
              "3600000"
            ]
          },
          "execution_count": 6,
          "metadata": {},
          "output_type": "execute_result"
        }
      ],
      "source": [
        "# Let's loop over all company revenues and add them up\n",
        "# We can do this using \"For\" loops as well\n",
        "\n",
        "# Define an accumulator and initialize it to zero\n",
        "total_revenue = 0\n",
        "\n",
        "for i in company_revenues:\n",
        "    total_revenue = total_revenue + i\n",
        "\n",
        "total_revenue"
      ]
    },
    {
      "cell_type": "code",
      "execution_count": null,
      "metadata": {
        "id": "R1VDZ-SXE8ik",
        "outputId": "ca706f39-a699-4a84-ee1e-6295fa47f844"
      },
      "outputs": [
        {
          "data": {
            "text/plain": [
              "3600000"
            ]
          },
          "execution_count": 7,
          "metadata": {},
          "output_type": "execute_result"
        }
      ],
      "source": [
        "# Note that alternatively we can use the sum function to sum up all elements in the list\n",
        "sum(company_revenues)"
      ]
    },
    {
      "cell_type": "code",
      "execution_count": null,
      "metadata": {
        "id": "OQclRVKsE8ik",
        "outputId": "072a16aa-1ebc-4240-d8e5-5ddabf86c2c6"
      },
      "outputs": [
        {
          "name": "stdout",
          "output_type": "stream",
          "text": [
            "W\n",
            "e\n",
            "l\n",
            "c\n",
            "o\n",
            "m\n",
            "e\n",
            " \n",
            "t\n",
            "o\n",
            " \n",
            "P\n",
            "y\n",
            "t\n",
            "h\n",
            "o\n",
            "n\n",
            " \n",
            "P\n",
            "r\n",
            "o\n",
            "g\n",
            "r\n",
            "a\n",
            "m\n",
            "m\n",
            "i\n",
            "n\n",
            "g\n",
            " \n",
            "F\n",
            "u\n",
            "n\n",
            "d\n",
            "a\n",
            "m\n",
            "e\n",
            "n\n",
            "t\n",
            "a\n",
            "l\n",
            "s\n",
            " \n",
            "C\n",
            "o\n",
            "u\n",
            "r\n",
            "s\n",
            "e\n"
          ]
        }
      ],
      "source": [
        "# We can also use \"For\" loops to iterate over characters of a Python string\n",
        "message = 'Welcome to Python Programming Fundamentals Course'\n",
        "for character in message:\n",
        "    print(character)"
      ]
    },
    {
      "cell_type": "markdown",
      "metadata": {
        "id": "ICcOY77XE8ik"
      },
      "source": [
        "**PRACTICE OPPORTUNITY:**\n",
        "- **Write a python code that performs the following tasks:**\n",
        "    - **1. Defines a list named \"my_list\" that contains the following values: 10, 5, 3**\n",
        "    - **2. Multiplies all elements in the list using for loops**\n",
        "    - **3. Confirm your answer by leveraging the multiplication operation defined in the math module [External Research is Required]**"
      ]
    },
    {
      "cell_type": "code",
      "execution_count": 6,
      "metadata": {
        "id": "b_NU7mBfa-SB",
        "colab": {
          "base_uri": "https://localhost:8080/"
        },
        "outputId": "181a2853-88c7-4fd1-95b9-531633933d15"
      },
      "outputs": [
        {
          "output_type": "execute_result",
          "data": {
            "text/plain": [
              "[10, 5, 3]"
            ]
          },
          "metadata": {},
          "execution_count": 6
        }
      ],
      "source": [
        "my_list = [10,5,3]\n",
        "my_list"
      ]
    },
    {
      "cell_type": "code",
      "execution_count": 7,
      "metadata": {
        "colab": {
          "base_uri": "https://localhost:8080/"
        },
        "id": "b0TIfH2JE8il",
        "outputId": "485e486e-1cfd-4fcb-89c5-69eaad2b544b"
      },
      "outputs": [
        {
          "output_type": "stream",
          "name": "stdout",
          "text": [
            "150\n"
          ]
        }
      ],
      "source": [
        "result = 1\n",
        "\n",
        "for i in my_list:\n",
        "  result = result * i\n",
        "\n",
        "print(result)"
      ]
    },
    {
      "cell_type": "code",
      "execution_count": 10,
      "metadata": {
        "colab": {
          "base_uri": "https://localhost:8080/"
        },
        "id": "6V4Q9qRQE8il",
        "outputId": "902d476b-3a2b-433f-c8fb-2431fd8803c2"
      },
      "outputs": [
        {
          "output_type": "execute_result",
          "data": {
            "text/plain": [
              "150"
            ]
          },
          "metadata": {},
          "execution_count": 10
        }
      ],
      "source": [
        "import math\n",
        "math.prod(my_list)"
      ]
    },
    {
      "cell_type": "code",
      "execution_count": null,
      "metadata": {
        "id": "qN4ctTdyE8il"
      },
      "outputs": [],
      "source": []
    },
    {
      "cell_type": "code",
      "execution_count": null,
      "metadata": {
        "id": "lN_56M3kE8il"
      },
      "outputs": [],
      "source": []
    },
    {
      "cell_type": "markdown",
      "metadata": {
        "id": "aXkGeaUza3d0"
      },
      "source": [
        "# PRACTICE OPPORTUNITY SOLUTION"
      ]
    },
    {
      "cell_type": "markdown",
      "metadata": {
        "id": "Pc-Wifl4a_hA"
      },
      "source": [
        "**PRACTICE OPPORTUNITY SOLUTION:**\n",
        "- **Write a Python code that:**\n",
        "    - **1. Defines a list named \"my_list\" that contains the following values: 10, 5, 3**\n",
        "    - **2. Multiplies all elements in the list using For loops**\n",
        "    - **3. Confirm your answer by leveraging the multiplication operation defined in the math module [External Research is Required]**"
      ]
    },
    {
      "cell_type": "code",
      "execution_count": null,
      "metadata": {
        "id": "ZVy77WA2a5QC"
      },
      "outputs": [],
      "source": [
        "# Define the python list\n",
        "my_list = [10, 5, 3]"
      ]
    },
    {
      "cell_type": "code",
      "execution_count": null,
      "metadata": {
        "id": "HGBVhJGOE8il",
        "outputId": "6cf389eb-7fe4-46bd-ca5a-dabc7c0f4dfb"
      },
      "outputs": [
        {
          "data": {
            "text/plain": [
              "150"
            ]
          },
          "execution_count": 10,
          "metadata": {},
          "output_type": "execute_result"
        }
      ],
      "source": [
        "# Initialize the accumulator to 1\n",
        "product = 1\n",
        "\n",
        "for i in my_list:\n",
        "    product = product * i\n",
        "\n",
        "product"
      ]
    },
    {
      "cell_type": "code",
      "execution_count": null,
      "metadata": {
        "id": "Nb5dH_wVE8im",
        "outputId": "ceb674b2-51f5-4000-85e6-84596f440899"
      },
      "outputs": [
        {
          "data": {
            "text/plain": [
              "150"
            ]
          },
          "execution_count": 11,
          "metadata": {},
          "output_type": "execute_result"
        }
      ],
      "source": [
        "import math\n",
        "math.prod(my_list)"
      ]
    },
    {
      "cell_type": "markdown",
      "metadata": {
        "id": "SaJXRUs9E8im"
      },
      "source": [
        "# Excellent Job!"
      ]
    }
  ],
  "metadata": {
    "colab": {
      "provenance": [],
      "include_colab_link": true
    },
    "kernelspec": {
      "display_name": "Python 3 (ipykernel)",
      "language": "python",
      "name": "python3"
    },
    "language_info": {
      "codemirror_mode": {
        "name": "ipython",
        "version": 3
      },
      "file_extension": ".py",
      "mimetype": "text/x-python",
      "name": "python",
      "nbconvert_exporter": "python",
      "pygments_lexer": "ipython3",
      "version": "3.8.8"
    },
    "vscode": {
      "interpreter": {
        "hash": "aee8b7b246df8f9039afb4144a1f6fd8d2ca17a180786b69acc140d282b71a49"
      }
    }
  },
  "nbformat": 4,
  "nbformat_minor": 0
}