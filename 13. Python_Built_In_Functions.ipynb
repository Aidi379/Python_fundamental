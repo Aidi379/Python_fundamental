{
  "cells": [
    {
      "cell_type": "markdown",
      "metadata": {
        "id": "view-in-github",
        "colab_type": "text"
      },
      "source": [
        "<a href=\"https://colab.research.google.com/github/Aidi379/Python_fundamental/blob/main/13.%20Python_Built_In_Functions.ipynb\" target=\"_parent\"><img src=\"https://colab.research.google.com/assets/colab-badge.svg\" alt=\"Open In Colab\"/></a>"
      ]
    },
    {
      "cell_type": "markdown",
      "metadata": {
        "id": "0NeWR08BC6g7"
      },
      "source": [
        "Check out the documentation: https://docs.python.org/3.9/library/functions.html"
      ]
    },
    {
      "cell_type": "code",
      "execution_count": null,
      "metadata": {
        "id": "e027nLRtKclL"
      },
      "outputs": [],
      "source": [
        "# Let's define a python list as follows:\n",
        "company_revenue = [600000, 900000, 1000000, 1100000, 1500000, 1500000, 1760000, 1800000, 8000000, 50000000 ]"
      ]
    },
    {
      "cell_type": "code",
      "execution_count": null,
      "metadata": {
        "colab": {
          "base_uri": "https://localhost:8080/"
        },
        "id": "B_q1ds-xKcnQ",
        "outputId": "a6a90906-02cb-46da-fff1-09fd5de22475"
      },
      "outputs": [
        {
          "name": "stdout",
          "output_type": "stream",
          "text": [
            "[600000, 900000, 1000000, 1100000, 1500000, 1500000, 1760000, 1800000, 8000000, 50000000]\n"
          ]
        }
      ],
      "source": [
        "# Display the list\n",
        "print(company_revenue)"
      ]
    },
    {
      "cell_type": "code",
      "execution_count": null,
      "metadata": {
        "colab": {
          "base_uri": "https://localhost:8080/"
        },
        "id": "sOb6YyohK3XA",
        "outputId": "2be3b4bc-99c8-4418-ede1-d790ce6daa7c"
      },
      "outputs": [
        {
          "data": {
            "text/plain": [
              "10"
            ]
          },
          "execution_count": 4,
          "metadata": {},
          "output_type": "execute_result"
        }
      ],
      "source": [
        "# Let's start testing some python built-in functions\n",
        "# Let's obtain the the number of companies available in our list using the len() built-in function\n",
        "len(company_revenue)"
      ]
    },
    {
      "cell_type": "code",
      "execution_count": null,
      "metadata": {
        "colab": {
          "base_uri": "https://localhost:8080/"
        },
        "id": "E2d-scjBK3f_",
        "outputId": "bd61e8eb-5d9d-4bb9-a055-6155e23fe34b"
      },
      "outputs": [
        {
          "data": {
            "text/plain": [
              "600000"
            ]
          },
          "execution_count": 5,
          "metadata": {},
          "output_type": "execute_result"
        }
      ],
      "source": [
        "# Let's obtain the minimum value in a python list using the min() built-in function\n",
        "min(company_revenue)"
      ]
    },
    {
      "cell_type": "code",
      "execution_count": null,
      "metadata": {
        "colab": {
          "base_uri": "https://localhost:8080/"
        },
        "id": "MPcUuoY6K3id",
        "outputId": "20ef70d2-6272-4932-da22-fba61b155a01"
      },
      "outputs": [
        {
          "data": {
            "text/plain": [
              "50000000"
            ]
          },
          "execution_count": 6,
          "metadata": {},
          "output_type": "execute_result"
        }
      ],
      "source": [
        "# max() function is used to find the maximum revenue from the given list\n",
        "max(company_revenue)"
      ]
    },
    {
      "cell_type": "code",
      "execution_count": null,
      "metadata": {
        "colab": {
          "base_uri": "https://localhost:8080/"
        },
        "id": "NYVetBn-Kcpk",
        "outputId": "2c04ebf6-8c50-4103-ace5-1c47d4df475e"
      },
      "outputs": [
        {
          "data": {
            "text/plain": [
              "68160000"
            ]
          },
          "execution_count": 7,
          "metadata": {},
          "output_type": "execute_result"
        }
      ],
      "source": [
        "# Let's use the built-in sum() function to sum up all elements in the list\n",
        "sum(company_revenue)"
      ]
    },
    {
      "cell_type": "code",
      "execution_count": null,
      "metadata": {
        "id": "DDFDv3_zC6g-",
        "outputId": "48405bb9-f59f-4f2e-e45e-1401089371cf"
      },
      "outputs": [
        {
          "data": {
            "text/plain": [
              "[600000,\n",
              " 900000,\n",
              " 1000000,\n",
              " 1100000,\n",
              " 1500000,\n",
              " 1500000,\n",
              " 1760000,\n",
              " 1800000,\n",
              " 8000000,\n",
              " 50000000]"
            ]
          },
          "execution_count": 8,
          "metadata": {},
          "output_type": "execute_result"
        }
      ],
      "source": [
        "# We can sort the company_revenue list in an ascending order using the sorted() function\n",
        "sorted(company_revenue)"
      ]
    },
    {
      "cell_type": "code",
      "execution_count": null,
      "metadata": {
        "id": "VkKe-jBxC6g-",
        "outputId": "685c3304-5378-4e65-a728-189e529c4d58"
      },
      "outputs": [
        {
          "name": "stdout",
          "output_type": "stream",
          "text": [
            "87694.35\n"
          ]
        }
      ],
      "source": [
        "# Let's assume we want to round the values to two decimal places, we can leverage round() function\n",
        "cost = 87694.3456\n",
        "print(round(cost, 2))"
      ]
    },
    {
      "cell_type": "markdown",
      "metadata": {
        "id": "CvaYA-XocFOc"
      },
      "source": [
        "**PRACTICE OPPORTUNITY:**\n",
        "- **Using Python built-in functions, write a code that takes in the following 2 lists and calculates the absolute sum of all their elements |x+y|.**\n",
        "    - **A = [ -10  -30  -80.6  70  21.9]**\n",
        "    - **B = [ -3  7.3  4.7  6  8]**\n",
        "- **Round your answer to the nearest whole number.**"
      ]
    },
    {
      "cell_type": "code",
      "execution_count": 3,
      "metadata": {
        "colab": {
          "base_uri": "https://localhost:8080/"
        },
        "id": "raN3Ul_JC6g_",
        "outputId": "ce44022e-a5f0-4185-81a4-ef580155f259"
      },
      "outputs": [
        {
          "output_type": "execute_result",
          "data": {
            "text/plain": [
              "6"
            ]
          },
          "metadata": {},
          "execution_count": 3
        }
      ],
      "source": [
        "A = [ -10, -30, -80.6, 70, 21.9]\n",
        "B = [ -3, 7.3, 4.7, 6, 8]\n",
        "round(abs(sum(A+B)))"
      ]
    },
    {
      "cell_type": "markdown",
      "metadata": {
        "id": "BTLG7E2YeYIu"
      },
      "source": [
        "# PRACTICE OPPORTUNITIES SOLUTIONS"
      ]
    },
    {
      "cell_type": "markdown",
      "metadata": {
        "id": "9qvGX0FeC6hA"
      },
      "source": [
        "**PRACTICE OPPORTUNITY SOLUTION:**\n",
        "- **Using Python built-in functions, write a code that takes in the following 2 lists and calculates the absolute sum of all their elements |x+y|.**\n",
        "    - **A = [ -10  -30  -80.6  70  21.9]**\n",
        "    - **B = [ -3  7.3  4.7  6  8]**\n",
        "- **Round your answer to the nearest whole number.**\n"
      ]
    },
    {
      "cell_type": "code",
      "execution_count": null,
      "metadata": {
        "id": "ReLT4tijC6hA",
        "outputId": "6c0b3735-b359-4a5e-8e41-e2125f68154a"
      },
      "outputs": [
        {
          "data": {
            "text/plain": [
              "5.699999999999996"
            ]
          },
          "execution_count": 1,
          "metadata": {},
          "output_type": "execute_result"
        }
      ],
      "source": [
        "# Note that spaces are for code readabilty and they won't make a difference in the output\n",
        "A = [-10, -30, -80.6, 70, 21.9]\n",
        "B = [-3, 7.3, 4.7, 6, 8]\n",
        "\n",
        "C = abs( sum(A + B) )\n",
        "C"
      ]
    },
    {
      "cell_type": "code",
      "execution_count": null,
      "metadata": {
        "id": "6bSV7cloC6hB",
        "outputId": "ab63e734-a771-4767-9508-05352da4c4a2"
      },
      "outputs": [
        {
          "data": {
            "text/plain": [
              "6"
            ]
          },
          "execution_count": 2,
          "metadata": {},
          "output_type": "execute_result"
        }
      ],
      "source": [
        "# Round the answer to the nearest integer\n",
        "round(C)"
      ]
    },
    {
      "cell_type": "code",
      "execution_count": null,
      "metadata": {
        "id": "7PY8ZNA5C6hB",
        "outputId": "7ebef1b1-aa67-4651-d187-f5d241753854"
      },
      "outputs": [
        {
          "data": {
            "text/plain": [
              "6"
            ]
          },
          "execution_count": 3,
          "metadata": {},
          "output_type": "execute_result"
        }
      ],
      "source": [
        "# Alternatively, you can use this code instead\n",
        "# Note that if you use abs(A), an error will be generated because absolute works well with scalar values and do not work with Python Lists\n",
        "round(abs(sum(A) + sum(B)))"
      ]
    },
    {
      "cell_type": "markdown",
      "metadata": {
        "id": "kS2sMQvbC6hB"
      },
      "source": [
        "# EXCELLENT JOB!"
      ]
    },
    {
      "cell_type": "code",
      "execution_count": 4,
      "metadata": {
        "colab": {
          "base_uri": "https://localhost:8080/"
        },
        "id": "UdqzYX8PC6hE",
        "outputId": "361ac519-a197-4738-c734-0e330e706b79"
      },
      "outputs": [
        {
          "output_type": "stream",
          "name": "stdout",
          "text": [
            "4\n",
            "19\n",
            "8\n"
          ]
        }
      ],
      "source": [
        "x = [1, 4, 6, 8]\n",
        "print(len(x))\n",
        "print(sum(x))\n",
        "print(max(x))"
      ]
    },
    {
      "cell_type": "code",
      "execution_count": null,
      "metadata": {
        "id": "T4sRLlRHC6hE"
      },
      "outputs": [],
      "source": []
    }
  ],
  "metadata": {
    "colab": {
      "provenance": [],
      "include_colab_link": true
    },
    "kernelspec": {
      "display_name": "Python 3 (ipykernel)",
      "language": "python",
      "name": "python3"
    },
    "language_info": {
      "codemirror_mode": {
        "name": "ipython",
        "version": 3
      },
      "file_extension": ".py",
      "mimetype": "text/x-python",
      "name": "python",
      "nbconvert_exporter": "python",
      "pygments_lexer": "ipython3",
      "version": "3.8.8"
    },
    "vscode": {
      "interpreter": {
        "hash": "aee8b7b246df8f9039afb4144a1f6fd8d2ca17a180786b69acc140d282b71a49"
      }
    }
  },
  "nbformat": 4,
  "nbformat_minor": 0
}